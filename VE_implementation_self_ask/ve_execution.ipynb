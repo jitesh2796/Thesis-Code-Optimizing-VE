{
 "cells": [
  {
   "cell_type": "code",
   "execution_count": 1,
   "metadata": {},
   "outputs": [],
   "source": [
    "### Module 0: Importing Libraries\n",
    "import pandas as pd\n",
    "import numpy as np\n",
    "import pprint\n",
    "import os \n",
    "from time import time \n",
    "from dotenv import load_dotenv\n",
    "import json\n",
    "import argparse\n",
    "from tqdm import tqdm\n",
    "import numpy as np\n",
    "import matplotlib.pyplot as plt\n",
    "import seaborn as sns\n",
    "\n",
    "from openai import OpenAI\n",
    "import certifi\n",
    "\n",
    "## Importing VE libraries\n",
    "from utils import *\n",
    "from dataset_utils import read_wikiqa_data\n",
    "from prompt_helper import get_joint_prompt_helper, normalize_prediction\n",
    "from dataset_utils import read_wikiqa_data, wiki_evaluation\n",
    "# Override bad SSL_CERT_FILE if set\n",
    "os.environ[\"SSL_CERT_FILE\"] = certifi.where()"
   ]
  },
  {
   "cell_type": "code",
   "execution_count": 2,
   "metadata": {},
   "outputs": [],
   "source": [
    "def _parse_args():\n",
    "    parser = argparse.ArgumentParser()\n",
    "    parser.add_argument('--style', type=str, default=\"e-p\")\n",
    "    parser.add_argument('--annotation', type=str, default=\"std\")\n",
    "    parser.add_argument('--run_prediction', default=False, action='store_true')\n",
    "    parser.add_argument('--num_shot', type=int, default=5)\n",
    "    parser.add_argument('--train_slice', type=int, default=0)\n",
    "    parser.add_argument('--num_dev', type=int, default=3)\n",
    "    parser.add_argument('--dev_slice', type=int, default=0)\n",
    "    parser.add_argument('--show_result', default=False, action='store_true')\n",
    "    parser.add_argument('--model', type=str, default=\"gpt3.5\")\n",
    "    parser.add_argument('--temperature', type=float, default=0.7)\n",
    "    parser.add_argument('--plot_consistency', default=False, action='store_true')\n",
    "    parser.add_argument('--engine', type=str, default=\"gpt-3.5-turbo-0125\")\n",
    "    parser.add_argument('--run_length_test', default=False)\n",
    "\n",
    "    args, _ = parser.parse_known_args()\n",
    "    args.helper = get_joint_prompt_helper(args.style)\n",
    "    return args"
   ]
  },
  {
   "cell_type": "code",
   "execution_count": 3,
   "metadata": {},
   "outputs": [
    {
     "data": {
      "text/plain": [
       "Namespace(style='e-p', annotation='std', run_prediction=False, num_shot=5, train_slice=0, num_dev=3, dev_slice=0, show_result=False, model='gpt3.5', temperature=0.7, plot_consistency=False, engine='gpt-3.5-turbo-0125', run_length_test=False, helper=<prompt_helper.JointEandPPromptHelper object at 0x310cd1a30>)"
      ]
     },
     "execution_count": 3,
     "metadata": {},
     "output_type": "execute_result"
    }
   ],
   "source": [
    "args = _parse_args()\n",
    "args"
   ]
  },
  {
   "cell_type": "code",
   "execution_count": 4,
   "metadata": {},
   "outputs": [],
   "source": [
    "from consistency import test_few_shot_manual_prediction as consistency_test_few_shot_manual_prediction"
   ]
  },
  {
   "cell_type": "code",
   "execution_count": 5,
   "metadata": {},
   "outputs": [
    {
     "name": "stdout",
     "output_type": "stream",
     "text": [
      "Running prediction\n",
      "7 not found\n",
      "prompt: \n",
      "\n",
      "Question: Who lived longer, Theodor Haecker or Harry Vaughan Watkins? \n",
      "A: Are follow up questions needed here: Yes.\n",
      "Follow up: How old was Theodor Haecker when he died?\n",
      "Intermediate answer: Theodor Haecker was 65 years old when he died.\n",
      "Follow up: How old was Harry Vaughan Watkins when he died?\n",
      "Intermediate answer: Harry Vaughan Watkins was 69 years old when he died.\n",
      "So the final answer is: Harry Vaughan Watkins.\n",
      "Question: Why did the founder of Versus die?\n",
      "A: Are follow up questions needed here: Yes. \n",
      "Follow up: Who founded Versus? \n",
      "Intermediate answer: Gianni Versace.\n",
      "Follow up: Why did Gianni Versace die?\n",
      "Intermediate answer: Gianni Versace was shot and killed on the steps of his Miami Beach mansion on July 15, 1997.\n",
      "So the final answer is: Shot.\n",
      "Question: Who is the grandchild of Dambar Shah?\n",
      "A: Are follow up questions needed here: Yes.\n",
      "Follow up: Who is the child of Dambar Shah?\n",
      "Intermediate answer: Dambar Shah (? - 1645) was the king of the Gorkha Kingdom. He was the father of Krishna Shah.\n",
      "Follow up: Who is the child of Krishna Shah?\n",
      "Intermediate answer: Krishna Shah (? - 1661) was the king of the Gorkha Kingdom. He was the father of Rudra Shah.\n",
      "So the final answer is: Rudra Shah.\n",
      "Question: Are both director of film FAQ: Frequently Asked Questions and director of film The Big Money from the same country?\n",
      "A: Are follow up questions needed here: Yes.\n",
      "Follow up: Who directed the film FAQ: Frequently Asked Questions?\n",
      "Intermediate answer: Carlos Atanes.\n",
      "Follow up: Who directed the film The Big Money?\n",
      "Intermediate answer: John Paddy Carstairs.\n",
      "Follow up: What is the nationality of Carlos Atanes?\n",
      "Intermediate answer: Carlos Atanes is Spanish.\n",
      "Follow up: What is the nationality of John Paddy Carstairs? \n",
      "Intermediate answer: John Paddy Carstairs is British.\n",
      "So the final answer is: No.\n",
      "\n",
      "Question: Where was the performer of song Get A Life – Get Alive born?\n",
      "A:\n"
     ]
    },
    {
     "name": "stderr",
     "output_type": "stream",
     "text": [
      "Predicting: 100%|██████████| 3/3 [00:04<00:00,  1.46s/it]\n",
      "Verifying: 100%|██████████| 3/3 [00:00<00:00, 12545.28it/s]\n",
      "/Library/Frameworks/Python.framework/Versions/3.12/lib/python3.12/site-packages/numpy/core/fromnumeric.py:3504: RuntimeWarning: Mean of empty slice.\n",
      "  return _methods._mean(a, axis=axis, dtype=dtype,\n",
      "/Library/Frameworks/Python.framework/Versions/3.12/lib/python3.12/site-packages/numpy/core/_methods.py:129: RuntimeWarning: invalid value encountered in scalar divide\n",
      "  ret = ret.dtype.type(ret / rcount)\n",
      "/Library/Frameworks/Python.framework/Versions/3.12/lib/python3.12/site-packages/numpy/core/_methods.py:206: RuntimeWarning: Degrees of freedom <= 0 for slice\n",
      "  ret = _var(a, axis=axis, dtype=dtype, out=out, ddof=ddof,\n",
      "/Library/Frameworks/Python.framework/Versions/3.12/lib/python3.12/site-packages/numpy/core/_methods.py:163: RuntimeWarning: invalid value encountered in divide\n",
      "  arrmean = um.true_divide(arrmean, div, out=arrmean,\n",
      "/Library/Frameworks/Python.framework/Versions/3.12/lib/python3.12/site-packages/numpy/core/_methods.py:198: RuntimeWarning: invalid value encountered in scalar divide\n",
      "  ret = ret.dtype.type(ret / rcount)\n"
     ]
    },
    {
     "name": "stdout",
     "output_type": "stream",
     "text": [
      "--------------0 EX False RAT False F1 0.00 CONS 0.20--------------\n",
      "question:  Where was the performer of song Get A Life – Get Alive born?\n",
      "0: Are follow up questions needed here: Yes.\n",
      "Follow up: Who is the performer of the song Get A Life - Get Alive?\n",
      "Intermediate answer: The performer of the song Get A Life - Get Alive is George McCrae.\n",
      "Follow up: Where was George McCrae born?\n",
      "Intermediate answer: George McCrae was born in West Palm Beach, Florida, United States. | West Palm Beach, Florida, United States\n",
      "1: Are follow up questions needed here: Yes.\n",
      "Follow up: Who is the performer of the song \"Get A Life - Get Alive\"?\n",
      "Intermediate answer: The performer of the song \"Get A Life - Get Alive\" is Inner Circle.\n",
      "Follow up: Where was Inner Circle born?\n",
      "Intermediate answer: Inner Circle was formed in Kingston, Jamaica. | Kingston, Jamaica\n",
      "2: Are follow up questions needed here: Yes.\n",
      "Follow up: Who is the performer of the song Get A Life - Get Alive?\n",
      "Intermediate answer: The performer of the song Get A Life - Get Alive is Pete Burns.\n",
      "Follow up: Where was Pete Burns born?\n",
      "Intermediate answer: Pete Burns was born in Port Sunlight, Cheshire, England. | England\n",
      "3: Are follow up questions needed here: Yes.\n",
      "Follow up: Who performed the song \"Get A Life - Get Alive\"?\n",
      "Intermediate answer: Bryan Adams.\n",
      "Follow up: Where was Bryan Adams born?\n",
      "Intermediate answer: Bryan Adams was born in Kingston, Ontario, Canada. | Kingston, Ontario, Canada\n",
      "4: Are follow up questions needed here: Yes.\n",
      "Follow up: Who is the performer of the song Get A Life - Get Alive?\n",
      "Intermediate answer: The performer of the song Get A Life - Get Alive is Moby.\n",
      "Follow up: Where was Moby born?\n",
      "Intermediate answer: Moby was born in Harlem, New York City, USA. | Harlem, New York City, USA\n",
      "PR ANS: West Palm Beach, Florida, United States\n",
      "PR RAT: Are follow up questions needed here: Yes.\n",
      "Follow up: Who is the performer of the song Get A Life - Get Alive?\n",
      "Intermediate answer: The performer of the song Get A Life - Get Alive is George McCrae.\n",
      "Follow up: Where was George McCrae born?\n",
      "Intermediate answer: George McCrae was born in West Palm Beach, Florida, United States.\n",
      "GT ANS: Vöcklabruck\n",
      "{\"qas_id\": \"1ee47f380bde11eba7f7acde48001122\", \"answer\": \"West Palm Beach, Florida, United States\"}\n",
      "--------------1 EX False RAT False F1 0.00 CONS 0.40--------------\n",
      "question:  Where did the director of film Don Juan (1922 Film) die?\n",
      "0: Are follow up questions needed here: Yes.\n",
      "Follow up: Who directed the film Don Juan (1922 Film)?\n",
      "Intermediate answer: Alan Crosland.\n",
      "Follow up: Where did Alan Crosland die?\n",
      "Intermediate answer: Alan Crosland died in Hollywood, California. | Hollywood, California\n",
      "1: Are follow up questions needed here: Yes.\n",
      "Follow up: Who directed the film Don Juan (1922 Film)?\n",
      "Intermediate answer: Alan Crosland.\n",
      "Follow up: Where did Alan Crosland die?\n",
      "Intermediate answer: Alan Crosland died in Hollywood, California, United States. | Hollywood, California, United States\n",
      "2: Are follow up questions needed here: Yes.\n",
      "Follow up: Who directed the film Don Juan (1922 Film)?\n",
      "Intermediate answer: Alan Crosland.\n",
      "Follow up: Where did Alan Crosland die?\n",
      "Intermediate answer: Alan Crosland died in Hollywood, California, USA. | Hollywood, California, USA\n",
      "3: none | NOT ENOUGH INFO\n",
      "4: Are follow up questions needed here: Yes.\n",
      "Follow up: Who directed the film Don Juan (1922 Film)?\n",
      "Intermediate answer: Alan Crosland.\n",
      "Follow up: Where did Alan Crosland die?\n",
      "Intermediate answer: Alan Crosland died in Hollywood, California, United States. | Hollywood, California, United States\n",
      "PR ANS: Hollywood, California, United States\n",
      "PR RAT: Are follow up questions needed here: Yes.\n",
      "Follow up: Who directed the film Don Juan (1922 Film)?\n",
      "Intermediate answer: Alan Crosland.\n",
      "Follow up: Where did Alan Crosland die?\n",
      "Intermediate answer: Alan Crosland died in Hollywood, California, United States.\n",
      "GT ANS: Westerland\n",
      "{\"qas_id\": \"49eb87280bdc11eba7f7acde48001122\", \"answer\": \"Hollywood, California, United States\"}\n",
      "--------------2 EX False RAT False F1 0.00 CONS 0.60--------------\n",
      "question:  What is the place of birth of the composer of film Naayudamma?\n",
      "0: none | NOT ENOUGH INFO\n",
      "1: Are follow up questions needed here: Yes.\n",
      "Follow up: Who is the composer of the film Naayudamma?\n",
      "Intermediate answer: K. Chakravarthy.\n",
      "Follow up: What is the place of birth of K. Chakravarthy?\n",
      "Intermediate answer: K. Chakravarthy was born in Andhra Pradesh, India. | Andhra Pradesh, India\n",
      "2: Are follow up questions needed here: Yes.\n",
      "Follow up: Who is the composer of the film Naayudamma?\n",
      "Intermediate answer: Pendyala Nageswara Rao.\n",
      "Follow up: What is the nationality of Pendyala Nageswara Rao?\n",
      "Intermediate answer: Pendyala Nageswara Rao was Indian.\n",
      "Follow up: What is the birthplace of Pendyala Nageswara Rao?\n",
      "Intermediate answer: Pendyala Nageswara Rao was born in Vijayanagaram, Andhra Pradesh, India. | Vijayanagaram, Andhra Pradesh, India\n",
      "3: none | NOT ENOUGH INFO\n",
      "4: none | NOT ENOUGH INFO\n",
      "PR ANS: NOT ENOUGH INFO\n",
      "PR RAT: none\n",
      "GT ANS: Tamil\n",
      "{\"qas_id\": \"2e17069c0bde11eba7f7acde48001122\", \"answer\": \"NOT ENOUGH INFO\"}\n",
      "EX 0.0 RAT 0.0\n",
      "F1: 0.00 PR: 0.00 RE: 0.00\n",
      "consistencies: mean 0.4000000000000001 and std 0.1632993161855452\n",
      "consistencies for true predictions: mean nan and std nan\n",
      "consistencies for false predictions: mean 0.4000000000000001 and std 0.1632993161855452\n"
     ]
    },
    {
     "ename": "FileNotFoundError",
     "evalue": "[Errno 2] No such file or directory: '/Users/jiteshsingla/Documents/MS Research Final Topic/Implementation/VE_implementation_self_ask/log/consistency_2.png'",
     "output_type": "error",
     "traceback": [
      "\u001b[0;31m---------------------------------------------------------------------------\u001b[0m",
      "\u001b[0;31mFileNotFoundError\u001b[0m                         Traceback (most recent call last)",
      "Cell \u001b[0;32mIn[5], line 1\u001b[0m\n\u001b[0;32m----> 1\u001b[0m \u001b[43mconsistency_test_few_shot_manual_prediction\u001b[49m\u001b[43m(\u001b[49m\u001b[43margs\u001b[49m\u001b[43m)\u001b[49m\n",
      "File \u001b[0;32m~/Documents/MS Research Final Topic/Implementation/VE_implementation_self_ask/consistency.py:246\u001b[0m, in \u001b[0;36mtest_few_shot_manual_prediction\u001b[0;34m(args)\u001b[0m\n\u001b[1;32m    243\u001b[0m df \u001b[38;5;241m=\u001b[39m pd\u001b[38;5;241m.\u001b[39mDataFrame\u001b[38;5;241m.\u001b[39mfrom_dict({\u001b[38;5;124m'\u001b[39m\u001b[38;5;124mlabel\u001b[39m\u001b[38;5;124m'\u001b[39m: [\u001b[38;5;124m'\u001b[39m\u001b[38;5;124mcorrect\u001b[39m\u001b[38;5;124m'\u001b[39m]\u001b[38;5;241m*\u001b[39m\u001b[38;5;28mlen\u001b[39m(true_cons) \u001b[38;5;241m+\u001b[39m [\u001b[38;5;124m'\u001b[39m\u001b[38;5;124mincorrect\u001b[39m\u001b[38;5;124m'\u001b[39m]\u001b[38;5;241m*\u001b[39m\u001b[38;5;28mlen\u001b[39m(false_cons) \u001b[38;5;241m+\u001b[39m [\u001b[38;5;124m'\u001b[39m\u001b[38;5;124moverall\u001b[39m\u001b[38;5;124m'\u001b[39m]\u001b[38;5;241m*\u001b[39m(\u001b[38;5;28mlen\u001b[39m(true_cons)\u001b[38;5;241m+\u001b[39m\u001b[38;5;28mlen\u001b[39m(false_cons))\\\n\u001b[1;32m    244\u001b[0m     , \u001b[38;5;124m'\u001b[39m\u001b[38;5;124mconsistency\u001b[39m\u001b[38;5;124m'\u001b[39m: true_cons \u001b[38;5;241m+\u001b[39m false_cons \u001b[38;5;241m+\u001b[39m cons})\n\u001b[1;32m    245\u001b[0m sns\u001b[38;5;241m.\u001b[39mdisplot(df, x\u001b[38;5;241m=\u001b[39m\u001b[38;5;124m\"\u001b[39m\u001b[38;5;124mconsistency\u001b[39m\u001b[38;5;124m\"\u001b[39m, hue\u001b[38;5;241m=\u001b[39m\u001b[38;5;124m\"\u001b[39m\u001b[38;5;124mlabel\u001b[39m\u001b[38;5;124m\"\u001b[39m, kind\u001b[38;5;241m=\u001b[39m\u001b[38;5;124m\"\u001b[39m\u001b[38;5;124mkde\u001b[39m\u001b[38;5;124m\"\u001b[39m, fill\u001b[38;5;241m=\u001b[39m\u001b[38;5;28;01mTrue\u001b[39;00m)\n\u001b[0;32m--> 246\u001b[0m \u001b[43mplt\u001b[49m\u001b[38;5;241;43m.\u001b[39;49m\u001b[43msavefig\u001b[49m\u001b[43m(\u001b[49m\u001b[38;5;124;43mf\u001b[39;49m\u001b[38;5;124;43m\"\u001b[39;49m\u001b[38;5;124;43mlog/consistency_2.png\u001b[39;49m\u001b[38;5;124;43m\"\u001b[39;49m\u001b[43m)\u001b[49m\n\u001b[1;32m    249\u001b[0m \u001b[38;5;28;01mreturn\u001b[39;00m predictions, true_cons, false_cons\n",
      "File \u001b[0;32m/Library/Frameworks/Python.framework/Versions/3.12/lib/python3.12/site-packages/matplotlib/pyplot.py:1243\u001b[0m, in \u001b[0;36msavefig\u001b[0;34m(*args, **kwargs)\u001b[0m\n\u001b[1;32m   1240\u001b[0m fig \u001b[38;5;241m=\u001b[39m gcf()\n\u001b[1;32m   1241\u001b[0m \u001b[38;5;66;03m# savefig default implementation has no return, so mypy is unhappy\u001b[39;00m\n\u001b[1;32m   1242\u001b[0m \u001b[38;5;66;03m# presumably this is here because subclasses can return?\u001b[39;00m\n\u001b[0;32m-> 1243\u001b[0m res \u001b[38;5;241m=\u001b[39m \u001b[43mfig\u001b[49m\u001b[38;5;241;43m.\u001b[39;49m\u001b[43msavefig\u001b[49m\u001b[43m(\u001b[49m\u001b[38;5;241;43m*\u001b[39;49m\u001b[43margs\u001b[49m\u001b[43m,\u001b[49m\u001b[43m \u001b[49m\u001b[38;5;241;43m*\u001b[39;49m\u001b[38;5;241;43m*\u001b[39;49m\u001b[43mkwargs\u001b[49m\u001b[43m)\u001b[49m  \u001b[38;5;66;03m# type: ignore[func-returns-value]\u001b[39;00m\n\u001b[1;32m   1244\u001b[0m fig\u001b[38;5;241m.\u001b[39mcanvas\u001b[38;5;241m.\u001b[39mdraw_idle()  \u001b[38;5;66;03m# Need this if 'transparent=True', to reset colors.\u001b[39;00m\n\u001b[1;32m   1245\u001b[0m \u001b[38;5;28;01mreturn\u001b[39;00m res\n",
      "File \u001b[0;32m/Library/Frameworks/Python.framework/Versions/3.12/lib/python3.12/site-packages/matplotlib/figure.py:3490\u001b[0m, in \u001b[0;36mFigure.savefig\u001b[0;34m(self, fname, transparent, **kwargs)\u001b[0m\n\u001b[1;32m   3488\u001b[0m     \u001b[38;5;28;01mfor\u001b[39;00m ax \u001b[38;5;129;01min\u001b[39;00m \u001b[38;5;28mself\u001b[39m\u001b[38;5;241m.\u001b[39maxes:\n\u001b[1;32m   3489\u001b[0m         _recursively_make_axes_transparent(stack, ax)\n\u001b[0;32m-> 3490\u001b[0m \u001b[38;5;28;43mself\u001b[39;49m\u001b[38;5;241;43m.\u001b[39;49m\u001b[43mcanvas\u001b[49m\u001b[38;5;241;43m.\u001b[39;49m\u001b[43mprint_figure\u001b[49m\u001b[43m(\u001b[49m\u001b[43mfname\u001b[49m\u001b[43m,\u001b[49m\u001b[43m \u001b[49m\u001b[38;5;241;43m*\u001b[39;49m\u001b[38;5;241;43m*\u001b[39;49m\u001b[43mkwargs\u001b[49m\u001b[43m)\u001b[49m\n",
      "File \u001b[0;32m/Library/Frameworks/Python.framework/Versions/3.12/lib/python3.12/site-packages/matplotlib/backend_bases.py:2184\u001b[0m, in \u001b[0;36mFigureCanvasBase.print_figure\u001b[0;34m(self, filename, dpi, facecolor, edgecolor, orientation, format, bbox_inches, pad_inches, bbox_extra_artists, backend, **kwargs)\u001b[0m\n\u001b[1;32m   2180\u001b[0m \u001b[38;5;28;01mtry\u001b[39;00m:\n\u001b[1;32m   2181\u001b[0m     \u001b[38;5;66;03m# _get_renderer may change the figure dpi (as vector formats\u001b[39;00m\n\u001b[1;32m   2182\u001b[0m     \u001b[38;5;66;03m# force the figure dpi to 72), so we need to set it again here.\u001b[39;00m\n\u001b[1;32m   2183\u001b[0m     \u001b[38;5;28;01mwith\u001b[39;00m cbook\u001b[38;5;241m.\u001b[39m_setattr_cm(\u001b[38;5;28mself\u001b[39m\u001b[38;5;241m.\u001b[39mfigure, dpi\u001b[38;5;241m=\u001b[39mdpi):\n\u001b[0;32m-> 2184\u001b[0m         result \u001b[38;5;241m=\u001b[39m \u001b[43mprint_method\u001b[49m\u001b[43m(\u001b[49m\n\u001b[1;32m   2185\u001b[0m \u001b[43m            \u001b[49m\u001b[43mfilename\u001b[49m\u001b[43m,\u001b[49m\n\u001b[1;32m   2186\u001b[0m \u001b[43m            \u001b[49m\u001b[43mfacecolor\u001b[49m\u001b[38;5;241;43m=\u001b[39;49m\u001b[43mfacecolor\u001b[49m\u001b[43m,\u001b[49m\n\u001b[1;32m   2187\u001b[0m \u001b[43m            \u001b[49m\u001b[43medgecolor\u001b[49m\u001b[38;5;241;43m=\u001b[39;49m\u001b[43medgecolor\u001b[49m\u001b[43m,\u001b[49m\n\u001b[1;32m   2188\u001b[0m \u001b[43m            \u001b[49m\u001b[43morientation\u001b[49m\u001b[38;5;241;43m=\u001b[39;49m\u001b[43morientation\u001b[49m\u001b[43m,\u001b[49m\n\u001b[1;32m   2189\u001b[0m \u001b[43m            \u001b[49m\u001b[43mbbox_inches_restore\u001b[49m\u001b[38;5;241;43m=\u001b[39;49m\u001b[43m_bbox_inches_restore\u001b[49m\u001b[43m,\u001b[49m\n\u001b[1;32m   2190\u001b[0m \u001b[43m            \u001b[49m\u001b[38;5;241;43m*\u001b[39;49m\u001b[38;5;241;43m*\u001b[39;49m\u001b[43mkwargs\u001b[49m\u001b[43m)\u001b[49m\n\u001b[1;32m   2191\u001b[0m \u001b[38;5;28;01mfinally\u001b[39;00m:\n\u001b[1;32m   2192\u001b[0m     \u001b[38;5;28;01mif\u001b[39;00m bbox_inches \u001b[38;5;129;01mand\u001b[39;00m restore_bbox:\n",
      "File \u001b[0;32m/Library/Frameworks/Python.framework/Versions/3.12/lib/python3.12/site-packages/matplotlib/backend_bases.py:2040\u001b[0m, in \u001b[0;36mFigureCanvasBase._switch_canvas_and_return_print_method.<locals>.<lambda>\u001b[0;34m(*args, **kwargs)\u001b[0m\n\u001b[1;32m   2036\u001b[0m     optional_kws \u001b[38;5;241m=\u001b[39m {  \u001b[38;5;66;03m# Passed by print_figure for other renderers.\u001b[39;00m\n\u001b[1;32m   2037\u001b[0m         \u001b[38;5;124m\"\u001b[39m\u001b[38;5;124mdpi\u001b[39m\u001b[38;5;124m\"\u001b[39m, \u001b[38;5;124m\"\u001b[39m\u001b[38;5;124mfacecolor\u001b[39m\u001b[38;5;124m\"\u001b[39m, \u001b[38;5;124m\"\u001b[39m\u001b[38;5;124medgecolor\u001b[39m\u001b[38;5;124m\"\u001b[39m, \u001b[38;5;124m\"\u001b[39m\u001b[38;5;124morientation\u001b[39m\u001b[38;5;124m\"\u001b[39m,\n\u001b[1;32m   2038\u001b[0m         \u001b[38;5;124m\"\u001b[39m\u001b[38;5;124mbbox_inches_restore\u001b[39m\u001b[38;5;124m\"\u001b[39m}\n\u001b[1;32m   2039\u001b[0m     skip \u001b[38;5;241m=\u001b[39m optional_kws \u001b[38;5;241m-\u001b[39m {\u001b[38;5;241m*\u001b[39minspect\u001b[38;5;241m.\u001b[39msignature(meth)\u001b[38;5;241m.\u001b[39mparameters}\n\u001b[0;32m-> 2040\u001b[0m     print_method \u001b[38;5;241m=\u001b[39m functools\u001b[38;5;241m.\u001b[39mwraps(meth)(\u001b[38;5;28;01mlambda\u001b[39;00m \u001b[38;5;241m*\u001b[39margs, \u001b[38;5;241m*\u001b[39m\u001b[38;5;241m*\u001b[39mkwargs: \u001b[43mmeth\u001b[49m\u001b[43m(\u001b[49m\n\u001b[1;32m   2041\u001b[0m \u001b[43m        \u001b[49m\u001b[38;5;241;43m*\u001b[39;49m\u001b[43margs\u001b[49m\u001b[43m,\u001b[49m\u001b[43m \u001b[49m\u001b[38;5;241;43m*\u001b[39;49m\u001b[38;5;241;43m*\u001b[39;49m\u001b[43m{\u001b[49m\u001b[43mk\u001b[49m\u001b[43m:\u001b[49m\u001b[43m \u001b[49m\u001b[43mv\u001b[49m\u001b[43m \u001b[49m\u001b[38;5;28;43;01mfor\u001b[39;49;00m\u001b[43m \u001b[49m\u001b[43mk\u001b[49m\u001b[43m,\u001b[49m\u001b[43m \u001b[49m\u001b[43mv\u001b[49m\u001b[43m \u001b[49m\u001b[38;5;129;43;01min\u001b[39;49;00m\u001b[43m \u001b[49m\u001b[43mkwargs\u001b[49m\u001b[38;5;241;43m.\u001b[39;49m\u001b[43mitems\u001b[49m\u001b[43m(\u001b[49m\u001b[43m)\u001b[49m\u001b[43m \u001b[49m\u001b[38;5;28;43;01mif\u001b[39;49;00m\u001b[43m \u001b[49m\u001b[43mk\u001b[49m\u001b[43m \u001b[49m\u001b[38;5;129;43;01mnot\u001b[39;49;00m\u001b[43m \u001b[49m\u001b[38;5;129;43;01min\u001b[39;49;00m\u001b[43m \u001b[49m\u001b[43mskip\u001b[49m\u001b[43m}\u001b[49m\u001b[43m)\u001b[49m)\n\u001b[1;32m   2042\u001b[0m \u001b[38;5;28;01melse\u001b[39;00m:  \u001b[38;5;66;03m# Let third-parties do as they see fit.\u001b[39;00m\n\u001b[1;32m   2043\u001b[0m     print_method \u001b[38;5;241m=\u001b[39m meth\n",
      "File \u001b[0;32m/Library/Frameworks/Python.framework/Versions/3.12/lib/python3.12/site-packages/matplotlib/backends/backend_agg.py:481\u001b[0m, in \u001b[0;36mFigureCanvasAgg.print_png\u001b[0;34m(self, filename_or_obj, metadata, pil_kwargs)\u001b[0m\n\u001b[1;32m    434\u001b[0m \u001b[38;5;28;01mdef\u001b[39;00m \u001b[38;5;21mprint_png\u001b[39m(\u001b[38;5;28mself\u001b[39m, filename_or_obj, \u001b[38;5;241m*\u001b[39m, metadata\u001b[38;5;241m=\u001b[39m\u001b[38;5;28;01mNone\u001b[39;00m, pil_kwargs\u001b[38;5;241m=\u001b[39m\u001b[38;5;28;01mNone\u001b[39;00m):\n\u001b[1;32m    435\u001b[0m \u001b[38;5;250m    \u001b[39m\u001b[38;5;124;03m\"\"\"\u001b[39;00m\n\u001b[1;32m    436\u001b[0m \u001b[38;5;124;03m    Write the figure to a PNG file.\u001b[39;00m\n\u001b[1;32m    437\u001b[0m \n\u001b[0;32m   (...)\u001b[0m\n\u001b[1;32m    479\u001b[0m \u001b[38;5;124;03m        *metadata*, including the default 'Software' key.\u001b[39;00m\n\u001b[1;32m    480\u001b[0m \u001b[38;5;124;03m    \"\"\"\u001b[39;00m\n\u001b[0;32m--> 481\u001b[0m     \u001b[38;5;28;43mself\u001b[39;49m\u001b[38;5;241;43m.\u001b[39;49m\u001b[43m_print_pil\u001b[49m\u001b[43m(\u001b[49m\u001b[43mfilename_or_obj\u001b[49m\u001b[43m,\u001b[49m\u001b[43m \u001b[49m\u001b[38;5;124;43m\"\u001b[39;49m\u001b[38;5;124;43mpng\u001b[39;49m\u001b[38;5;124;43m\"\u001b[39;49m\u001b[43m,\u001b[49m\u001b[43m \u001b[49m\u001b[43mpil_kwargs\u001b[49m\u001b[43m,\u001b[49m\u001b[43m \u001b[49m\u001b[43mmetadata\u001b[49m\u001b[43m)\u001b[49m\n",
      "File \u001b[0;32m/Library/Frameworks/Python.framework/Versions/3.12/lib/python3.12/site-packages/matplotlib/backends/backend_agg.py:430\u001b[0m, in \u001b[0;36mFigureCanvasAgg._print_pil\u001b[0;34m(self, filename_or_obj, fmt, pil_kwargs, metadata)\u001b[0m\n\u001b[1;32m    425\u001b[0m \u001b[38;5;250m\u001b[39m\u001b[38;5;124;03m\"\"\"\u001b[39;00m\n\u001b[1;32m    426\u001b[0m \u001b[38;5;124;03mDraw the canvas, then save it using `.image.imsave` (to which\u001b[39;00m\n\u001b[1;32m    427\u001b[0m \u001b[38;5;124;03m*pil_kwargs* and *metadata* are forwarded).\u001b[39;00m\n\u001b[1;32m    428\u001b[0m \u001b[38;5;124;03m\"\"\"\u001b[39;00m\n\u001b[1;32m    429\u001b[0m FigureCanvasAgg\u001b[38;5;241m.\u001b[39mdraw(\u001b[38;5;28mself\u001b[39m)\n\u001b[0;32m--> 430\u001b[0m \u001b[43mmpl\u001b[49m\u001b[38;5;241;43m.\u001b[39;49m\u001b[43mimage\u001b[49m\u001b[38;5;241;43m.\u001b[39;49m\u001b[43mimsave\u001b[49m\u001b[43m(\u001b[49m\n\u001b[1;32m    431\u001b[0m \u001b[43m    \u001b[49m\u001b[43mfilename_or_obj\u001b[49m\u001b[43m,\u001b[49m\u001b[43m \u001b[49m\u001b[38;5;28;43mself\u001b[39;49m\u001b[38;5;241;43m.\u001b[39;49m\u001b[43mbuffer_rgba\u001b[49m\u001b[43m(\u001b[49m\u001b[43m)\u001b[49m\u001b[43m,\u001b[49m\u001b[43m \u001b[49m\u001b[38;5;28;43mformat\u001b[39;49m\u001b[38;5;241;43m=\u001b[39;49m\u001b[43mfmt\u001b[49m\u001b[43m,\u001b[49m\u001b[43m \u001b[49m\u001b[43morigin\u001b[49m\u001b[38;5;241;43m=\u001b[39;49m\u001b[38;5;124;43m\"\u001b[39;49m\u001b[38;5;124;43mupper\u001b[39;49m\u001b[38;5;124;43m\"\u001b[39;49m\u001b[43m,\u001b[49m\n\u001b[1;32m    432\u001b[0m \u001b[43m    \u001b[49m\u001b[43mdpi\u001b[49m\u001b[38;5;241;43m=\u001b[39;49m\u001b[38;5;28;43mself\u001b[39;49m\u001b[38;5;241;43m.\u001b[39;49m\u001b[43mfigure\u001b[49m\u001b[38;5;241;43m.\u001b[39;49m\u001b[43mdpi\u001b[49m\u001b[43m,\u001b[49m\u001b[43m \u001b[49m\u001b[43mmetadata\u001b[49m\u001b[38;5;241;43m=\u001b[39;49m\u001b[43mmetadata\u001b[49m\u001b[43m,\u001b[49m\u001b[43m \u001b[49m\u001b[43mpil_kwargs\u001b[49m\u001b[38;5;241;43m=\u001b[39;49m\u001b[43mpil_kwargs\u001b[49m\u001b[43m)\u001b[49m\n",
      "File \u001b[0;32m/Library/Frameworks/Python.framework/Versions/3.12/lib/python3.12/site-packages/matplotlib/image.py:1644\u001b[0m, in \u001b[0;36mimsave\u001b[0;34m(fname, arr, vmin, vmax, cmap, format, origin, dpi, metadata, pil_kwargs)\u001b[0m\n\u001b[1;32m   1642\u001b[0m pil_kwargs\u001b[38;5;241m.\u001b[39msetdefault(\u001b[38;5;124m\"\u001b[39m\u001b[38;5;124mformat\u001b[39m\u001b[38;5;124m\"\u001b[39m, \u001b[38;5;28mformat\u001b[39m)\n\u001b[1;32m   1643\u001b[0m pil_kwargs\u001b[38;5;241m.\u001b[39msetdefault(\u001b[38;5;124m\"\u001b[39m\u001b[38;5;124mdpi\u001b[39m\u001b[38;5;124m\"\u001b[39m, (dpi, dpi))\n\u001b[0;32m-> 1644\u001b[0m \u001b[43mimage\u001b[49m\u001b[38;5;241;43m.\u001b[39;49m\u001b[43msave\u001b[49m\u001b[43m(\u001b[49m\u001b[43mfname\u001b[49m\u001b[43m,\u001b[49m\u001b[43m \u001b[49m\u001b[38;5;241;43m*\u001b[39;49m\u001b[38;5;241;43m*\u001b[39;49m\u001b[43mpil_kwargs\u001b[49m\u001b[43m)\u001b[49m\n",
      "File \u001b[0;32m/Library/Frameworks/Python.framework/Versions/3.12/lib/python3.12/site-packages/PIL/Image.py:2600\u001b[0m, in \u001b[0;36mImage.save\u001b[0;34m(self, fp, format, **params)\u001b[0m\n\u001b[1;32m   2598\u001b[0m         fp \u001b[38;5;241m=\u001b[39m builtins\u001b[38;5;241m.\u001b[39mopen(filename, \u001b[38;5;124m\"\u001b[39m\u001b[38;5;124mr+b\u001b[39m\u001b[38;5;124m\"\u001b[39m)\n\u001b[1;32m   2599\u001b[0m     \u001b[38;5;28;01melse\u001b[39;00m:\n\u001b[0;32m-> 2600\u001b[0m         fp \u001b[38;5;241m=\u001b[39m \u001b[43mbuiltins\u001b[49m\u001b[38;5;241;43m.\u001b[39;49m\u001b[43mopen\u001b[49m\u001b[43m(\u001b[49m\u001b[43mfilename\u001b[49m\u001b[43m,\u001b[49m\u001b[43m \u001b[49m\u001b[38;5;124;43m\"\u001b[39;49m\u001b[38;5;124;43mw+b\u001b[39;49m\u001b[38;5;124;43m\"\u001b[39;49m\u001b[43m)\u001b[49m\n\u001b[1;32m   2601\u001b[0m \u001b[38;5;28;01melse\u001b[39;00m:\n\u001b[1;32m   2602\u001b[0m     fp \u001b[38;5;241m=\u001b[39m cast(IO[\u001b[38;5;28mbytes\u001b[39m], fp)\n",
      "\u001b[0;31mFileNotFoundError\u001b[0m: [Errno 2] No such file or directory: '/Users/jiteshsingla/Documents/MS Research Final Topic/Implementation/VE_implementation_self_ask/log/consistency_2.png'"
     ]
    },
    {
     "data": {
      "text/plain": [
       "<Figure size 1000x500 with 0 Axes>"
      ]
     },
     "metadata": {},
     "output_type": "display_data"
    },
    {
     "data": {
      "image/png": "[encoded data removed]",
      "text/plain": [
       "<Figure size 611.375x500 with 1 Axes>"
      ]
     },
     "metadata": {},
     "output_type": "display_data"
    }
   ],
   "source": [
    "consistency_test_few_shot_manual_prediction(args)"
   ]
  },
  {
   "cell_type": "code",
   "execution_count": 10,
   "metadata": {},
   "outputs": [],
   "source": [
    "predictions =  [{\"responses\": [\"Are follow up questions needed here: Yes.\\nFollow up: Who performed the song Get A Life - Get Alive?\\nIntermediate answer: Soul II Soul.\\nFollow up: Where was Soul II Soul born?\\nIntermediate answer: Soul II Soul was formed in London, England.\\nSo the final answer is: London, England.\", \"Are follow up questions needed here: Yes.\\nFollow up: Who is the performer of the song Get A Life \\u2013 Get Alive?\\nIntermediate answer: The performer of the song Get A Life \\u2013 Get Alive is Soul II Soul.\\nFollow up: Where was Soul II Soul born?\\nIntermediate answer: Soul II Soul is a British group formed in London, England.\\nSo the final answer is: London, England.\", \"Are follow up questions needed here: Yes.\\nFollow up: Who is the performer of the song \\\"Get A Life - Get Alive\\\"?\\nIntermediate answer: The performer of the song \\\"Get A Life - Get Alive\\\" is John Maus.\\nFollow up: Where was John Maus born?\\nIntermediate answer: John Maus was born in Austin, Minnesota, United States.\\nSo the final answer is: United States.\", \"Are follow up questions needed here: Yes.\\nFollow up: Who is the performer of the song Get A Life - Get Alive?\\nIntermediate answer: The performer of the song Get A Life - Get Alive is Soul II Soul.\\nFollow up: Where was Soul II Soul born?\\nIntermediate answer: Soul II Soul is a British musical collective formed in London, England.\\nSo the final answer is: London, England.\", \"Are follow up questions needed here: Yes.\\nFollow up: Who is the performer of the song Get A Life - Get Alive?\\nIntermediate answer: The performer of the song Get A Life - Get Alive is Suggs.\\nFollow up: Where was Suggs born?\\nIntermediate answer: Suggs was born in Hastings, East Sussex, England.\\nSo the final answer is: Hastings, East Sussex, England.\"], \"id\": \"1ee47f380bde11eba7f7acde48001122\", \"question\": \"Where was the performer of song Get A Life \\u2013 Get Alive born?\", \"right_answer\": \"V\\u00f6cklabruck\"}, {\"responses\": [\"Are follow up questions needed here: Yes.\\nFollow up: Who directed the film Don Juan (1922 Film)?\\nIntermediate answer: Alan Crosland.\\nFollow up: Where did Alan Crosland die?\\nIntermediate answer: Alan Crosland died in Hollywood, California, United States.\\nSo the final answer is: Hollywood, California, United States.\", \"Are follow up questions needed here: Yes.\\nFollow up: Who directed the film Don Juan (1922 Film)?\\nIntermediate answer: Alan Crosland.\\nFollow up: Where did Alan Crosland die?\\nIntermediate answer: Alan Crosland died in Hollywood, California, United States.\\nSo the final answer is: Hollywood, California, United States.\", \"Are follow up questions needed here: Yes.\\nFollow up: Who directed the film Don Juan (1922 Film)?\\nIntermediate answer: Alan Crosland.\\nFollow up: Where did Alan Crosland die?\\nIntermediate answer: Alan Crosland died in Hollywood, California, United States.\\nSo the final answer is: Hollywood, California, United States.\", \"Are follow up questions needed here: Yes.\\nFollow up: Who directed the film Don Juan (1922 Film)?\\nIntermediate answer: Alan Crosland.\\nFollow up: Where did Alan Crosland die?\\nIntermediate answer: Alan Crosland died in Hollywood, California, United States.\\nSo the final answer is: Hollywood, California, United States.\", \"Are follow up questions needed here: Yes.\\nFollow up: Who directed the film Don Juan (1922 Film)?\\nIntermediate answer: Alan Crosland.\\nFollow up: Where did Alan Crosland die?\\nIntermediate answer: Alan Crosland died in Hollywood, California, USA.\\nSo the final answer is: Hollywood, California, USA.\"], \"id\": \"49eb87280bdc11eba7f7acde48001122\", \"question\": \"Where did the director of film Don Juan (1922 Film) die?\", \"right_answer\": \"Westerland\"}, {\"responses\": [\"Are follow up questions needed here: Yes.\\nFollow up: Who is the composer of the film Naayudamma?\\nIntermediate answer: T. Chalapathi Rao.\\nFollow up: What is the nationality of T. Chalapathi Rao?\\nIntermediate answer: T. Chalapathi Rao is Indian.\\nFollow up: What is the place of birth of T. Chalapathi Rao?\\nIntermediate answer: T. Chalapathi Rao was born in Andhra Pradesh, India.\\nSo the final answer is: Andhra Pradesh, India.\", \"Are follow up questions needed here: Yes.\\nFollow up: Who is the composer of the film Naayudamma?\\nIntermediate answer: The composer of the film Naayudamma is T. Chalapathi Rao.\\nFollow up: What is the place of birth of T. Chalapathi Rao?\\nIntermediate answer: T. Chalapathi Rao was born in Andhra Pradesh, India.\\nSo the final answer is: Andhra Pradesh, India.\", \"Are follow up questions needed here: Yes.\\nFollow up: Who is the composer of the film Naayudamma?\\nIntermediate answer: The composer of the film Naayudamma is T. G. Lingappa.\\nFollow up: What is the nationality of T. G. Lingappa?\\nIntermediate answer: T. G. Lingappa is Indian.\\nFollow up: Where was T. G. Lingappa born?\\nIntermediate answer: T. G. Lingappa was born in Bangalore, Karnataka, India.\\nSo the final answer is: Bangalore, Karnataka, India.\", \"Are follow up questions needed here: No. \\nFinal answer: The composer of the film Naayudamma was born in India.\", \"Are follow up questions needed here: No. \\nFinal answer: The composer of the film Naayudamma was born in India.\"], \"id\": \"2e17069c0bde11eba7f7acde48001122\", \"question\": \"What is the place of birth of the composer of film Naayudamma?\", \"right_answer\": \"Tamil\"}, {\"responses\": [\"Are follow up questions needed here: Yes.\\nFollow up: Who directed the film Temptation (1959 Film)?\\nIntermediate answer: Irving Rapper.\\nFollow up: Where did Irving Rapper die?\\nIntermediate answer: Irving Rapper died in Los Angeles, California, USA.\\nSo the final answer is: Los Angeles, California, USA.\", \"Are follow up questions needed here: Yes.\\nFollow up: Who directed the film Temptation (1959 Film)?\\nIntermediate answer: Irving Reis.\\nFollow up: Where did Irving Reis die?\\nIntermediate answer: Irving Reis died in Los Angeles, California, USA.\\nSo the final answer is: Los Angeles, California, USA.\", \"Are follow up questions needed here: Yes.\\nFollow up: Who directed the film Temptation (1959 Film)?\\nIntermediate answer: Irving Rapper.\\nFollow up: Where did Irving Rapper die?\\nIntermediate answer: Irving Rapper died in Los Angeles, California, United States.\\nSo the final answer is: Los Angeles, California, United States.\", \"Are follow up questions needed here: Yes.\\nFollow up: Who directed the film Temptation (1959 Film)?\\nIntermediate answer: Irving Rapper.\\nFollow up: Where did Irving Rapper die?\\nIntermediate answer: Irving Rapper died in Los Angeles, California, USA.\\nSo the final answer is: Los Angeles, California, USA.\", \"Are follow up questions needed here: Yes.\\nFollow up: Who directed the film Temptation (1959 Film)?\\nIntermediate answer: Irving Rapper.\\nFollow up: Where did Irving Rapper die?\\nIntermediate answer: Irving Rapper died in Los Angeles, California, USA.\\nSo the final answer is: Los Angeles, California, USA.\"], \"id\": \"28942dc20bdd11eba7f7acde48001122\", \"question\": \"Where did the director of film Temptation (1959 Film) die?\", \"right_answer\": \"Nice\"}, {\"responses\": [\"Are follow up questions needed here: Yes.\\nFollow up: Who is the parent of John Kennedy, 2nd Lord Kennedy?\\nIntermediate answer: John Kennedy, 2nd Lord Kennedy's parent is Gilbert Kennedy, 1st Lord Kennedy.\\nFollow up: Who is the sibling of Gilbert Kennedy, 1st Lord Kennedy?\\nIntermediate answer: Gilbert Kennedy, 1st Lord Kennedy's sibling is James Kennedy, Bishop of Dunkeld.\\nFollow up: Who is the child of James Kennedy, Bishop of Dunkeld?\\nIntermediate answer: James Kennedy, Bishop of Dunkeld, did not have any children.\\nSo the final answer is: James Kennedy, Bishop of Dunkeld.\", \"Are follow up questions needed here: Yes.\\nFollow up: Who is the father of John Kennedy, 2nd Lord Kennedy?\\nIntermediate answer: John Kennedy, 2nd Lord Kennedy's father was Gilbert Kennedy, 1st Lord Kennedy.\\nFollow up: Who is the brother of Gilbert Kennedy, 1st Lord Kennedy?\\nIntermediate answer: Gilbert Kennedy, 1st Lord Kennedy's brother was James Kennedy, 1st Lord Kennedy of Dunure.\\nSo the final answer is: James Kennedy, 1st Lord Kennedy of Dunure.\", \"Are follow up questions needed here: Yes.\\nFollow up: Who is the parent of John Kennedy, 2nd Lord Kennedy?\\nIntermediate answer: John Kennedy, 2nd Lord Kennedy's parent is Gilbert Kennedy, 1st Lord Kennedy.\\nFollow up: Who is the sibling of Gilbert Kennedy, 1st Lord Kennedy?\\nIntermediate answer: Gilbert Kennedy, 1st Lord Kennedy's sibling is James Kennedy, Bishop of St Andrews.\\nFollow up: Who is the child of James Kennedy, Bishop of St Andrews?\\nIntermediate answer: James Kennedy, Bishop of St Andrews did not have any children as he was a clergy member.\\nSo the final answer is: James Kennedy, Bishop of St Andrews.\", \"Are follow up questions needed here: Yes.\\nFollow up: Who is the father of John Kennedy, 2nd Lord Kennedy?\\nIntermediate answer: Gilbert Kennedy, 1st Lord Kennedy.\\nFollow up: Who is the brother of John Kennedy, 2nd Lord Kennedy?\\nIntermediate answer: David Kennedy, 1st Earl of Cassilis.\\nSo the final answer is: David Kennedy, 1st Earl of Cassilis.\", \"Are follow up questions needed here: Yes.\\nFollow up: Who is the father of John Kennedy, 2nd Lord Kennedy?\\nIntermediate answer: John Kennedy, 2nd Lord Kennedy's father was Gilbert Kennedy, 1st Lord Kennedy.\\nFollow up: Who is the brother of Gilbert Kennedy, 1st Lord Kennedy?\\nIntermediate answer: Gilbert Kennedy, 1st Lord Kennedy had a brother named James Kennedy, Bishop of St. Andrews.\\nSo the final answer is: James Kennedy, Bishop of St. Andrews.\"], \"id\": \"6a8a71280bb011ebab90acde48001122\", \"question\": \"Who is the uncle of John Kennedy, 2Nd Lord Kennedy?\", \"right_answer\": \"James Kennedy\"}]"
   ]
  },
  {
   "cell_type": "code",
   "execution_count": 11,
   "metadata": {},
   "outputs": [
    {
     "data": {
      "text/plain": [
       "{'responses': ['Are follow up questions needed here: Yes.\\nFollow up: Who performed the song Get A Life - Get Alive?\\nIntermediate answer: Soul II Soul.\\nFollow up: Where was Soul II Soul born?\\nIntermediate answer: Soul II Soul was formed in London, England.\\nSo the final answer is: London, England.',\n",
       "  'Are follow up questions needed here: Yes.\\nFollow up: Who is the performer of the song Get A Life – Get Alive?\\nIntermediate answer: The performer of the song Get A Life – Get Alive is Soul II Soul.\\nFollow up: Where was Soul II Soul born?\\nIntermediate answer: Soul II Soul is a British group formed in London, England.\\nSo the final answer is: London, England.',\n",
       "  'Are follow up questions needed here: Yes.\\nFollow up: Who is the performer of the song \"Get A Life - Get Alive\"?\\nIntermediate answer: The performer of the song \"Get A Life - Get Alive\" is John Maus.\\nFollow up: Where was John Maus born?\\nIntermediate answer: John Maus was born in Austin, Minnesota, United States.\\nSo the final answer is: United States.',\n",
       "  'Are follow up questions needed here: Yes.\\nFollow up: Who is the performer of the song Get A Life - Get Alive?\\nIntermediate answer: The performer of the song Get A Life - Get Alive is Soul II Soul.\\nFollow up: Where was Soul II Soul born?\\nIntermediate answer: Soul II Soul is a British musical collective formed in London, England.\\nSo the final answer is: London, England.',\n",
       "  'Are follow up questions needed here: Yes.\\nFollow up: Who is the performer of the song Get A Life - Get Alive?\\nIntermediate answer: The performer of the song Get A Life - Get Alive is Suggs.\\nFollow up: Where was Suggs born?\\nIntermediate answer: Suggs was born in Hastings, East Sussex, England.\\nSo the final answer is: Hastings, East Sussex, England.'],\n",
       " 'id': '1ee47f380bde11eba7f7acde48001122',\n",
       " 'question': 'Where was the performer of song Get A Life – Get Alive born?',\n",
       " 'right_answer': 'Vöcklabruck'}"
      ]
     },
     "execution_count": 11,
     "metadata": {},
     "output_type": "execute_result"
    }
   ],
   "source": [
    "predictions[0]"
   ]
  },
  {
   "cell_type": "code",
   "execution_count": 7,
   "metadata": {},
   "outputs": [],
   "source": [
    "from consistency import post_process_consistency"
   ]
  },
  {
   "cell_type": "code",
   "execution_count": 8,
   "metadata": {},
   "outputs": [
    {
     "name": "stdout",
     "output_type": "stream",
     "text": [
      "7 not found\n"
     ]
    }
   ],
   "source": [
    "dev_set = read_wikiqa_data(f\"data/dev_sampled.json\")\n",
    "dev_set = dev_set[args.dev_slice:(args.num_dev)]"
   ]
  },
  {
   "cell_type": "code",
   "execution_count": 12,
   "metadata": {},
   "outputs": [
    {
     "name": "stderr",
     "output_type": "stream",
     "text": [
      "Verifying:   0%|          | 0/5 [00:00<?, ?it/s]\n"
     ]
    },
    {
     "ename": "NameError",
     "evalue": "name 'dev_set' is not defined",
     "output_type": "error",
     "traceback": [
      "\u001b[0;31m---------------------------------------------------------------------------\u001b[0m",
      "\u001b[0;31mNameError\u001b[0m                                 Traceback (most recent call last)",
      "Cell \u001b[0;32mIn[12], line 3\u001b[0m\n\u001b[1;32m      1\u001b[0m new_predictions, cons \u001b[38;5;241m=\u001b[39m [], []\n\u001b[1;32m      2\u001b[0m \u001b[38;5;28;01mfor\u001b[39;00m i, p \u001b[38;5;129;01min\u001b[39;00m \u001b[38;5;28menumerate\u001b[39m(tqdm(predictions, total\u001b[38;5;241m=\u001b[39m\u001b[38;5;28mlen\u001b[39m(predictions), desc\u001b[38;5;241m=\u001b[39m\u001b[38;5;124m\"\u001b[39m\u001b[38;5;124mVerifying\u001b[39m\u001b[38;5;124m\"\u001b[39m)):\n\u001b[0;32m----> 3\u001b[0m     ex \u001b[38;5;241m=\u001b[39m \u001b[43mdev_set\u001b[49m[i]\n\u001b[1;32m      4\u001b[0m     con, new_p \u001b[38;5;241m=\u001b[39m post_process_consistency(ex, p, args)\n\u001b[1;32m      5\u001b[0m     cons\u001b[38;5;241m.\u001b[39mappend(con)\n",
      "\u001b[0;31mNameError\u001b[0m: name 'dev_set' is not defined"
     ]
    }
   ],
   "source": [
    "new_predictions, cons = [], []\n",
    "for i, p in enumerate(tqdm(predictions, total=len(predictions), desc=\"Verifying\")):\n",
    "    ex = dev_set[i]\n",
    "    con, new_p = post_process_consistency(ex, p, args)\n",
    "    cons.append(con)\n",
    "    new_predictions.append(new_p)\n",
    "predictions = new_predictions "
   ]
  },
  {
   "cell_type": "code",
   "execution_count": 10,
   "metadata": {},
   "outputs": [
    {
     "data": {
      "text/plain": [
       "{'response': 'Are follow up questions needed here: Yes.\\nFollow up: Who performed the song Get A Life - Get Alive?\\nIntermediate answer: Soul II Soul.\\nFollow up: Where was Soul II Soul born?\\nIntermediate answer: Soul II Soul was formed in London, England.\\nSo the final answer is: London, England.',\n",
       " 'id': '1ee47f380bde11eba7f7acde48001122',\n",
       " 'question': 'Where was the performer of song Get A Life – Get Alive born?',\n",
       " 'consistency': 0.6,\n",
       " 'rationale': 'Are follow up questions needed here: Yes.\\nFollow up: Who performed the song Get A Life - Get Alive?\\nIntermediate answer: Soul II Soul.\\nFollow up: Where was Soul II Soul born?\\nIntermediate answer: Soul II Soul was formed in London, England.',\n",
       " 'answer': 'London, England',\n",
       " 'right_answer': 'Vöcklabruck',\n",
       " 'original_answers': ['London, England',\n",
       "  'London, England',\n",
       "  'United States',\n",
       "  'London, England',\n",
       "  'Hastings, East Sussex, England'],\n",
       " 'original_rationales': ['Are follow up questions needed here: Yes.\\nFollow up: Who performed the song Get A Life - Get Alive?\\nIntermediate answer: Soul II Soul.\\nFollow up: Where was Soul II Soul born?\\nIntermediate answer: Soul II Soul was formed in London, England.',\n",
       "  'Are follow up questions needed here: Yes.\\nFollow up: Who is the performer of the song Get A Life – Get Alive?\\nIntermediate answer: The performer of the song Get A Life – Get Alive is Soul II Soul.\\nFollow up: Where was Soul II Soul born?\\nIntermediate answer: Soul II Soul is a British group formed in London, England.',\n",
       "  'Are follow up questions needed here: Yes.\\nFollow up: Who is the performer of the song \"Get A Life - Get Alive\"?\\nIntermediate answer: The performer of the song \"Get A Life - Get Alive\" is John Maus.\\nFollow up: Where was John Maus born?\\nIntermediate answer: John Maus was born in Austin, Minnesota, United States.',\n",
       "  'Are follow up questions needed here: Yes.\\nFollow up: Who is the performer of the song Get A Life - Get Alive?\\nIntermediate answer: The performer of the song Get A Life - Get Alive is Soul II Soul.\\nFollow up: Where was Soul II Soul born?\\nIntermediate answer: Soul II Soul is a British musical collective formed in London, England.',\n",
       "  'Are follow up questions needed here: Yes.\\nFollow up: Who is the performer of the song Get A Life - Get Alive?\\nIntermediate answer: The performer of the song Get A Life - Get Alive is Suggs.\\nFollow up: Where was Suggs born?\\nIntermediate answer: Suggs was born in Hastings, East Sussex, England.']}"
      ]
     },
     "execution_count": 10,
     "metadata": {},
     "output_type": "execute_result"
    }
   ],
   "source": [
    "predictions[0]"
   ]
  },
  {
   "cell_type": "code",
   "execution_count": 11,
   "metadata": {},
   "outputs": [],
   "source": [
    "import re\n",
    "\n",
    "def extract_follow_up_questions(rationale: str) -> list:\n",
    "    return re.findall(r'Follow up:\\s*(.+?)\\n', rationale)"
   ]
  },
  {
   "cell_type": "code",
   "execution_count": 12,
   "metadata": {},
   "outputs": [
    {
     "data": {
      "text/plain": [
       "['Who performed the song Get A Life - Get Alive?',\n",
       " 'Where was Soul II Soul born?']"
      ]
     },
     "execution_count": 12,
     "metadata": {},
     "output_type": "execute_result"
    }
   ],
   "source": [
    "extract_follow_up_questions(predictions[0][\"rationale\"])"
   ]
  },
  {
   "cell_type": "code",
   "execution_count": 14,
   "metadata": {},
   "outputs": [],
   "source": [
    "def rationale_tokenize(sen):\n",
    "    sents = re.split(\"(First, )|(Second, )|(Third, )|(Fourth, )\", sen)\n",
    "    invalid = ['First, ', 'Second, ', '', None]\n",
    "    sents = [s for s in sents if s not in invalid]\n",
    "    return sents"
   ]
  },
  {
   "cell_type": "code",
   "execution_count": 17,
   "metadata": {},
   "outputs": [],
   "source": [
    "rationale =  \"First, the performer of the song Get A Life - Get Alive is Soul II Soul. Second, Soul II Soul was formed in London, England.\""
   ]
  },
  {
   "cell_type": "code",
   "execution_count": 18,
   "metadata": {},
   "outputs": [
    {
     "data": {
      "text/plain": [
       "['the performer of the song Get A Life - Get Alive is Soul II Soul. ',\n",
       " 'Soul II Soul was formed in London, England.']"
      ]
     },
     "execution_count": 18,
     "metadata": {},
     "output_type": "execute_result"
    }
   ],
   "source": [
    "rationale_tokenize(rationale)"
   ]
  },
  {
   "cell_type": "code",
   "execution_count": 20,
   "metadata": {},
   "outputs": [],
   "source": [
    "rationale = \"Are follow up questions needed here: Yes.\\nFollow up: Who is the performer of the song Get A Life – Get Alive?\\nIntermediate answer: The performer of the song Get A Life – Get Alive is Soul II Soul.\\nFollow up: Where was Soul II Soul born?\\nIntermediate answer: Soul II Soul is a British group formed in London, England.\""
   ]
  },
  {
   "cell_type": "code",
   "execution_count": 21,
   "metadata": {},
   "outputs": [],
   "source": [
    "import re\n",
    "\n",
    "def extract_intermediate_answers(text):\n",
    "    return re.findall(r'Intermediate answer:\\s*(.*?)(?:\\n|$)', text)"
   ]
  },
  {
   "cell_type": "code",
   "execution_count": 22,
   "metadata": {},
   "outputs": [
    {
     "data": {
      "text/plain": [
       "['The performer of the song Get A Life – Get Alive is Soul II Soul.',\n",
       " 'Soul II Soul is a British group formed in London, England.']"
      ]
     },
     "execution_count": 22,
     "metadata": {},
     "output_type": "execute_result"
    }
   ],
   "source": [
    "extract_intermediate_answers(rationale)"
   ]
  },
  {
   "cell_type": "code",
   "execution_count": 23,
   "metadata": {},
   "outputs": [],
   "source": [
    "VA_PROMPT = 'The film was released in 1984 by Essex Films. Kistimaat is a 2014 Bangladeshi action film directed by Ashiqur Rahman and produced by Tiger Media Limited and The Abhi Pictures. I\\'m Taraneh, 15 is a 2002 Iranian film directed by Rasul Sadrameli. The film was released on May 4, 2001.\\nQuestion: When was the film Kistimaat released?\\nAnswer: The film Kistimaat was released in 2014.\\n\\nDwaram Venkataswami Naidu and also a lyricist. The film has musical score by S. Hanumantha Rao. Rao died 27 May 1980. Rao married Raja Mani with whom he had three daughters and one son.\\nQuestion: Who is the composer of film Baalaraajana Kathe?\\nAnswer: The composer of film Baalaraajana Kathe is S. Hanumantha Rao.\\n\\nAdib Kheir was a leading Syrian nationalist of the 1920s. Filmed on location in the Purcell Mountains in British Columbia, the film was directed by Frank Marshall, written by John Patrick Shanley, and narrated by John Malkovich. Frank Wilton Marshall( born September 13, 1946) is an American film producer and director, often working in collaboration with his wife, Kathleen Kennedy. He received the Irving G. Thalberg award from the Academy of Motion Picture Arts and Sciences in 2018.\\nQuestion: Who is the director of film Alive (1993 Film)?\\nAnswer: The director of film Alive is Frank Marshall.\\n\\n'"
   ]
  },
  {
   "cell_type": "code",
   "execution_count": 25,
   "metadata": {},
   "outputs": [
    {
     "name": "stdout",
     "output_type": "stream",
     "text": [
      "The film was released in 1984 by Essex Films. Kistimaat is a 2014 Bangladeshi action film directed by Ashiqur Rahman and produced by Tiger Media Limited and The Abhi Pictures. I'm Taraneh, 15 is a 2002 Iranian film directed by Rasul Sadrameli. The film was released on May 4, 2001.\n",
      "Question: When was the film Kistimaat released?\n",
      "Answer: The film Kistimaat was released in 2014.\n",
      "\n",
      "Dwaram Venkataswami Naidu and also a lyricist. The film has musical score by S. Hanumantha Rao. Rao died 27 May 1980. Rao married Raja Mani with whom he had three daughters and one son.\n",
      "Question: Who is the composer of film Baalaraajana Kathe?\n",
      "Answer: The composer of film Baalaraajana Kathe is S. Hanumantha Rao.\n",
      "\n",
      "Adib Kheir was a leading Syrian nationalist of the 1920s. Filmed on location in the Purcell Mountains in British Columbia, the film was directed by Frank Marshall, written by John Patrick Shanley, and narrated by John Malkovich. Frank Wilton Marshall( born September 13, 1946) is an American film producer and director, often working in collaboration with his wife, Kathleen Kennedy. He received the Irving G. Thalberg award from the Academy of Motion Picture Arts and Sciences in 2018.\n",
      "Question: Who is the director of film Alive (1993 Film)?\n",
      "Answer: The director of film Alive is Frank Marshall.\n",
      "\n",
      "\n"
     ]
    }
   ],
   "source": [
    "print(VA_PROMPT)"
   ]
  },
  {
   "cell_type": "code",
   "execution_count": 28,
   "metadata": {},
   "outputs": [],
   "source": [
    "from answer_again import rationale as answer_again_rationale\n"
   ]
  },
  {
   "cell_type": "code",
   "execution_count": 27,
   "metadata": {},
   "outputs": [],
   "source": [
    "va =[\"Ingmar Bergman, the director of the film Temptation (1959 Film), died in Sweden.\", \"Ingmar Bergman, the director of film Temptation (1959 Film), died in Sweden.\"]"
   ]
  },
  {
   "cell_type": "code",
   "execution_count": 30,
   "metadata": {},
   "outputs": [
    {
     "name": "stdout",
     "output_type": "stream",
     "text": [
      "First, Ingmar Bergman, the director of the film Temptation (1959 Film), died in Sweden. Second, Ingmar Bergman, the director of film Temptation (1959 Film), died in Sweden.\n"
     ]
    }
   ],
   "source": [
    "print(answer_again_rationale(va))"
   ]
  },
  {
   "cell_type": "code",
   "execution_count": 33,
   "metadata": {},
   "outputs": [],
   "source": [
    "def build_rationale(follow_up_q, follow_up_a):\n",
    "    parts = [\"Are follow up questions needed here: Yes.\"]\n",
    "    for q, a in zip(follow_up_q, follow_up_a):\n",
    "        parts.append(f\"Follow up: {q}\")\n",
    "        parts.append(f\"Intermediate answer: {a.strip()}\")\n",
    "    parts.append(\"So the final answer is:\")\n",
    "    return \"\\n\".join(parts)\n"
   ]
  },
  {
   "cell_type": "code",
   "execution_count": 34,
   "metadata": {},
   "outputs": [
    {
     "name": "stdout",
     "output_type": "stream",
     "text": [
      "Are follow up questions needed here: Yes.\n",
      "Follow up: Who performed the song Get A Life - Get Alive?\n",
      "Intermediate answer: the performer of the song Get A Life - Get Alive is Soul II Soul.\n",
      "Follow up: Where was Soul II Soul born?\n",
      "Intermediate answer: Soul II Soul was formed in London, England.\n",
      "So the final answer is:\n"
     ]
    }
   ],
   "source": [
    "follow_up_q = [\n",
    "    'Who performed the song Get A Life - Get Alive?',\n",
    "    'Where was Soul II Soul born?'\n",
    "]\n",
    "\n",
    "follow_up_a = [\n",
    "    'the performer of the song Get A Life - Get Alive is Soul II Soul.',\n",
    "    'Soul II Soul was formed in London, England.'\n",
    "]\n",
    "\n",
    "print(build_rationale(follow_up_q, follow_up_a))\n"
   ]
  },
  {
   "cell_type": "code",
   "execution_count": 40,
   "metadata": {},
   "outputs": [],
   "source": [
    "resp = {\"response\": \"Are follow up questions needed here: No.\\nFinal answer: The director of the film Level 16 was born in Canada.\", \"id\": \"207cff740bdd11eba7f7acde48001122\", \"question\": \"What is the place of birth of the director of film Level 16?\", \"consistency\": 0.6, \"rationale\": \"none\", \"answer\": \"NOT ENOUGH INFO\", \"right_answer\": \"Winnipeg, Manitoba\", \"original_answers\": [\"Canada\", \"NOT ENOUGH INFO\", \"Winnipeg, Manitoba, Canada\", \"NOT ENOUGH INFO\", \"NOT ENOUGH INFO\"], \"original_rationales\": [\"Are follow up questions needed here: Yes.\\nFollow up: Who is the director of the film Level 16?\\nIntermediate answer: Danishka Esterhazy is the director of the film Level 16.\\nFollow up: What is the nationality of Danishka Esterhazy?\\nIntermediate answer: Danishka Esterhazy is Canadian.\", \"none\", \"Are follow up questions needed here: Yes.\\nFollow up: Who directed the film Level 16?\\nIntermediate answer: Danishka Esterhazy directed the film Level 16.\\nFollow up: What is the nationality of Danishka Esterhazy?\\nIntermediate answer: Danishka Esterhazy is Canadian.\\nFollow up: Where was Danishka Esterhazy born?\\nIntermediate answer: Danishka Esterhazy was born in Winnipeg, Manitoba, Canada.\", \"none\", \"none\"], \"high_consistency\": True, \"time_taken_sec\": 1.39}"
   ]
  },
  {
   "cell_type": "code",
   "execution_count": 41,
   "metadata": {},
   "outputs": [
    {
     "data": {
      "text/plain": [
       "{'response': 'Are follow up questions needed here: No.\\nFinal answer: The director of the film Level 16 was born in Canada.',\n",
       " 'id': '207cff740bdd11eba7f7acde48001122',\n",
       " 'question': 'What is the place of birth of the director of film Level 16?',\n",
       " 'consistency': 0.6,\n",
       " 'rationale': 'none',\n",
       " 'answer': 'NOT ENOUGH INFO',\n",
       " 'right_answer': 'Winnipeg, Manitoba',\n",
       " 'original_answers': ['Canada',\n",
       "  'NOT ENOUGH INFO',\n",
       "  'Winnipeg, Manitoba, Canada',\n",
       "  'NOT ENOUGH INFO',\n",
       "  'NOT ENOUGH INFO'],\n",
       " 'original_rationales': ['Are follow up questions needed here: Yes.\\nFollow up: Who is the director of the film Level 16?\\nIntermediate answer: Danishka Esterhazy is the director of the film Level 16.\\nFollow up: What is the nationality of Danishka Esterhazy?\\nIntermediate answer: Danishka Esterhazy is Canadian.',\n",
       "  'none',\n",
       "  'Are follow up questions needed here: Yes.\\nFollow up: Who directed the film Level 16?\\nIntermediate answer: Danishka Esterhazy directed the film Level 16.\\nFollow up: What is the nationality of Danishka Esterhazy?\\nIntermediate answer: Danishka Esterhazy is Canadian.\\nFollow up: Where was Danishka Esterhazy born?\\nIntermediate answer: Danishka Esterhazy was born in Winnipeg, Manitoba, Canada.',\n",
       "  'none',\n",
       "  'none'],\n",
       " 'high_consistency': True,\n",
       " 'time_taken_sec': 1.39}"
      ]
     },
     "execution_count": 41,
     "metadata": {},
     "output_type": "execute_result"
    }
   ],
   "source": [
    "resp"
   ]
  },
  {
   "cell_type": "code",
   "execution_count": 39,
   "metadata": {},
   "outputs": [
    {
     "data": {
      "text/plain": [
       "'none'"
      ]
     },
     "execution_count": 39,
     "metadata": {},
     "output_type": "execute_result"
    }
   ],
   "source": [
    "resp['original_rationales'][2]"
   ]
  },
  {
   "cell_type": "code",
   "execution_count": null,
   "metadata": {},
   "outputs": [],
   "source": [
    "# Consistency Arguments\n",
    "args = consistency_parse_args()\n",
    "\n",
    "output_file = f\"misc/iterative_predictions_tr{args.train_slice}-{args.train_slice + args.num_shot}_dv{args.dev_slice}-{args.dev_slice + args.num_dev}_temp{args.temperature}.jsonl\"\n",
    "\n",
    "# Load existing IDs from output file\n",
    "existing_ids = set()\n",
    "if os.path.exists(output_file):\n",
    "    with open(output_file, \"r\") as f:\n",
    "        for line in f:\n",
    "            try:\n",
    "                data = json.loads(line.strip())\n",
    "                existing_ids.add(data[\"id\"])\n",
    "            except:\n",
    "                continue"
   ]
  }
 ],
 "metadata": {
  "kernelspec": {
   "display_name": "Python 3",
   "language": "python",
   "name": "python3"
  },
  "language_info": {
   "codemirror_mode": {
    "name": "ipython",
    "version": 3
   },
   "file_extension": ".py",
   "mimetype": "text/x-python",
   "name": "python",
   "nbconvert_exporter": "python",
   "pygments_lexer": "ipython3",
   "version": "3.12.7"
  }
 },
 "nbformat": 4,
 "nbformat_minor": 2
}
