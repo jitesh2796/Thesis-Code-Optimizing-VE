{
 "cells": [
  {
   "cell_type": "code",
   "execution_count": 1,
   "metadata": {},
   "outputs": [],
   "source": [
    "### Module 0: Importing Libraries\n",
    "import pandas as pd\n",
    "import numpy as np\n",
    "import pprint\n",
    "import os \n",
    "from time import time \n",
    "from dotenv import load_dotenv\n",
    "import json\n",
    "import argparse\n",
    "from tqdm import tqdm\n",
    "import matplotlib.pyplot as plt\n",
    "import seaborn as sns\n",
    "\n",
    "from openai import OpenAI\n",
    "import certifi\n",
    "\n",
    "## Importing VE libraries\n",
    "from utils import *\n",
    "from dataset_utils import read_wikiqa_data\n",
    "from prompt_helper import get_joint_prompt_helper, normalize_prediction\n",
    "from dataset_utils import read_wikiqa_data, wiki_evaluation\n",
    "# Override bad SSL_CERT_FILE if set\n",
    "os.environ[\"SSL_CERT_FILE\"] = certifi.where()"
   ]
  },
  {
   "cell_type": "code",
   "execution_count": 2,
   "metadata": {},
   "outputs": [
    {
     "name": "stderr",
     "output_type": "stream",
     "text": [
      "/Library/Frameworks/Python.framework/Versions/3.12/lib/python3.12/site-packages/tqdm/auto.py:21: TqdmWarning: IProgress not found. Please update jupyter and ipywidgets. See https://ipywidgets.readthedocs.io/en/stable/user_install.html\n",
      "  from .autonotebook import tqdm as notebook_tqdm\n"
     ]
    }
   ],
   "source": [
    "import os\n",
    "import argparse\n",
    "from tqdm import tqdm\n",
    "from utils import *\n",
    "from dataset_utils import read_wikiqa_data\n",
    "# from comp_utils import model_embeddings\n",
    "import sklearn\n",
    "from sentence_transformers import SentenceTransformer\n",
    "import consistency\n",
    "import pandas as pd\n",
    "import torch\n",
    "import verifying_questions\n",
    "from prompt_helper import get_joint_prompt_helper\n",
    "from matplotlib import pyplot as plt\n",
    "import numpy as np\n",
    "from nltk import tokenize\n",
    "import logging"
   ]
  },
  {
   "cell_type": "code",
   "execution_count": 3,
   "metadata": {},
   "outputs": [],
   "source": [
    "from relevant_context import _parse_args as relevant_parse_args, test_few_shot_manual_prediction as relevant_context_test_few_shot_manual_prediction"
   ]
  },
  {
   "cell_type": "code",
   "execution_count": 4,
   "metadata": {},
   "outputs": [],
   "source": [
    "args = relevant_parse_args()\n"
   ]
  },
  {
   "cell_type": "markdown",
   "metadata": {},
   "source": [
    "### Executing Code"
   ]
  },
  {
   "cell_type": "code",
   "execution_count": 5,
   "metadata": {},
   "outputs": [
    {
     "name": "stdout",
     "output_type": "stream",
     "text": [
      "Running prediction\n",
      "0 not found\n",
      "len(train_set):  5\n",
      "7 not found\n"
     ]
    },
    {
     "name": "stderr",
     "output_type": "stream",
     "text": [
      "Verifying: 100%|██████████| 10/10 [00:00<00:00, 17734.90it/s]\n"
     ]
    }
   ],
   "source": [
    "print(\"Running prediction\")\n",
    "train_set = read_wikiqa_data(f\"data/train_subset.json\", manual_annotation_style=args.style)\n",
    "train_set = train_set[args.train_slice:(args.train_slice + args.num_shot)]\n",
    "print('len(train_set): ', len(train_set))\n",
    "dev_set = read_wikiqa_data(f\"data/dev_sampled.json\")\n",
    "dev_set = dev_set[args.dev_slice:(args.num_dev)]\n",
    "\n",
    "# finished consistency and processs\n",
    "predictions = read_full(args, consistency)\n",
    "new_predictions, cons = [], []\n",
    "for i, p in enumerate(tqdm(predictions, total=len(predictions), desc=\"Verifying\")):\n",
    "    ex = dev_set[i]\n",
    "    con, new_p = consistency.post_process_consistency(ex, p, args)\n",
    "    cons.append(con)\n",
    "    new_predictions.append(new_p)\n",
    "predictions = new_predictions "
   ]
  },
  {
   "cell_type": "code",
   "execution_count": 6,
   "metadata": {},
   "outputs": [
    {
     "data": {
      "text/plain": [
       "10"
      ]
     },
     "execution_count": 6,
     "metadata": {},
     "output_type": "execute_result"
    }
   ],
   "source": [
    "len(predictions)"
   ]
  },
  {
   "cell_type": "code",
   "execution_count": 7,
   "metadata": {},
   "outputs": [
    {
     "data": {
      "text/plain": [
       "3"
      ]
     },
     "execution_count": 7,
     "metadata": {},
     "output_type": "execute_result"
    }
   ],
   "source": [
    "verifying_qs = read_full(args, verifying_questions, slice = False)\n",
    "len(verifying_qs)"
   ]
  },
  {
   "cell_type": "code",
   "execution_count": 8,
   "metadata": {},
   "outputs": [],
   "source": [
    "contexts = []\n",
    "\n",
    "device = torch.device(\"cuda\" if torch.cuda.is_available() else \"cpu\")\n",
    "embedding_model = SentenceTransformer('paraphrase-MiniLM-L6-v2').to(device)\n",
    "\n",
    "if 'drqa' in args.retrieval:\n",
    "    drqa_contexts = read_json_txt(args.drqa_path)\n",
    "if args.retrieval == 'google':\n",
    "    with open(args.google_path, 'rb') as f:\n",
    "        google_contexts = pickle.load(f)\n",
    "\n",
    "broken = False\n",
    "includes_before = []\n",
    "includes_after = []\n",
    "numbers = []\n",
    "num_supps = []\n",
    "num_keyword_overlaps = []"
   ]
  },
  {
   "cell_type": "code",
   "execution_count": 9,
   "metadata": {},
   "outputs": [
    {
     "name": "stderr",
     "output_type": "stream",
     "text": [
      "Verifying: 100%|██████████| 10/10 [00:00<00:00, 5417.60it/s]\n"
     ]
    }
   ],
   "source": [
    "for i, p in enumerate(tqdm(predictions, total=len(predictions), desc=\"Verifying\")):\n",
    "    cont = []\n",
    "    if p['consistency'] < args.consistency_threshold: # only predict again when lower consistency\n",
    "        ex = dev_set[i]\n",
    "        gt_cont = ex['supp_pars']\n",
    "        sentences = rationale_tokenize(p['rationale'])\n",
    "        id = ex['id']"
   ]
  },
  {
   "cell_type": "code",
   "execution_count": 10,
   "metadata": {},
   "outputs": [
    {
     "data": {
      "text/plain": [
       "([],\n",
       " '9c4a7a4f090c11ebbdadac1f6bf848b6',\n",
       " ['The Statement (Film) is a film from France. ',\n",
       "  'A Self Made Hero is also a film from France.'])"
      ]
     },
     "execution_count": 10,
     "metadata": {},
     "output_type": "execute_result"
    }
   ],
   "source": [
    "cont, id, sentences"
   ]
  },
  {
   "cell_type": "code",
   "execution_count": 11,
   "metadata": {},
   "outputs": [
    {
     "data": {
      "text/plain": [
       "['What country is the film A Self Made Hero from?',\n",
       " 'What country is the film A Self Made Hero from?']"
      ]
     },
     "execution_count": 11,
     "metadata": {},
     "output_type": "execute_result"
    }
   ],
   "source": [
    "vq = [c for c in verifying_qs if c['id']==id][0]['verifying_questions']\n",
    "all_pars_text = []\n",
    "all_pars = []\n",
    "vq"
   ]
  },
  {
   "cell_type": "code",
   "execution_count": 12,
   "metadata": {},
   "outputs": [
    {
     "data": {
      "text/plain": [
       "'What country is the film A Self Made Hero from?'"
      ]
     },
     "execution_count": 12,
     "metadata": {},
     "output_type": "execute_result"
    }
   ],
   "source": [
    "sent = vq[0]\n",
    "sent"
   ]
  },
  {
   "cell_type": "code",
   "execution_count": 39,
   "metadata": {},
   "outputs": [],
   "source": [
    "sent = \"Where did Ingmar Bergman, the director of the film Temptation (1959 Film), die?\""
   ]
  },
  {
   "cell_type": "code",
   "execution_count": 40,
   "metadata": {},
   "outputs": [
    {
     "name": "stdout",
     "output_type": "stream",
     "text": [
      "A 0.008889198303222656\n",
      "B 1.5065557956695557\n",
      "C 0.8164820671081543\n",
      "D 8.702278137207031e-05\n",
      "E 0.00012493133544921875\n",
      "F 0.4361579418182373\n",
      "G 46.5465452671051\n",
      "H 28.366061687469482\n"
     ]
    }
   ],
   "source": [
    "start = time()\n",
    "pars_text = get_texts_to_rationale_wikipedia(sent , False)\n",
    "end = time()"
   ]
  },
  {
   "cell_type": "code",
   "execution_count": 15,
   "metadata": {},
   "outputs": [
    {
     "data": {
      "text/plain": [
       "['A Self-Made Hero (French: Un héros très discret) is a 1996 French film directed by Jacques Audiard.',\n",
       " 'It is based on the novel by Jean-François Deniau.',\n",
       " 'Synopsis\\nThe film is presented in the style of a historical documentary, with an elderly Dehousse narrating the events of his life, interspersed with interviews with other characters and historians.',\n",
       " \"Albert Dehousse has grown up on heroic novels, unfortunately his life isn't quite so exciting.\",\n",
       " 'Albert lives in a village in northern France with his mother, who lives in memory of her husband, who she claims died a hero in the First World War.',\n",
       " 'SelfMadeHero is an independent publishing house which specialises in adapting works of literature, as well as producing ground-breaking original fiction in the graphic novel medium.',\n",
       " \"SelfMadeHero's books are distributed in the UK by Abrams & Chronicle Books and in the U.S.\",\n",
       " 'by Abrams Books.',\n",
       " 'History\\nSelfMadeHero was founded in February 2007 by Emma Hayley, and launched with two lines: Manga Shakespeare, featuring works based on the Bard but with different settings – mainly Japan in the past and future, and Eye Classics, which are adaptations of great classic works, such as those of Poe and Kafka.',\n",
       " 'In 2008 Emma Hayley was named UK Young Publishing Entrepreneur of the Year as part of the British Book Awards.',\n",
       " 'The Army Comrades Association (ACA), later the National Guard, then Young Ireland and finally League of Youth, but best known by the nickname the Blueshirts (Irish: Na Léinte Gorma), was a paramilitary organisation in the Irish Free State, founded as the Army Comrades Association in Dublin on 9 February 1932.',\n",
       " 'The group provided physical protection for political groups such as Cumann na nGaedheal from intimidation and attacks by the IRA.',\n",
       " 'Some former members went on to fight for the Nationalists in the Spanish Civil War after the group had been dissolved.',\n",
       " 'Most of the political parties whose meetings the Blueshirts protected would merge to become Fine Gael, and members of that party are still sometimes nicknamed \"Blueshirts\".',\n",
       " 'There has been considerable debate in Irish historiography over whether or not it is accurate to describe the Blueshirts as fascists.',\n",
       " 'Jacques Audiard (French: [ʒak odjaʁ]; born 30 April 1952) is a French film director, producer, and screenwriter.',\n",
       " 'One of the most awarded French filmmakers in history, his international accolades include an Academy Award, two British Academy Film Awards, and three Golden Globes.',\n",
       " \"He holds the record for most individual wins in the history of the César Awards, France's national film awards, with thirteen wins between 1995 and 2025 including three separate Best Film/Best Director/Best Screenplay trifectas, and won four prizes from the Cannes Film Festival.\",\n",
       " 'After working extensively as a screenwriter since the 1970s, Audiard made his directorial debut with See How They Fall (1994), followed by A Self-Made Hero (1996) and Read My Lips (2001).',\n",
       " 'His drama The Beat That My Heart Skipped (2005) was seen as his breakout film, earning him a BAFTA and his first César trifecta, followed by a second for the prison crime drama A Prophet (2009), which earned a nomination for the Academy Award for Best Foreign Language Film.',\n",
       " \"Eoin O'Duffy (born Owen Duffy; 28 January 1890 – 30 November 1944) was an Irish revolutionary, soldier, police commissioner, politician and fascist.\",\n",
       " \"O'Duffy was the leader of the Monaghan Brigade of the Irish Republican Army (IRA) and a prominent figure in the Ulster IRA during the Irish War of Independence.\",\n",
       " 'In this capacity, he became Chief of Staff of the IRA in 1922.',\n",
       " 'He accepted the Anglo-Irish Treaty and as a general became Chief of Staff of the National Army in the Irish Civil War, on the pro-Treaty side.',\n",
       " 'He had been an early member of Sinn Féin and was elected a Teachta Dála (TD) for Monaghan in the Second Dáil in 1921, supporting pro-Treaty Sinn Féin in the split of 1922.',\n",
       " 'Weak Hero (Korean: 약한영웅) is a South Korean television series written and directed by Yoo Soo-min with Kim Jin-seok and Park Dan-hee, starring Park Ji-hoon, Choi Hyun-wook and Hong Kyung.',\n",
       " 'It is based on the Naver webtoon Weak Hero by Seopass and Kim Jin-seok (Razen), which was published in 2018.',\n",
       " 'The first three episodes premiered at the 27th Busan International Film Festival, which was held from October 5 to 14, 2022.',\n",
       " 'The first season was released on Wavve on November 18, 2022.',\n",
       " 'The second season was released on Netflix on April 25, 2025.',\n",
       " 'A Self-Made Hero (French: Un héros très discret) is a 1996 French film directed by Jacques Audiard.',\n",
       " 'It is based on the novel by Jean-François Deniau.',\n",
       " 'Synopsis\\nThe film is presented in the style of a historical documentary, with an elderly Dehousse narrating the events of his life, interspersed with interviews with other characters and historians.',\n",
       " \"Albert Dehousse has grown up on heroic novels, unfortunately his life isn't quite so exciting.\",\n",
       " 'Albert lives in a village in northern France with his mother, who lives in memory of her husband, who she claims died a hero in the First World War.',\n",
       " \"No Country for Old Men is a 2007 American neo-Western crime thriller film written, directed, produced and edited by Joel and Ethan Coen, based on Cormac McCarthy's 2005 novel.\",\n",
       " 'Starring Tommy Lee Jones, Javier Bardem, and Josh Brolin, the film is set in the desert landscape of 1980 West Texas.',\n",
       " 'The film revisits the themes of fate, conscience, and circumstance that the Coen brothers had explored in the films Blood Simple (1984), Raising Arizona (1987), and Fargo (1996).',\n",
       " 'The film follows three main characters: Llewelyn Moss (Brolin), a Vietnam War veteran and welder who stumbles upon a large sum of money in the desert; Anton Chigurh (Bardem), a hitman who is sent to recover the money; and Ed Tom Bell (Jones), a sheriff investigating the crime.',\n",
       " \"The film also stars Kelly Macdonald as Moss's wife, Carla Jean, and Woody Harrelson as Carson Wells, a bounty hunter seeking Moss and the return of the money, $2 million.\",\n",
       " 'Last Action Hero is a 1993 American fantasy action comedy film directed and produced by John McTiernan and co-written by Shane Black and David Arnott.',\n",
       " 'It is a satire of the action genre and associated clichés, containing several parodies of action films in the form of films within the film.',\n",
       " \"The film stars Arnold Schwarzenegger as Jack Slater, a Los Angeles police detective within the Jack Slater action film franchise, while Austin O'Brien co-stars as Danny Madigan, a boy magically transported into the Slater universe, and Charles Dance as Mr.\",\n",
       " 'Benedict, a ruthless assassin from the Slater universe who escapes to the real world.',\n",
       " \"Schwarzenegger also served as the film's executive producer and plays himself as the actor portraying Jack Slater.\",\n",
       " 'A hero (feminine: heroine) is a real person or fictional character who, in the face of danger, combats adversity through feats of ingenuity, courage, or strength.',\n",
       " 'The original hero type of classical epics did such things for the sake of glory and honor.',\n",
       " 'Post-classical and modern heroes, on the other hand, perform great deeds or selfless acts for the common good instead of the classical goal of wealth, pride, and fame.',\n",
       " 'The antonym of hero is villain.',\n",
       " 'Other terms associated with the concept of hero may include good guy or white hat.']"
      ]
     },
     "execution_count": 15,
     "metadata": {},
     "output_type": "execute_result"
    }
   ],
   "source": [
    "pars_text"
   ]
  },
  {
   "cell_type": "code",
   "execution_count": 16,
   "metadata": {},
   "outputs": [
    {
     "data": {
      "text/plain": [
       "50"
      ]
     },
     "execution_count": 16,
     "metadata": {},
     "output_type": "execute_result"
    }
   ],
   "source": [
    "len(pars_text)"
   ]
  },
  {
   "cell_type": "code",
   "execution_count": 17,
   "metadata": {},
   "outputs": [],
   "source": [
    "pars_text = list(dict.fromkeys(pars_text)) #remove potential duplicates\n",
    "all_pars_text += pars_text"
   ]
  },
  {
   "cell_type": "code",
   "execution_count": 18,
   "metadata": {},
   "outputs": [
    {
     "data": {
      "text/plain": [
       "45"
      ]
     },
     "execution_count": 18,
     "metadata": {},
     "output_type": "execute_result"
    }
   ],
   "source": [
    "len(pars_text)"
   ]
  },
  {
   "cell_type": "code",
   "execution_count": 21,
   "metadata": {},
   "outputs": [],
   "source": [
    "def model_embeddings(sentence, model):\n",
    "    embedding = model.encode([sentence])\n",
    "    return embedding[0] #should return an array of shape 384"
   ]
  },
  {
   "cell_type": "code",
   "execution_count": 23,
   "metadata": {},
   "outputs": [],
   "source": [
    "sen_embeds = [model_embeddings(sent, embedding_model)]\n",
    "par_embeds = [model_embeddings(s, embedding_model) for s in pars_text]\n",
    "\n"
   ]
  },
  {
   "cell_type": "code",
   "execution_count": 26,
   "metadata": {},
   "outputs": [],
   "source": [
    "pars = sklearn.metrics.pairwise.pairwise_distances(sen_embeds, par_embeds)\n"
   ]
  },
  {
   "cell_type": "code",
   "execution_count": 27,
   "metadata": {},
   "outputs": [
    {
     "data": {
      "text/plain": [
       "array([[5.5609794, 7.550731 , 6.408272 , 7.193566 , 6.89299  , 7.165553 ,\n",
       "        7.1266055, 8.92165  , 5.9714594, 7.9653397, 7.3592205, 8.020057 ,\n",
       "        8.087286 , 7.9294963, 7.7201314, 7.4307632, 6.5333943, 6.599609 ,\n",
       "        6.2533507, 5.968159 , 8.069149 , 8.218054 , 8.522786 , 7.7088785,\n",
       "        8.208936 , 7.1057997, 7.1435347, 7.2951593, 8.40378  , 9.074446 ,\n",
       "        6.3123426, 6.849242 , 6.6262903, 6.314308 , 7.3572206, 6.2789574,\n",
       "        6.527658 , 6.409714 , 7.453066 , 7.285027 , 5.9770036, 6.87745  ,\n",
       "        6.276412 , 6.8885446, 6.1412134]], dtype=float32)"
      ]
     },
     "execution_count": 27,
     "metadata": {},
     "output_type": "execute_result"
    }
   ],
   "source": [
    "pars"
   ]
  },
  {
   "cell_type": "code",
   "execution_count": 28,
   "metadata": {},
   "outputs": [
    {
     "data": {
      "text/plain": [
       "3"
      ]
     },
     "execution_count": 28,
     "metadata": {},
     "output_type": "execute_result"
    }
   ],
   "source": [
    "args.topk"
   ]
  },
  {
   "cell_type": "code",
   "execution_count": 29,
   "metadata": {},
   "outputs": [],
   "source": [
    "pars = pars.argsort(axis = 1)[0][:args.topk]"
   ]
  },
  {
   "cell_type": "code",
   "execution_count": 30,
   "metadata": {},
   "outputs": [
    {
     "data": {
      "text/plain": [
       "array([ 0, 19,  8])"
      ]
     },
     "execution_count": 30,
     "metadata": {},
     "output_type": "execute_result"
    }
   ],
   "source": [
    "pars"
   ]
  },
  {
   "cell_type": "code",
   "execution_count": 31,
   "metadata": {},
   "outputs": [],
   "source": [
    "pars = [pars_text[i] for i in pars]\n",
    "cont.append(pars)\n",
    "all_pars += pars"
   ]
  },
  {
   "cell_type": "code",
   "execution_count": 32,
   "metadata": {},
   "outputs": [
    {
     "data": {
      "text/plain": [
       "['A Self-Made Hero (French: Un héros très discret) is a 1996 French film directed by Jacques Audiard.',\n",
       " 'His drama The Beat That My Heart Skipped (2005) was seen as his breakout film, earning him a BAFTA and his first César trifecta, followed by a second for the prison crime drama A Prophet (2009), which earned a nomination for the Academy Award for Best Foreign Language Film.',\n",
       " 'History\\nSelfMadeHero was founded in February 2007 by Emma Hayley, and launched with two lines: Manga Shakespeare, featuring works based on the Bard but with different settings – mainly Japan in the past and future, and Eye Classics, which are adaptations of great classic works, such as those of Poe and Kafka.']"
      ]
     },
     "execution_count": 32,
     "metadata": {},
     "output_type": "execute_result"
    }
   ],
   "source": [
    "all_pars"
   ]
  },
  {
   "cell_type": "markdown",
   "metadata": {},
   "source": [
    "### Breaking get_texts_to_rationale_wikipedia function"
   ]
  },
  {
   "cell_type": "code",
   "execution_count": 33,
   "metadata": {},
   "outputs": [
    {
     "data": {
      "text/plain": [
       "'What country is the film A Self Made Hero from?'"
      ]
     },
     "execution_count": 33,
     "metadata": {},
     "output_type": "execute_result"
    }
   ],
   "source": [
    "sent = vq[0]\n",
    "sent"
   ]
  },
  {
   "cell_type": "code",
   "execution_count": null,
   "metadata": {},
   "outputs": [],
   "source": [
    "# # pars_text = get_texts_to_rationale_wikipedia(vq[j], False)\n",
    "\n",
    "# def get_texts_to_rationale_wikipedia(rationale, no_links):\n",
    "#     t1 = time()\n",
    "#     valid_ents = find_ents(rationale)\n",
    "#     t2 =time()\n",
    "#     print(\"A\", t2-t1)\n",
    "#     # find pages\n",
    "#     pages_to_ents = relevant_pages_to_ents(valid_ents, topk = 5)\n",
    "#     t3 = time()\n",
    "#     print(\"B\", t3-t2)\n",
    "#     pages_to_rationale = relevant_pages_to_rationale(rationale, topk = 5)\n",
    "#     t4 =time()\n",
    "#     print(\"C\", t4-t3)\n",
    "#     page_titles = pages_to_ents + pages_to_rationale\n",
    "#     t5 =time()\n",
    "#     print(\"D\", t5- t4)\n",
    "#     pages = get_wiki_objs(page_titles)\n",
    "#     t6 = time()\n",
    "#     print(\"E\", t6-t5)\n",
    "#     new_pages = []\n",
    "#     for i, pt in enumerate(page_titles):\n",
    "#         if 'disambiguation' in pt:\n",
    "#             new_pages += get_linked_pages([pages[i]], topk = -1)\n",
    "#         else:\n",
    "#             new_pages += [pages[i]]\n",
    "#     t7 =time()\n",
    "#     print(\"F\", t7-t6)\n",
    "#     pages = new_pages\n",
    "#     if not no_links:\n",
    "#         # add linked pages\n",
    "#         pages + get_linked_pages(pages, topk = 5)\n",
    "#     # get rid of duplicates\n",
    "#     t8 = time()\n",
    "#     print(\"G\", t8-t7)\n",
    "#     pages = list(dict.fromkeys(pages))\n",
    "#     # get texts\n",
    "#     texts = get_texts_to_pages(pages, topk = 5)\n",
    "#     t9 =time()\n",
    "#     print(\"H\", t9-t8)\n",
    "#     return texts"
   ]
  },
  {
   "cell_type": "code",
   "execution_count": 41,
   "metadata": {},
   "outputs": [],
   "source": [
    "sent = \"Where did Ingmar Bergman, the director of the film Temptation (1959 Film), die?\""
   ]
  },
  {
   "cell_type": "code",
   "execution_count": 42,
   "metadata": {},
   "outputs": [],
   "source": [
    "rationale = sent"
   ]
  },
  {
   "cell_type": "code",
   "execution_count": 46,
   "metadata": {},
   "outputs": [
    {
     "data": {
      "text/plain": [
       "['Ingmar Bergman', 'Temptation (1959 Film']"
      ]
     },
     "execution_count": 46,
     "metadata": {},
     "output_type": "execute_result"
    }
   ],
   "source": [
    "\n",
    "valid_ents = find_ents(rationale)\n",
    "valid_ents"
   ]
  },
  {
   "cell_type": "code",
   "execution_count": 47,
   "metadata": {},
   "outputs": [
    {
     "data": {
      "text/plain": [
       "['Ingmar Bergman',\n",
       " 'Ingmar Bergman filmography',\n",
       " 'The Seduction of Ingmar Bergman',\n",
       " 'Gun Bergman',\n",
       " 'Erik Bergman (Lutheran minister)',\n",
       " 'Temptation (1959 film)',\n",
       " 'Temptation (disambiguation)',\n",
       " 'Temptation Island',\n",
       " 'Temptation Harbour',\n",
       " 'The Temptations']"
      ]
     },
     "execution_count": 47,
     "metadata": {},
     "output_type": "execute_result"
    }
   ],
   "source": [
    "# can be reduced to 3?\n",
    "pages_to_ents = relevant_pages_to_ents(valid_ents, topk = 5)\n",
    "pages_to_ents"
   ]
  },
  {
   "cell_type": "code",
   "execution_count": 48,
   "metadata": {},
   "outputs": [
    {
     "data": {
      "text/plain": [
       "['List of film director–composer collaborations',\n",
       " 'Andrei Tarkovsky',\n",
       " 'Martin Scorsese',\n",
       " 'List of film director and cinematographer collaborations',\n",
       " 'List of directorial debuts']"
      ]
     },
     "execution_count": 48,
     "metadata": {},
     "output_type": "execute_result"
    }
   ],
   "source": [
    "# Giving out very irrelevant topics, should be reduced to 2-3 max\n",
    "pages_to_rationale = relevant_pages_to_rationale(rationale, topk = 5)\n",
    "pages_to_rationale"
   ]
  },
  {
   "cell_type": "code",
   "execution_count": 49,
   "metadata": {},
   "outputs": [
    {
     "data": {
      "text/plain": [
       "['Ingmar Bergman',\n",
       " 'Ingmar Bergman filmography',\n",
       " 'The Seduction of Ingmar Bergman',\n",
       " 'Gun Bergman',\n",
       " 'Erik Bergman (Lutheran minister)',\n",
       " 'Temptation (1959 film)',\n",
       " 'Temptation (disambiguation)',\n",
       " 'Temptation Island',\n",
       " 'Temptation Harbour',\n",
       " 'The Temptations',\n",
       " 'List of film director–composer collaborations',\n",
       " 'Andrei Tarkovsky',\n",
       " 'Martin Scorsese',\n",
       " 'List of film director and cinematographer collaborations',\n",
       " 'List of directorial debuts']"
      ]
     },
     "execution_count": 49,
     "metadata": {},
     "output_type": "execute_result"
    }
   ],
   "source": [
    "page_titles = pages_to_ents + pages_to_rationale\n",
    "page_titles"
   ]
  },
  {
   "cell_type": "code",
   "execution_count": 50,
   "metadata": {},
   "outputs": [
    {
     "data": {
      "text/plain": [
       "[Ingmar Bergman (lang: en, variant: None, id: ??, ns: 0),\n",
       " Ingmar Bergman filmography (lang: en, variant: None, id: ??, ns: 0),\n",
       " The Seduction of Ingmar Bergman (lang: en, variant: None, id: ??, ns: 0),\n",
       " Gun Bergman (lang: en, variant: None, id: ??, ns: 0),\n",
       " Erik Bergman (Lutheran minister) (lang: en, variant: None, id: ??, ns: 0),\n",
       " Temptation (1959 film) (lang: en, variant: None, id: ??, ns: 0),\n",
       " Temptation (disambiguation) (lang: en, variant: None, id: ??, ns: 0),\n",
       " Temptation Island (lang: en, variant: None, id: ??, ns: 0),\n",
       " Temptation Harbour (lang: en, variant: None, id: ??, ns: 0),\n",
       " The Temptations (lang: en, variant: None, id: ??, ns: 0),\n",
       " List of film director–composer collaborations (lang: en, variant: None, id: ??, ns: 0),\n",
       " Andrei Tarkovsky (lang: en, variant: None, id: ??, ns: 0),\n",
       " Martin Scorsese (lang: en, variant: None, id: ??, ns: 0),\n",
       " List of film director and cinematographer collaborations (lang: en, variant: None, id: ??, ns: 0),\n",
       " List of directorial debuts (lang: en, variant: None, id: ??, ns: 0)]"
      ]
     },
     "execution_count": 50,
     "metadata": {},
     "output_type": "execute_result"
    }
   ],
   "source": [
    "pages = get_wiki_objs(page_titles)\n",
    "pages"
   ]
  },
  {
   "cell_type": "code",
   "execution_count": 51,
   "metadata": {},
   "outputs": [],
   "source": [
    "new_pages = []\n",
    "for i, pt in enumerate(page_titles):\n",
    "    if 'disambiguation' in pt:\n",
    "        new_pages += get_linked_pages([pages[i]], topk = -1)\n",
    "    else:\n",
    "        new_pages += [pages[i]]"
   ]
  },
  {
   "cell_type": "code",
   "execution_count": 52,
   "metadata": {},
   "outputs": [
    {
     "data": {
      "text/plain": [
       "[Ingmar Bergman (lang: en, variant: None, id: ??, ns: 0),\n",
       " Ingmar Bergman filmography (lang: en, variant: None, id: ??, ns: 0),\n",
       " The Seduction of Ingmar Bergman (lang: en, variant: None, id: ??, ns: 0),\n",
       " Gun Bergman (lang: en, variant: None, id: ??, ns: 0),\n",
       " Erik Bergman (Lutheran minister) (lang: en, variant: None, id: ??, ns: 0),\n",
       " Temptation (1959 film) (lang: en, variant: None, id: ??, ns: 0),\n",
       " Around the World in a Day (lang: en, variant: None, id: ??, ns: 0),\n",
       " Franks Wild Years (lang: en, variant: None, id: ??, ns: 0),\n",
       " Get Happy!! (Elvis Costello album) (lang: en, variant: None, id: ??, ns: 0),\n",
       " Get Squared (lang: en, variant: None, id: ??, ns: 0),\n",
       " Higher and Higher: The Best of Heaven 17 (lang: en, variant: None, id: ??, ns: 0),\n",
       " IV (Godsmack album) (lang: en, variant: None, id: ??, ns: 0),\n",
       " List of Code Lyoko episodes (lang: en, variant: None, id: ??, ns: 0),\n",
       " List of Italian films of 1968 (lang: en, variant: None, id: ??, ns: 0),\n",
       " List of The Price Is Right pricing games (lang: en, variant: None, id: ??, ns: 0),\n",
       " Los Angeles Temptation (lang: en, variant: None, id: ??, ns: 0),\n",
       " Temptation (lang: en, variant: None, id: ??, ns: 0),\n",
       " Temptation: Confessions of a Marriage Counselor (lang: en, variant: None, id: ??, ns: 0),\n",
       " Temptation (1915 film) (lang: en, variant: None, id: ??, ns: 0),\n",
       " Temptation (1929 film) (lang: en, variant: None, id: ??, ns: 0),\n",
       " Temptation (1934 film) (lang: en, variant: None, id: ??, ns: 0),\n",
       " Temptation (1935 film) (lang: en, variant: None, id: ??, ns: 0),\n",
       " Temptation (1936 film) (lang: en, variant: None, id: ??, ns: 0),\n",
       " Temptation (1942 film) (lang: en, variant: None, id: ??, ns: 0),\n",
       " Temptation (1946 film) (lang: en, variant: None, id: ??, ns: 0),\n",
       " Temptation (1959 film) (lang: en, variant: None, id: ??, ns: 0),\n",
       " Temptation (1967 American game show) (lang: en, variant: None, id: ??, ns: 0),\n",
       " Temptation (1968 film) (lang: en, variant: None, id: ??, ns: 0),\n",
       " Temptation (2003 film) (lang: en, variant: None, id: ??, ns: 0),\n",
       " Temptation (2004 film) (lang: en, variant: None, id: ??, ns: 0),\n",
       " Temptation (2007 U.S. game show) (lang: en, variant: None, id: ??, ns: 0),\n",
       " Temptation (2014 TV series) (lang: en, variant: None, id: ??, ns: 0),\n",
       " Temptation (Arash song) (lang: en, variant: None, id: ??, ns: 0),\n",
       " Temptation (Australian game show) (lang: en, variant: None, id: ??, ns: 0),\n",
       " Temptation (Brenda K. Starr album) (lang: en, variant: None, id: ??, ns: 0),\n",
       " Temptation (Corina song) (lang: en, variant: None, id: ??, ns: 0),\n",
       " Temptation (Emigrate song) (lang: en, variant: None, id: ??, ns: 0),\n",
       " Temptation (Harisu album) (lang: en, variant: None, id: ??, ns: 0),\n",
       " Temptation (Heaven 17 song) (lang: en, variant: None, id: ??, ns: 0),\n",
       " Temptation (Holly Cole album) (lang: en, variant: None, id: ??, ns: 0),\n",
       " Temptation (Joey Badass song) (lang: en, variant: None, id: ??, ns: 0),\n",
       " Temptation (Monrose album) (lang: en, variant: None, id: ??, ns: 0),\n",
       " Temptation (Nacio Herb Brown and Arthur Freed song) (lang: en, variant: None, id: ??, ns: 0),\n",
       " Temptation (New Order song) (lang: en, variant: None, id: ??, ns: 0),\n",
       " Temptation (Shelby Lynne album) (lang: en, variant: None, id: ??, ns: 0),\n",
       " Temptation (The Tea Party song) (lang: en, variant: None, id: ??, ns: 0),\n",
       " Temptation (Wet Wet Wet song) (lang: en, variant: None, id: ??, ns: 0),\n",
       " Temptation (novella) (lang: en, variant: None, id: ??, ns: 0),\n",
       " Temptation (play) (lang: en, variant: None, id: ??, ns: 0),\n",
       " Temptation of Christ (lang: en, variant: None, id: ??, ns: 0),\n",
       " Temptations (song) (lang: en, variant: None, id: ??, ns: 0),\n",
       " The Temptations (lang: en, variant: None, id: ??, ns: 0),\n",
       " The Temptations (New York vocal group) (lang: en, variant: None, id: ??, ns: 0),\n",
       " The Temptations (miniseries) (lang: en, variant: None, id: ??, ns: 0),\n",
       " The Writing's on the Wall (lang: en, variant: None, id: ??, ns: 0),\n",
       " Talk:Temptation (disambiguation) (lang: en, variant: None, id: ??, ns: 1),\n",
       " Help:Disambiguation (lang: en, variant: None, id: ??, ns: 12),\n",
       " Temptation Island (lang: en, variant: None, id: ??, ns: 0),\n",
       " Temptation Harbour (lang: en, variant: None, id: ??, ns: 0),\n",
       " The Temptations (lang: en, variant: None, id: ??, ns: 0),\n",
       " List of film director–composer collaborations (lang: en, variant: None, id: ??, ns: 0),\n",
       " Andrei Tarkovsky (lang: en, variant: None, id: ??, ns: 0),\n",
       " Martin Scorsese (lang: en, variant: None, id: ??, ns: 0),\n",
       " List of film director and cinematographer collaborations (lang: en, variant: None, id: ??, ns: 0),\n",
       " List of directorial debuts (lang: en, variant: None, id: ??, ns: 0)]"
      ]
     },
     "execution_count": 52,
     "metadata": {},
     "output_type": "execute_result"
    }
   ],
   "source": [
    "new_pages"
   ]
  },
  {
   "cell_type": "code",
   "execution_count": 53,
   "metadata": {},
   "outputs": [
    {
     "data": {
      "text/plain": [
       "65"
      ]
     },
     "execution_count": 53,
     "metadata": {},
     "output_type": "execute_result"
    }
   ],
   "source": [
    "len(new_pages)"
   ]
  },
  {
   "cell_type": "code",
   "execution_count": 54,
   "metadata": {},
   "outputs": [],
   "source": [
    "def get_linked_pages(wiki_pages, topk = 5):\n",
    "    linked_ents = []\n",
    "    for wp in wiki_pages:\n",
    "        linked_ents += list(wp.links.values())\n",
    "        if topk != -1:\n",
    "            linked_ents = linked_ents[:topk]\n",
    "    return linked_ents\n"
   ]
  },
  {
   "cell_type": "code",
   "execution_count": 56,
   "metadata": {},
   "outputs": [],
   "source": [
    "x = page_titles[6]"
   ]
  },
  {
   "cell_type": "code",
   "execution_count": 62,
   "metadata": {},
   "outputs": [
    {
     "data": {
      "text/plain": [
       "wikipediaapi.WikipediaPage"
      ]
     },
     "execution_count": 62,
     "metadata": {},
     "output_type": "execute_result"
    }
   ],
   "source": [
    "type(pages[6])"
   ]
  },
  {
   "cell_type": "code",
   "execution_count": 59,
   "metadata": {},
   "outputs": [],
   "source": [
    "x = [pages[6]]"
   ]
  },
  {
   "cell_type": "code",
   "execution_count": 65,
   "metadata": {},
   "outputs": [
    {
     "data": {
      "text/plain": [
       "[Around the World in a Day (lang: en, variant: None, id: ??, ns: 0),\n",
       " Franks Wild Years (lang: en, variant: None, id: ??, ns: 0),\n",
       " Get Happy!! (Elvis Costello album) (lang: en, variant: None, id: ??, ns: 0)]"
      ]
     },
     "execution_count": 65,
     "metadata": {},
     "output_type": "execute_result"
    }
   ],
   "source": [
    "get_linked_pages(x, topk= 3)"
   ]
  },
  {
   "cell_type": "code",
   "execution_count": 67,
   "metadata": {},
   "outputs": [],
   "source": [
    "no_links = False"
   ]
  },
  {
   "cell_type": "code",
   "execution_count": 72,
   "metadata": {},
   "outputs": [
    {
     "data": {
      "text/plain": [
       "65"
      ]
     },
     "execution_count": 72,
     "metadata": {},
     "output_type": "execute_result"
    }
   ],
   "source": [
    "len(new_pages)"
   ]
  },
  {
   "cell_type": "code",
   "execution_count": 68,
   "metadata": {},
   "outputs": [],
   "source": [
    "pages = new_pages\n",
    "if not no_links:\n",
    "    # add linked pages\n",
    "    pages + get_linked_pages(pages, topk = 5)"
   ]
  },
  {
   "cell_type": "code",
   "execution_count": 69,
   "metadata": {},
   "outputs": [
    {
     "data": {
      "text/plain": [
       "[Ingmar Bergman (lang: en, variant: None, id: 14626, ns: 0),\n",
       " Ingmar Bergman filmography (lang: en, variant: None, id: 13075438, ns: 0),\n",
       " The Seduction of Ingmar Bergman (lang: en, variant: None, id: 24304987, ns: 0),\n",
       " Gun Bergman (lang: en, variant: None, id: 68025669, ns: 0),\n",
       " Erik Bergman (Lutheran minister) (lang: en, variant: None, id: 12544302, ns: 0),\n",
       " Temptation (1959 film) (lang: en, variant: None, id: 49072114, ns: 0),\n",
       " Around the World in a Day (lang: en, variant: None, id: 1922114, ns: 0),\n",
       " Franks Wild Years (lang: en, variant: None, id: 589981, ns: 0),\n",
       " Get Happy!! (Elvis Costello album) (lang: en, variant: None, id: 1344544, ns: 0),\n",
       " Get Squared (lang: en, variant: None, id: 5247678, ns: 0),\n",
       " Higher and Higher: The Best of Heaven 17 (lang: en, variant: None, id: 62723611, ns: 0),\n",
       " IV (Godsmack album) (lang: en, variant: None, id: 4131804, ns: 0),\n",
       " List of Code Lyoko episodes (lang: en, variant: None, id: 4699160, ns: 0),\n",
       " List of Italian films of 1968 (lang: en, variant: None, id: 14627431, ns: 0),\n",
       " List of The Price Is Right pricing games (lang: en, variant: None, id: 25047006, ns: 0),\n",
       " Los Angeles Temptation (lang: en, variant: None, id: 639061, ns: 0),\n",
       " Temptation (lang: en, variant: None, id: 7040454, ns: 0),\n",
       " Temptation: Confessions of a Marriage Counselor (lang: en, variant: None, id: 33182485, ns: 0),\n",
       " Temptation (1915 film) (lang: en, variant: None, id: 14627416, ns: 0),\n",
       " Temptation (1929 film) (lang: en, variant: None, id: 50842015, ns: 0),\n",
       " Temptation (1934 film) (lang: en, variant: None, id: 47679757, ns: 0),\n",
       " Temptation (1935 film) (lang: en, variant: None, id: 64174583, ns: 0),\n",
       " Temptation (1936 film) (lang: en, variant: None, id: 75030132, ns: 0),\n",
       " Temptation (1942 film) (lang: en, variant: None, id: 75251305, ns: 0),\n",
       " Temptation (1946 film) (lang: en, variant: None, id: 31003121, ns: 0),\n",
       " Temptation (1959 film) (lang: en, variant: None, id: 49072114, ns: 0),\n",
       " Temptation (1967 American game show) (lang: en, variant: None, id: 8356639, ns: 0),\n",
       " Temptation (1968 film) (lang: en, variant: None, id: -1, ns: 0),\n",
       " Temptation (2003 film) (lang: en, variant: None, id: 8654180, ns: 0),\n",
       " Temptation (2004 film) (lang: en, variant: None, id: 24199947, ns: 0),\n",
       " Temptation (2007 American game show) (lang: en, variant: None, id: 11012694, ns: 0),\n",
       " Temptation (2014 TV series) (lang: en, variant: None, id: 43043913, ns: 0),\n",
       " Temptation (Arash song) (lang: en, variant: None, id: 41777890, ns: 0),\n",
       " Temptation (Australian game show) (lang: en, variant: None, id: 4474362, ns: 0),\n",
       " Temptation (Brenda K. Starr album) (lang: en, variant: None, id: 11682332, ns: 0),\n",
       " Temptation (Corina song) (lang: en, variant: None, id: 25385653, ns: 0),\n",
       " Emigrate (album) (lang: en, variant: None, id: 7120858, ns: 0),\n",
       " Temptation (Harisu album) (lang: en, variant: None, id: 11597702, ns: 0),\n",
       " Temptation (Heaven 17 song) (lang: en, variant: None, id: 7583500, ns: 0),\n",
       " Temptation (Holly Cole album) (lang: en, variant: None, id: 586259, ns: 0),\n",
       " Temptation (Joey Badass song) (lang: en, variant: None, id: 76427801, ns: 0),\n",
       " Temptation (Monrose album) (lang: en, variant: None, id: 8092650, ns: 0),\n",
       " Temptation (Nacio Herb Brown and Arthur Freed song) (lang: en, variant: None, id: 2063513, ns: 0),\n",
       " Temptation (New Order song) (lang: en, variant: None, id: 1091597, ns: 0),\n",
       " Temptation (Shelby Lynne album) (lang: en, variant: None, id: 27975641, ns: 0),\n",
       " Temptation (The Tea Party song) (lang: en, variant: None, id: 10745737, ns: 0),\n",
       " Temptation (Wet Wet Wet song) (lang: en, variant: None, id: 7915796, ns: 0),\n",
       " Uplift Storm trilogy (lang: en, variant: None, id: 70560775, ns: 0),\n",
       " Temptation (play) (lang: en, variant: None, id: 34579492, ns: 0),\n",
       " Temptation of Christ (lang: en, variant: None, id: 2405263, ns: 0),\n",
       " Temptations (song) (lang: en, variant: None, id: 7150058, ns: 0),\n",
       " The Temptations (lang: en, variant: None, id: 147645, ns: 0),\n",
       " The Temptations (New York vocal group) (lang: en, variant: None, id: 27397669, ns: 0),\n",
       " The Temptations (miniseries) (lang: en, variant: None, id: 1501461, ns: 0),\n",
       " The Writing's on the Wall (lang: en, variant: None, id: 2113034, ns: 0),\n",
       " Talk:Temptation (disambiguation) (lang: en, variant: None, id: 20472622, ns: 1),\n",
       " Help:Disambiguation (lang: en, variant: None, id: 25855957, ns: 12),\n",
       " Temptation Island (lang: en, variant: None, id: 32101404, ns: 0),\n",
       " Temptation Harbour (lang: en, variant: None, id: 15111736, ns: 0),\n",
       " The Temptations (lang: en, variant: None, id: 147645, ns: 0),\n",
       " List of film director–composer collaborations (lang: en, variant: None, id: 3389561, ns: 0),\n",
       " Andrei Tarkovsky (lang: en, variant: None, id: 676, ns: 0),\n",
       " Martin Scorsese (lang: en, variant: None, id: 18995, ns: 0),\n",
       " List of film director and cinematographer collaborations (lang: en, variant: None, id: 37804326, ns: 0),\n",
       " List of directorial debuts (lang: en, variant: None, id: 14754753, ns: 0)]"
      ]
     },
     "execution_count": 69,
     "metadata": {},
     "output_type": "execute_result"
    }
   ],
   "source": [
    "pages"
   ]
  },
  {
   "cell_type": "code",
   "execution_count": 70,
   "metadata": {},
   "outputs": [
    {
     "data": {
      "text/plain": [
       "65"
      ]
     },
     "execution_count": 70,
     "metadata": {},
     "output_type": "execute_result"
    }
   ],
   "source": [
    "len(pages)"
   ]
  },
  {
   "cell_type": "code",
   "execution_count": 73,
   "metadata": {},
   "outputs": [
    {
     "data": {
      "text/plain": [
       "[Ingmar Bergman (lang: en, variant: None, id: 14626, ns: 0),\n",
       " Ingmar Bergman filmography (lang: en, variant: None, id: 13075438, ns: 0),\n",
       " The Seduction of Ingmar Bergman (lang: en, variant: None, id: 24304987, ns: 0),\n",
       " Gun Bergman (lang: en, variant: None, id: 68025669, ns: 0),\n",
       " Erik Bergman (Lutheran minister) (lang: en, variant: None, id: 12544302, ns: 0),\n",
       " Temptation (1959 film) (lang: en, variant: None, id: 49072114, ns: 0),\n",
       " Around the World in a Day (lang: en, variant: None, id: 1922114, ns: 0),\n",
       " Franks Wild Years (lang: en, variant: None, id: 589981, ns: 0),\n",
       " Get Happy!! (Elvis Costello album) (lang: en, variant: None, id: 1344544, ns: 0),\n",
       " Get Squared (lang: en, variant: None, id: 5247678, ns: 0),\n",
       " Higher and Higher: The Best of Heaven 17 (lang: en, variant: None, id: 62723611, ns: 0),\n",
       " IV (Godsmack album) (lang: en, variant: None, id: 4131804, ns: 0),\n",
       " List of Code Lyoko episodes (lang: en, variant: None, id: 4699160, ns: 0),\n",
       " List of Italian films of 1968 (lang: en, variant: None, id: 14627431, ns: 0),\n",
       " List of The Price Is Right pricing games (lang: en, variant: None, id: 25047006, ns: 0),\n",
       " Los Angeles Temptation (lang: en, variant: None, id: 639061, ns: 0),\n",
       " Temptation (lang: en, variant: None, id: 7040454, ns: 0),\n",
       " Temptation: Confessions of a Marriage Counselor (lang: en, variant: None, id: 33182485, ns: 0),\n",
       " Temptation (1915 film) (lang: en, variant: None, id: 14627416, ns: 0),\n",
       " Temptation (1929 film) (lang: en, variant: None, id: 50842015, ns: 0),\n",
       " Temptation (1934 film) (lang: en, variant: None, id: 47679757, ns: 0),\n",
       " Temptation (1935 film) (lang: en, variant: None, id: 64174583, ns: 0),\n",
       " Temptation (1936 film) (lang: en, variant: None, id: 75030132, ns: 0),\n",
       " Temptation (1942 film) (lang: en, variant: None, id: 75251305, ns: 0),\n",
       " Temptation (1946 film) (lang: en, variant: None, id: 31003121, ns: 0),\n",
       " Temptation (1959 film) (lang: en, variant: None, id: 49072114, ns: 0),\n",
       " Temptation (1967 American game show) (lang: en, variant: None, id: 8356639, ns: 0),\n",
       " Temptation (1968 film) (lang: en, variant: None, id: -1, ns: 0),\n",
       " Temptation (2003 film) (lang: en, variant: None, id: 8654180, ns: 0),\n",
       " Temptation (2004 film) (lang: en, variant: None, id: 24199947, ns: 0),\n",
       " Temptation (2007 American game show) (lang: en, variant: None, id: 11012694, ns: 0),\n",
       " Temptation (2014 TV series) (lang: en, variant: None, id: 43043913, ns: 0),\n",
       " Temptation (Arash song) (lang: en, variant: None, id: 41777890, ns: 0),\n",
       " Temptation (Australian game show) (lang: en, variant: None, id: 4474362, ns: 0),\n",
       " Temptation (Brenda K. Starr album) (lang: en, variant: None, id: 11682332, ns: 0),\n",
       " Temptation (Corina song) (lang: en, variant: None, id: 25385653, ns: 0),\n",
       " Emigrate (album) (lang: en, variant: None, id: 7120858, ns: 0),\n",
       " Temptation (Harisu album) (lang: en, variant: None, id: 11597702, ns: 0),\n",
       " Temptation (Heaven 17 song) (lang: en, variant: None, id: 7583500, ns: 0),\n",
       " Temptation (Holly Cole album) (lang: en, variant: None, id: 586259, ns: 0),\n",
       " Temptation (Joey Badass song) (lang: en, variant: None, id: 76427801, ns: 0),\n",
       " Temptation (Monrose album) (lang: en, variant: None, id: 8092650, ns: 0),\n",
       " Temptation (Nacio Herb Brown and Arthur Freed song) (lang: en, variant: None, id: 2063513, ns: 0),\n",
       " Temptation (New Order song) (lang: en, variant: None, id: 1091597, ns: 0),\n",
       " Temptation (Shelby Lynne album) (lang: en, variant: None, id: 27975641, ns: 0),\n",
       " Temptation (The Tea Party song) (lang: en, variant: None, id: 10745737, ns: 0),\n",
       " Temptation (Wet Wet Wet song) (lang: en, variant: None, id: 7915796, ns: 0),\n",
       " Uplift Storm trilogy (lang: en, variant: None, id: 70560775, ns: 0),\n",
       " Temptation (play) (lang: en, variant: None, id: 34579492, ns: 0),\n",
       " Temptation of Christ (lang: en, variant: None, id: 2405263, ns: 0),\n",
       " Temptations (song) (lang: en, variant: None, id: 7150058, ns: 0),\n",
       " The Temptations (lang: en, variant: None, id: 147645, ns: 0),\n",
       " The Temptations (New York vocal group) (lang: en, variant: None, id: 27397669, ns: 0),\n",
       " The Temptations (miniseries) (lang: en, variant: None, id: 1501461, ns: 0),\n",
       " The Writing's on the Wall (lang: en, variant: None, id: 2113034, ns: 0),\n",
       " Talk:Temptation (disambiguation) (lang: en, variant: None, id: 20472622, ns: 1),\n",
       " Help:Disambiguation (lang: en, variant: None, id: 25855957, ns: 12),\n",
       " Temptation Island (lang: en, variant: None, id: 32101404, ns: 0),\n",
       " Temptation Harbour (lang: en, variant: None, id: 15111736, ns: 0),\n",
       " The Temptations (lang: en, variant: None, id: 147645, ns: 0),\n",
       " List of film director–composer collaborations (lang: en, variant: None, id: 3389561, ns: 0),\n",
       " Andrei Tarkovsky (lang: en, variant: None, id: 676, ns: 0),\n",
       " Martin Scorsese (lang: en, variant: None, id: 18995, ns: 0),\n",
       " List of film director and cinematographer collaborations (lang: en, variant: None, id: 37804326, ns: 0),\n",
       " List of directorial debuts (lang: en, variant: None, id: 14754753, ns: 0)]"
      ]
     },
     "execution_count": 73,
     "metadata": {},
     "output_type": "execute_result"
    }
   ],
   "source": [
    "new_pages"
   ]
  },
  {
   "cell_type": "markdown",
   "metadata": {},
   "source": [
    "### Rerunning optimized code"
   ]
  },
  {
   "cell_type": "code",
   "execution_count": 3,
   "metadata": {},
   "outputs": [
    {
     "name": "stdout",
     "output_type": "stream",
     "text": [
      "A 0.00938105583190918\n",
      "B 1.451786994934082\n",
      "C 1.0471141338348389\n",
      "D 0.0002658367156982422\n",
      "E 0.0001270771026611328\n",
      "F 0.4334688186645508\n",
      "G 0.0002951622009277344\n",
      "H 7.196820020675659\n"
     ]
    }
   ],
   "source": [
    "sent = \"Where did Ingmar Bergman, the director of the film Temptation (1959 Film), die?\"\n",
    "start = time()\n",
    "pars_text = get_texts_to_rationale_wikipedia(sent , False)\n",
    "end = time()"
   ]
  },
  {
   "cell_type": "code",
   "execution_count": null,
   "metadata": {},
   "outputs": [],
   "source": []
  }
 ],
 "metadata": {
  "kernelspec": {
   "display_name": "Python 3",
   "language": "python",
   "name": "python3"
  },
  "language_info": {
   "codemirror_mode": {
    "name": "ipython",
    "version": 3
   },
   "file_extension": ".py",
   "mimetype": "text/x-python",
   "name": "python",
   "nbconvert_exporter": "python",
   "pygments_lexer": "ipython3",
   "version": "3.12.7"
  }
 },
 "nbformat": 4,
 "nbformat_minor": 2
}
