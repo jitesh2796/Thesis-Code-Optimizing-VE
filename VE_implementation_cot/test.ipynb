{
 "cells": [
  {
   "cell_type": "markdown",
   "metadata": {},
   "source": [
    "### Module 0: Importing Libraries"
   ]
  },
  {
   "cell_type": "code",
   "execution_count": 1,
   "metadata": {},
   "outputs": [
    {
     "name": "stderr",
     "output_type": "stream",
     "text": [
      "/Library/Frameworks/Python.framework/Versions/3.12/lib/python3.12/site-packages/tqdm/auto.py:21: TqdmWarning: IProgress not found. Please update jupyter and ipywidgets. See https://ipywidgets.readthedocs.io/en/stable/user_install.html\n",
      "  from .autonotebook import tqdm as notebook_tqdm\n"
     ]
    }
   ],
   "source": [
    "import pandas as pd\n",
    "import numpy as np\n",
    "import pprint\n",
    "import os \n",
    "from time import time \n",
    "from dotenv import load_dotenv\n",
    "import json\n",
    "import argparse\n",
    "from tqdm import tqdm\n",
    "import numpy as np\n",
    "import matplotlib.pyplot as plt\n",
    "import seaborn as sns\n",
    "\n",
    "from openai import OpenAI\n",
    "import certifi\n",
    "\n",
    "# Override bad SSL_CERT_FILE if set\n",
    "os.environ[\"SSL_CERT_FILE\"] = certifi.where()\n",
    "\n",
    "from sentence_transformers import SentenceTransformer\n",
    "import torch\n",
    "import sklearn"
   ]
  },
  {
   "cell_type": "code",
   "execution_count": 2,
   "metadata": {},
   "outputs": [],
   "source": [
    "## Importing VE libraries\n",
    "from prompt_cot import cot_prompt\n",
    "from utils import *\n",
    "from dataset_utils import read_wikiqa_data\n",
    "from prompt_helper import get_joint_prompt_helper, normalize_prediction\n",
    "from dataset_utils import read_wikiqa_data, wiki_evaluation\n"
   ]
  },
  {
   "cell_type": "code",
   "execution_count": 3,
   "metadata": {},
   "outputs": [],
   "source": [
    "device = torch.device(\"cuda\" if torch.cuda.is_available() else \"cpu\")"
   ]
  },
  {
   "cell_type": "code",
   "execution_count": 4,
   "metadata": {},
   "outputs": [],
   "source": [
    "load_dotenv()\n",
    "client = OpenAI()"
   ]
  },
  {
   "cell_type": "code",
   "execution_count": 5,
   "metadata": {},
   "outputs": [],
   "source": [
    "from consistency import _parse_args as consistency_parse_args, in_context_manual_prediction  as consistency_in_context_manual_prediction, post_process_consistency, evaluate_manual_predictions as consistency_evaluate_manual_predictions\n",
    "from verifying_questions import _parse_args as verifying_questions_args, in_context_manual_prediction as vq_in_context_manual_prediction\n",
    "from relevant_context import _parse_args as relevant_context_args\n",
    "from verifying_answers import in_context_manual_prediction as verifying_answers_in_context_manual_prediction, _parse_args as verifying_answers_args\n",
    "from answer_again import rationale as answer_again_rationale, in_context_manual_prediction as answer_again_in_context_manual_prediction\n",
    "from evaluation import evaluate_model_performance_v2"
   ]
  },
  {
   "cell_type": "markdown",
   "metadata": {},
   "source": [
    "### Module 1: Building Consolidated function"
   ]
  },
  {
   "cell_type": "code",
   "execution_count": 6,
   "metadata": {},
   "outputs": [],
   "source": [
    "# model embedding function required for relevant context\n",
    "def model_embeddings(sentence, model):\n",
    "    embedding = model.encode([sentence])\n",
    "    return embedding[0] #should return an array of shape 384"
   ]
  },
  {
   "cell_type": "code",
   "execution_count": 12,
   "metadata": {},
   "outputs": [
    {
     "data": {
      "text/plain": [
       "[{'id': '8f8aaf0b088711ebbd6dac1f6bf848b6',\n",
       "  'question': 'Who is younger, Aneta Hladíková or René Poupardin?',\n",
       "  'answer': 'Aneta Hladíková',\n",
       "  'all_pars': ['René de Ceriziers( or René de Cerisiers; 1609–1662) was a French theologian and historian.',\n",
       "   'He was born in Nantes, and entered the Society of Jesus in 1622.',\n",
       "   'He taught in several Jesuit colleges, and in 1641 left the order.',\n",
       "   'He became chaplain of the Duke of Orléans and of Louis XIV.',\n",
       "   'His writings include:',\n",
       "   'Anton Shunto( born 31 May 1988) is a Belarusian professional footballer.',\n",
       "   'As of 2019, he plays for Molodechno.',\n",
       "   'He is a younger brother of Denis Shunto, who is a founder and former president of Krumkachy Minsk.',\n",
       "   'Markus Weissenberger( born March 8, 1975) is an Austrian former footballer who played as a midfielder.',\n",
       "   'He is a younger brother of former Austria international player Thomas Weissenberger.',\n",
       "   'Dmitri Nikolayevich Varfolomeyev( born 15 March 1978 in Leningrad) is a former Russian football player.',\n",
       "   'He is a younger brother of Sergei Varfolomeyev.',\n",
       "   'Roman Smishko is a retired Ukrainian professional footballer who played as a goalkeeper.',\n",
       "   'He is a younger brother of Ukrainian defender Bohdan Smishko.',\n",
       "   'France- Albert René( 16 November 1935 – 27 February 2019) was a Seychellois politician who served as the second President of Seychelles from 1977 to 2004.',\n",
       "   'He was nicknamed by Seychellois government officials and fellow party members as\" the Boss\".',\n",
       "   'His name is often given as simply Albert René or F.A. René; he was also nicknamed Ti France.',\n",
       "   'René Poupardin( 27 February 1874 – 23 August 1927) was a French medievalist and paleographer whose most important works were on Burgundy, Provence and the south Italian principalities.',\n",
       "   'He was an alumnus of the École nationale des chartes and a member of the École française de Rome from 1899 to 1902.',\n",
       "   'He was studies director at the École pratique des hautes études and later a professor at the École des chartes.',\n",
       "   'He also worked as a librarian at the Bibliothèque nationale de France.',\n",
       "   'Born at Le Havre and died at Fontainebleau, most of his life was spent in Paris and Rome.',\n",
       "   'Aneta Hladíková( born 30 August 1984) is a Czech racing cyclist who represents the Czech Republic in BMX.',\n",
       "   \"She has been selected to represent the Czech Republic at the 2012 Summer Olympics in the women's BMX event.\",\n",
       "   'She finished in 10th place.',\n",
       "   \"In June 2015, she competed for the Czech Republic at the inaugural European Games in women's BMX.\",\n",
       "   'She earned a bronze medal.',\n",
       "   'Vadim Nikolayevich Vlasov( born 19 December 1980) is a former Russian football player.',\n",
       "   'He is a younger brother of Dmitri Vlasov.',\n",
       "   'Miloš Zličić( born 29 December 1999) is a Serbian football forward.',\n",
       "   'He is a younger brother of Lazar Zličić.'],\n",
       "  'supp_pars': ['Aneta Hladíková( born 30 August 1984) is a Czech racing cyclist who represents the Czech Republic in BMX.',\n",
       "   'René Poupardin( 27 February 1874 – 23 August 1927) was a French medievalist and paleographer whose most important works were on Burgundy, Provence and the south Italian principalities.']}]"
      ]
     },
     "execution_count": 12,
     "metadata": {},
     "output_type": "execute_result"
    }
   ],
   "source": [
    "[i for i in dev_set if i[\"id\"] == id]"
   ]
  },
  {
   "cell_type": "code",
   "execution_count": 12,
   "metadata": {},
   "outputs": [],
   "source": [
    "def run_iterative_prediction(id):\n",
    "\n",
    "    # Consistency Arguments\n",
    "    args = consistency_parse_args()\n",
    "\n",
    "    output_file = f\"misc/test.jsonl\"\n",
    "\n",
    "    # # Load existing IDs from output file\n",
    "    # existing_ids = set()\n",
    "    # if os.path.exists(output_file):\n",
    "    #     with open(output_file, \"r\") as f:\n",
    "    #         for line in f:\n",
    "    #             try:\n",
    "    #                 data = json.loads(line.strip())\n",
    "    #                 existing_ids.add(data[\"id\"])\n",
    "    #             except:\n",
    "    #                 continue\n",
    "\n",
    "    # train_set = read_wikiqa_data(\"data/train_subset.json\", manual_annotation_style=args.style)\n",
    "    # train_set = train_set[args.train_slice:(args.train_slice + args.num_shot)]\n",
    "\n",
    "    dev_set = read_wikiqa_data(\"data/dev_sampled.json\")\n",
    "    # dev_set = dev_set[args.dev_slice:(args.dev_slice + args.num_dev)]\n",
    "    dev_set = [i for i in dev_set if i[\"id\"] == id]\n",
    "\n",
    "    results = []\n",
    "    total_start = time()\n",
    "\n",
    "    for idx, ex in enumerate(tqdm(dev_set, desc=\"Processing one-by-one\")):\n",
    "        # if ex['id'] in existing_ids:\n",
    "        #     continue\n",
    "\n",
    "        start = time()\n",
    "        try:\n",
    "            # Step 1: Predict\n",
    "            raw_pred = consistency_in_context_manual_prediction(ex, cot_prompt, engine=args.engine, prompt_helper=args.helper, length_test_only=False, n=args.num_shot)\n",
    "            \n",
    "            # Step 2: Consistency post-processing\n",
    "            con_score, final_pred = post_process_consistency(ex, raw_pred, args)\n",
    "            final_pred[\"consistency\"]= con_score\n",
    "\n",
    "            # Step  3: check if the consistency is higher than the threshold\n",
    "            args =verifying_questions_args()\n",
    "\n",
    "            # if con_score > args.consistency_threshold:\n",
    "            #     # Step 4: Storing the result if consistency is higher than the threshold \n",
    "            #     final_pred['high_consistency'] = True\n",
    "            #     final_pred[\"time_taken_sec\"] = round(time() - start, 2)\n",
    "            #     with open(output_file, \"a\") as fout:\n",
    "            #         fout.write(json.dumps(final_pred) + \"\\n\")\n",
    "\n",
    "            # else:\n",
    "            start2 = time()\n",
    "            final_pred[\"consistency_time\"] = round(start2 - start, 2)\n",
    "            final_pred['high_consistency'] = False\n",
    "            # Step 5: Generating verifying questions\n",
    "            vq = []\n",
    "            sentences = rationale_tokenize(final_pred['rationale'])\n",
    "            for q, s in enumerate(sentences):\n",
    "                question = vq_in_context_manual_prediction(final_pred['question'], s, args.engine, args.model, args.helper)\n",
    "                print(\"Sentence: \", s)\n",
    "                print(\"Question\", question)\n",
    "                if question != None:\n",
    "                    vq.append(question['text'])\n",
    "                \n",
    "            #     final_pred[\"verifying_questions\"] = vq\n",
    "\n",
    "            #     # Step 5: Pulling Relevant Context\n",
    "            #     start3 = time()\n",
    "            #     final_pred[\"time_verifying_answer\"] = round(start3 - start2, 2)\n",
    "            #     args = relevant_context_args()\n",
    "\n",
    "            #     contexts = []\n",
    "            #     embedding_model = SentenceTransformer('paraphrase-MiniLM-L6-v2').to(device)\n",
    "\n",
    "            #     sentences = rationale_tokenize(final_pred['rationale'])\n",
    "            #     all_pars_text = []\n",
    "            #     all_pars = []\n",
    "            #     va = []\n",
    "            #     for j, s in enumerate(sentences):\n",
    "            #         pars_text = get_texts_to_rationale_wikipedia(vq[j], False)\n",
    "                \n",
    "            #         pars_text = list(dict.fromkeys(pars_text)) #remove potential duplicates\n",
    "            #         all_pars_text += pars_text\n",
    "\n",
    "            #         if pars_text != []:\n",
    "            #                 sen_embeds = [model_embeddings(s, embedding_model)]\n",
    "            #                 par_embeds = [model_embeddings(s, embedding_model) for s in pars_text]\n",
    "\n",
    "            #                 pars = sklearn.metrics.pairwise.pairwise_distances(sen_embeds, par_embeds)\n",
    "            #                 pars = pars.argsort(axis = 1)[0][:args.topk]\n",
    "\n",
    "            #                 pars = [pars_text[i] for i in pars]\n",
    "            #                 contexts.append(pars)\n",
    "            #                 all_pars += pars\n",
    "                    \n",
    "            #         # Step 6: Creating Verified Answers\n",
    "            #         answer = verifying_answers_in_context_manual_prediction(args.engine, args.helper, args.model, pars, vq[j])\n",
    "            #         va.append(answer['text'].lstrip())\n",
    "                \n",
    "            #     start4 = time()\n",
    "            #     final_pred[\"time_context_and_verifying_answer\"] = round(start4- start3,2)\n",
    "            #     final_pred[\"context\"] = contexts\n",
    "            #     final_pred[\"verifying_answers\"] = va\n",
    "\n",
    "            #     # Step 7: Answering Again\n",
    "            #     new_rationale = answer_again_rationale(va)\n",
    "            #     new_p = answer_again_in_context_manual_prediction(ex, cot_prompt, args.engine, args.helper, args.model,\n",
    "            #         new_rationale )\n",
    "\n",
    "            #     start5 =time()\n",
    "            #     final_pred[\"time_answer_again\"] = round(start5 - start4, 2)\n",
    "            #     final_pred[\"new_answer\"] = new_p[\"text\"]\n",
    "                \n",
    "            #     final_pred[\"time_taken_sec\"] = round(time() - start, 2)\n",
    "            #     with open(output_file, \"a\") as fout:\n",
    "            #         fout.write(json.dumps(final_pred) + \"\\n\")\n",
    "            \n",
    "            # results.append(final_pred)\n",
    "\n",
    "            # # Step 4: Save this prediction to file immediately\n",
    "            # with open(output_file, \"a\") as fout:\n",
    "            #     fout.write(json.dumps(final_pred) + \"\\n\")\n",
    "\n",
    "        except Exception as e: \n",
    "            print(f\"Error in record {idx} ({ex['id']}): {e}\")\n",
    "            continue\n",
    "\n",
    "    total_duration = round(time() - total_start, 2)\n",
    "    avg_time = total_duration / len(results) if results else 0\n",
    "    print(f\"\\n✅ Finished {len(results)} records in {total_duration:.2f} seconds (avg {avg_time:.2f} sec/record)\")\n",
    "    print(f\"📄 Results saved to: {output_file}\")\n",
    "\n",
    "    return None"
   ]
  },
  {
   "cell_type": "code",
   "execution_count": 13,
   "metadata": {},
   "outputs": [],
   "source": [
    "id =\"8f8aaf0b088711ebbd6dac1f6bf848b6\""
   ]
  },
  {
   "cell_type": "code",
   "execution_count": 14,
   "metadata": {},
   "outputs": [
    {
     "name": "stdout",
     "output_type": "stream",
     "text": [
      "7 not found\n"
     ]
    },
    {
     "name": "stderr",
     "output_type": "stream",
     "text": [
      "Processing one-by-one:   0%|          | 0/1 [00:00<?, ?it/s]"
     ]
    },
    {
     "name": "stdout",
     "output_type": "stream",
     "text": [
      "Prompt for question:Who is younger, Aneta Hladíková or René Poupardin? and Aneta Hladíková was born on 20 August 1993. :\n",
      " Write a question that validates the reason for an overall question.\n",
      "\n",
      "Overall Question: What is the date of death of the composer of film Baalaraajana Kathe?\n",
      "Reason: First, the composer of film Baalaraajana Kathe is S. Hanumantha Rao.\n",
      "Question: Who is the composer of film Baalaraajana Kathe?\n",
      "\n",
      "Overall Question: Who lived longer, Edward Frederick Sanderson or Forrest Towns?\n",
      "Reason: First, Edward Frederick Sanderson died at age 81.\n",
      "Question: How long did Edward Frederick Sanderson live for?\n",
      "\n",
      "Overall Question: Who is younger, Aneta Hladíková or René Poupardin?\n",
      "Reason: Aneta Hladíková was born on 20 August 1993. \n",
      "Question:\n",
      "Sentence:  Aneta Hladíková was born on 20 August 1993. \n",
      "Question {'text': 'When was Aneta Hladíková born?'}\n",
      "Prompt for question:Who is younger, Aneta Hladíková or René Poupardin? and René Poupardin was born on 21 August 1993.:\n",
      " Write a question that validates the reason for an overall question.\n",
      "\n",
      "Overall Question: What is the date of death of the composer of film Baalaraajana Kathe?\n",
      "Reason: First, the composer of film Baalaraajana Kathe is S. Hanumantha Rao.\n",
      "Question: Who is the composer of film Baalaraajana Kathe?\n",
      "\n",
      "Overall Question: Who lived longer, Edward Frederick Sanderson or Forrest Towns?\n",
      "Reason: First, Edward Frederick Sanderson died at age 81.\n",
      "Question: How long did Edward Frederick Sanderson live for?\n",
      "\n",
      "Overall Question: Who is younger, Aneta Hladíková or René Poupardin?\n",
      "Reason: René Poupardin was born on 21 August 1993.\n",
      "Question:\n"
     ]
    },
    {
     "name": "stderr",
     "output_type": "stream",
     "text": [
      "Processing one-by-one: 100%|██████████| 1/1 [00:04<00:00,  4.86s/it]"
     ]
    },
    {
     "name": "stdout",
     "output_type": "stream",
     "text": [
      "Sentence:  René Poupardin was born on 21 August 1993.\n",
      "Question {'text': 'When was Aneta Hladíková born?'}\n",
      "\n",
      "✅ Finished 0 records in 4.86 seconds (avg 0.00 sec/record)\n",
      "📄 Results saved to: misc/test.jsonl\n"
     ]
    },
    {
     "name": "stderr",
     "output_type": "stream",
     "text": [
      "\n"
     ]
    }
   ],
   "source": [
    "run_iterative_prediction(id)"
   ]
  },
  {
   "cell_type": "code",
   "execution_count": 15,
   "metadata": {},
   "outputs": [],
   "source": [
    "x = ['The Trap is a 1959 American color film noir directed by Norman Panama and released through Paramount Pictures.', 'The Trap may refer to:\\n\\nFilm\\nThe Trap (1913 film), a lost silent film starring Lon Chaney\\nThe Trap (1914 film), a dramatic short starring Harry von Meter\\nThe Trap (1918 film), an American drama film starring Alice Brady\\nThe Trap (1919 film), an American drama film starring Olive Tell\\nThe Trap (1922 film), an American silent Western starring Lon Chaney\\nThe Trap (1946 film), a Charlie Chan film starring Sidney Toler\\nThe Trap (1949 film), an Argentine film directed by Carlos Hugo Christensen\\nThe Trap (1950 film), a Czech drama directed by Martin Frič\\nThe Trap (1959 film), a crime drama directed by Norman Panama\\nThe Trap (1966 film), an adventure/romance starring Oliver Reed and Rita Tushingham\\nThe Trap (1985 film), an Italian erotic thriller starring Tony Musante and Laura Antonelli\\nJaal: The Trap, a 2003 Indian Hindi-language film starring Sunny Deol and Tabu\\nThe Trap (2007 film) or Klopka, a Serbian film\\nThe Trap, a 2007 short film starring Jeanne Tripplehorn and Camilla Belle\\nFaand: The Trap, a 2014 Bangladeshi film starring Shakib Khan\\nThe Trap, a 2017 short film in competition at the 67th Berlin International Film Festival\\nThe Trap (2019 film), a film starring Mike Epps and T.I.', 'Chakravyuham: The Trap, a 2023 Indian Telugu-language film\\n\\nTelevision\\nEpisodes\\n\"The Trap\", 12 O\\'Clock High season 1, episode 23 (1965)\\n\"The Trap\", 21 Beacon Street episode 10 (1959)\\n\"The Trap\", A Rubovian Legend, series 2, episode 16 (1962)\\n\"The Trap\", Alcoa Presents One Step Beyond season 3, episode 8 (1960)\\n\"The Trap\", Alfred Hitchcock Presents season 10, episode 18 (1965)\\n\"The Trap\", Armored Trooper Votoms episode 5 (1983)\\n\"The Trap\", Bonanza season 6, episode 26 (1965)\\n\"The Trap\", Captain Petko Voivode part 1, episode 2 (1981)\\n\"The Trap\" (Captain Scarlet and the Mysterons), episode 13 (1967)\\n\"The Trap\", Casualty series 23, episode 34 (2009)\\n\"The Trap\", Cheyenne season 2, episode 8 (1956)\\n\"The Trap\", Code 3 episode 17 (1957)\\n\"The Trap\" (Code Lyoko) season 1, episode 14 (2003)\\n\"The Trap\", Code Lyoko: Evolution episode 19 (2020)\\n\"The Trap\", Corky and White Shadow episode 7 (1956)\\n\"The Trap\", Craig Kennedy, Criminologist episode 25 (1953)\\n\"The Trap\", Damaged season 1, episode 12 (2018)\\n\"The Trap\", Danger Man series 1, episode 31 (1961)\\n\"The Trap\", Daniel Boone season 2, episode 26 (1966)\\n\"The Trap\", Diver Dan episode 18 (1960)\\n\"The Trap\", Douglas Fairbanks Presents season 2, episode 6 (1954)\\n\"The Trap\" (Fallout) season 1, episode 6 (2024)\\n\"The Trap\", Flipper & Lopaka season 1, episode 24 (1999)\\n\"The Trap\", Free Meek episode 2 (2019)\\n\"The Trap\", Fright Krewe season 1, episode 9 (2023)\\n\"The Trap\", Have Gun – Will Travel season 5, episode 25 (1962)\\n\"The Trap\", Highway Patrol season 4, episode 14 (1959)\\n\"The Trap\", Hopalong Cassidy season 1, episode 15 (1952)\\n\"The Trap\", Kaatelal & Sons episode 146 (2021)\\n\"The Trap\", Kana Kaanum Kaalangal season 1, episode 21 (2022)\\n\"The Trap\", Land of the Giants episode 8 (1968)\\n\"The Trap\", Les Misérables episode 8 (1967)\\n\"The Trap\", M Squad season 2, episode 5 (1958)\\n\"The Trap\", Maigret (1960 TV series) series 3, episode 12 (1962)\\n\"The Trap\", Man from Interpol episode 11 (1960)\\n\"The Trap\", Planet of the Apes episode 3 (1974)\\n\"The Trap\", Play of the Week season 5, episode 28 (1960)\\n\"The Trap\", P.O.W.']"
   ]
  },
  {
   "cell_type": "code",
   "execution_count": 16,
   "metadata": {},
   "outputs": [
    {
     "name": "stdout",
     "output_type": "stream",
     "text": [
      "['The Trap is a 1959 American color film noir directed by Norman Panama and released through Paramount Pictures.', 'The Trap may refer to:\\n\\nFilm\\nThe Trap (1913 film), a lost silent film starring Lon Chaney\\nThe Trap (1914 film), a dramatic short starring Harry von Meter\\nThe Trap (1918 film), an American drama film starring Alice Brady\\nThe Trap (1919 film), an American drama film starring Olive Tell\\nThe Trap (1922 film), an American silent Western starring Lon Chaney\\nThe Trap (1946 film), a Charlie Chan film starring Sidney Toler\\nThe Trap (1949 film), an Argentine film directed by Carlos Hugo Christensen\\nThe Trap (1950 film), a Czech drama directed by Martin Frič\\nThe Trap (1959 film), a crime drama directed by Norman Panama\\nThe Trap (1966 film), an adventure/romance starring Oliver Reed and Rita Tushingham\\nThe Trap (1985 film), an Italian erotic thriller starring Tony Musante and Laura Antonelli\\nJaal: The Trap, a 2003 Indian Hindi-language film starring Sunny Deol and Tabu\\nThe Trap (2007 film) or Klopka, a Serbian film\\nThe Trap, a 2007 short film starring Jeanne Tripplehorn and Camilla Belle\\nFaand: The Trap, a 2014 Bangladeshi film starring Shakib Khan\\nThe Trap, a 2017 short film in competition at the 67th Berlin International Film Festival\\nThe Trap (2019 film), a film starring Mike Epps and T.I.', 'Chakravyuham: The Trap, a 2023 Indian Telugu-language film\\n\\nTelevision\\nEpisodes\\n\"The Trap\", 12 O\\'Clock High season 1, episode 23 (1965)\\n\"The Trap\", 21 Beacon Street episode 10 (1959)\\n\"The Trap\", A Rubovian Legend, series 2, episode 16 (1962)\\n\"The Trap\", Alcoa Presents One Step Beyond season 3, episode 8 (1960)\\n\"The Trap\", Alfred Hitchcock Presents season 10, episode 18 (1965)\\n\"The Trap\", Armored Trooper Votoms episode 5 (1983)\\n\"The Trap\", Bonanza season 6, episode 26 (1965)\\n\"The Trap\", Captain Petko Voivode part 1, episode 2 (1981)\\n\"The Trap\" (Captain Scarlet and the Mysterons), episode 13 (1967)\\n\"The Trap\", Casualty series 23, episode 34 (2009)\\n\"The Trap\", Cheyenne season 2, episode 8 (1956)\\n\"The Trap\", Code 3 episode 17 (1957)\\n\"The Trap\" (Code Lyoko) season 1, episode 14 (2003)\\n\"The Trap\", Code Lyoko: Evolution episode 19 (2020)\\n\"The Trap\", Corky and White Shadow episode 7 (1956)\\n\"The Trap\", Craig Kennedy, Criminologist episode 25 (1953)\\n\"The Trap\", Damaged season 1, episode 12 (2018)\\n\"The Trap\", Danger Man series 1, episode 31 (1961)\\n\"The Trap\", Daniel Boone season 2, episode 26 (1966)\\n\"The Trap\", Diver Dan episode 18 (1960)\\n\"The Trap\", Douglas Fairbanks Presents season 2, episode 6 (1954)\\n\"The Trap\" (Fallout) season 1, episode 6 (2024)\\n\"The Trap\", Flipper & Lopaka season 1, episode 24 (1999)\\n\"The Trap\", Free Meek episode 2 (2019)\\n\"The Trap\", Fright Krewe season 1, episode 9 (2023)\\n\"The Trap\", Have Gun – Will Travel season 5, episode 25 (1962)\\n\"The Trap\", Highway Patrol season 4, episode 14 (1959)\\n\"The Trap\", Hopalong Cassidy season 1, episode 15 (1952)\\n\"The Trap\", Kaatelal & Sons episode 146 (2021)\\n\"The Trap\", Kana Kaanum Kaalangal season 1, episode 21 (2022)\\n\"The Trap\", Land of the Giants episode 8 (1968)\\n\"The Trap\", Les Misérables episode 8 (1967)\\n\"The Trap\", M Squad season 2, episode 5 (1958)\\n\"The Trap\", Maigret (1960 TV series) series 3, episode 12 (1962)\\n\"The Trap\", Man from Interpol episode 11 (1960)\\n\"The Trap\", Planet of the Apes episode 3 (1974)\\n\"The Trap\", Play of the Week season 5, episode 28 (1960)\\n\"The Trap\", P.O.W.']\n"
     ]
    }
   ],
   "source": [
    "\n",
    "print(x)"
   ]
  },
  {
   "cell_type": "code",
   "execution_count": 17,
   "metadata": {},
   "outputs": [
    {
     "data": {
      "text/plain": [
       "3"
      ]
     },
     "execution_count": 17,
     "metadata": {},
     "output_type": "execute_result"
    }
   ],
   "source": [
    "len(x)"
   ]
  },
  {
   "cell_type": "code",
   "execution_count": 18,
   "metadata": {},
   "outputs": [
    {
     "data": {
      "text/plain": [
       "'The Trap is a 1959 American color film noir directed by Norman Panama and released through Paramount Pictures.'"
      ]
     },
     "execution_count": 18,
     "metadata": {},
     "output_type": "execute_result"
    }
   ],
   "source": [
    "x[0]"
   ]
  },
  {
   "cell_type": "code",
   "execution_count": 19,
   "metadata": {},
   "outputs": [
    {
     "data": {
      "text/plain": [
       "'The Trap may refer to:\\n\\nFilm\\nThe Trap (1913 film), a lost silent film starring Lon Chaney\\nThe Trap (1914 film), a dramatic short starring Harry von Meter\\nThe Trap (1918 film), an American drama film starring Alice Brady\\nThe Trap (1919 film), an American drama film starring Olive Tell\\nThe Trap (1922 film), an American silent Western starring Lon Chaney\\nThe Trap (1946 film), a Charlie Chan film starring Sidney Toler\\nThe Trap (1949 film), an Argentine film directed by Carlos Hugo Christensen\\nThe Trap (1950 film), a Czech drama directed by Martin Frič\\nThe Trap (1959 film), a crime drama directed by Norman Panama\\nThe Trap (1966 film), an adventure/romance starring Oliver Reed and Rita Tushingham\\nThe Trap (1985 film), an Italian erotic thriller starring Tony Musante and Laura Antonelli\\nJaal: The Trap, a 2003 Indian Hindi-language film starring Sunny Deol and Tabu\\nThe Trap (2007 film) or Klopka, a Serbian film\\nThe Trap, a 2007 short film starring Jeanne Tripplehorn and Camilla Belle\\nFaand: The Trap, a 2014 Bangladeshi film starring Shakib Khan\\nThe Trap, a 2017 short film in competition at the 67th Berlin International Film Festival\\nThe Trap (2019 film), a film starring Mike Epps and T.I.'"
      ]
     },
     "execution_count": 19,
     "metadata": {},
     "output_type": "execute_result"
    }
   ],
   "source": [
    "x[1]"
   ]
  },
  {
   "cell_type": "code",
   "execution_count": 20,
   "metadata": {},
   "outputs": [
    {
     "data": {
      "text/plain": [
       "'Chakravyuham: The Trap, a 2023 Indian Telugu-language film\\n\\nTelevision\\nEpisodes\\n\"The Trap\", 12 O\\'Clock High season 1, episode 23 (1965)\\n\"The Trap\", 21 Beacon Street episode 10 (1959)\\n\"The Trap\", A Rubovian Legend, series 2, episode 16 (1962)\\n\"The Trap\", Alcoa Presents One Step Beyond season 3, episode 8 (1960)\\n\"The Trap\", Alfred Hitchcock Presents season 10, episode 18 (1965)\\n\"The Trap\", Armored Trooper Votoms episode 5 (1983)\\n\"The Trap\", Bonanza season 6, episode 26 (1965)\\n\"The Trap\", Captain Petko Voivode part 1, episode 2 (1981)\\n\"The Trap\" (Captain Scarlet and the Mysterons), episode 13 (1967)\\n\"The Trap\", Casualty series 23, episode 34 (2009)\\n\"The Trap\", Cheyenne season 2, episode 8 (1956)\\n\"The Trap\", Code 3 episode 17 (1957)\\n\"The Trap\" (Code Lyoko) season 1, episode 14 (2003)\\n\"The Trap\", Code Lyoko: Evolution episode 19 (2020)\\n\"The Trap\", Corky and White Shadow episode 7 (1956)\\n\"The Trap\", Craig Kennedy, Criminologist episode 25 (1953)\\n\"The Trap\", Damaged season 1, episode 12 (2018)\\n\"The Trap\", Danger Man series 1, episode 31 (1961)\\n\"The Trap\", Daniel Boone season 2, episode 26 (1966)\\n\"The Trap\", Diver Dan episode 18 (1960)\\n\"The Trap\", Douglas Fairbanks Presents season 2, episode 6 (1954)\\n\"The Trap\" (Fallout) season 1, episode 6 (2024)\\n\"The Trap\", Flipper & Lopaka season 1, episode 24 (1999)\\n\"The Trap\", Free Meek episode 2 (2019)\\n\"The Trap\", Fright Krewe season 1, episode 9 (2023)\\n\"The Trap\", Have Gun – Will Travel season 5, episode 25 (1962)\\n\"The Trap\", Highway Patrol season 4, episode 14 (1959)\\n\"The Trap\", Hopalong Cassidy season 1, episode 15 (1952)\\n\"The Trap\", Kaatelal & Sons episode 146 (2021)\\n\"The Trap\", Kana Kaanum Kaalangal season 1, episode 21 (2022)\\n\"The Trap\", Land of the Giants episode 8 (1968)\\n\"The Trap\", Les Misérables episode 8 (1967)\\n\"The Trap\", M Squad season 2, episode 5 (1958)\\n\"The Trap\", Maigret (1960 TV series) series 3, episode 12 (1962)\\n\"The Trap\", Man from Interpol episode 11 (1960)\\n\"The Trap\", Planet of the Apes episode 3 (1974)\\n\"The Trap\", Play of the Week season 5, episode 28 (1960)\\n\"The Trap\", P.O.W.'"
      ]
     },
     "execution_count": 20,
     "metadata": {},
     "output_type": "execute_result"
    }
   ],
   "source": [
    "x[2]"
   ]
  },
  {
   "cell_type": "code",
   "execution_count": null,
   "metadata": {},
   "outputs": [],
   "source": []
  }
 ],
 "metadata": {
  "kernelspec": {
   "display_name": "Python 3",
   "language": "python",
   "name": "python3"
  },
  "language_info": {
   "codemirror_mode": {
    "name": "ipython",
    "version": 3
   },
   "file_extension": ".py",
   "mimetype": "text/x-python",
   "name": "python",
   "nbconvert_exporter": "python",
   "pygments_lexer": "ipython3",
   "version": "3.12.7"
  }
 },
 "nbformat": 4,
 "nbformat_minor": 2
}
