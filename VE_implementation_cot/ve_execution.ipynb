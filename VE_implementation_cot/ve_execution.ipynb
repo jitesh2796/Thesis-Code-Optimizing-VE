{
 "cells": [
  {
   "cell_type": "code",
   "execution_count": 1,
   "metadata": {},
   "outputs": [],
   "source": [
    "### Module 0: Importing Libraries\n",
    "import pandas as pd\n",
    "import numpy as np\n",
    "import pprint\n",
    "import os \n",
    "from time import time \n",
    "from dotenv import load_dotenv\n",
    "import json\n",
    "import argparse\n",
    "from tqdm import tqdm\n",
    "import numpy as np\n",
    "import matplotlib.pyplot as plt\n",
    "import seaborn as sns\n",
    "\n",
    "from openai import OpenAI\n",
    "import certifi\n",
    "\n",
    "## Importing VE libraries\n",
    "from utils import *\n",
    "from dataset_utils import read_wikiqa_data\n",
    "from prompt_helper import get_joint_prompt_helper, normalize_prediction\n",
    "from dataset_utils import read_wikiqa_data, wiki_evaluation\n",
    "# Override bad SSL_CERT_FILE if set\n",
    "os.environ[\"SSL_CERT_FILE\"] = certifi.where()\n"
   ]
  },
  {
   "cell_type": "markdown",
   "metadata": {},
   "source": [
    "### Executing Consistency"
   ]
  },
  {
   "cell_type": "code",
   "execution_count": 2,
   "metadata": {},
   "outputs": [],
   "source": [
    "from consistency import test_few_shot_manual_prediction, _parse_args"
   ]
  },
  {
   "cell_type": "code",
   "execution_count": 3,
   "metadata": {},
   "outputs": [
    {
     "data": {
      "text/plain": [
       "Namespace(style='e-p', annotation='std', run_prediction=False, num_shot=5, train_slice=0, num_dev=100, dev_slice=0, show_result=False, model='gpt3.5', temperature=0.7, plot_consistency=False, engine='gpt-3.5-turbo-0125', run_length_test=False, helper=<prompt_helper.JointEandPPromptHelper object at 0x31e7902c0>)"
      ]
     },
     "execution_count": 3,
     "metadata": {},
     "output_type": "execute_result"
    }
   ],
   "source": [
    "consistency_args = _parse_args()\n",
    "consistency_args"
   ]
  },
  {
   "cell_type": "code",
   "execution_count": 4,
   "metadata": {},
   "outputs": [],
   "source": [
    "args = consistency_args"
   ]
  },
  {
   "cell_type": "code",
   "execution_count": 5,
   "metadata": {},
   "outputs": [
    {
     "name": "stdout",
     "output_type": "stream",
     "text": [
      "Running prediction\n",
      "0 not found\n",
      "len(train_set):  5\n",
      "7 not found\n",
      "prompt: \n",
      "Question: Which film was released earlier, Kistimaat or I'M Taraneh, 15?\n",
      "A: First, film Kistimaat was released on 6 October 2014. Second, I'M Taraneh, 15 was released on 13 November 2002. The answer is I'M Taraneh, 15.\n",
      "\n",
      "Question: What is the date of death of the composer of film Baalaraajana Kathe?\n",
      "A: First, the composer of film Baalaraajana Kathe is S. Hanumantha Rao. Second, S. Hanumantha Rao died on 27 May 1980. The answer is 27 May 1980.\n",
      "\n",
      "Question: Who is the spouse of the director of film Alive (1993 Film)?\n",
      "A: First, the director of film Alive is Frank Marshall. Second, Frank Marshall's spouse is Kathleen Kennedy. The answer is Kathleen Kennedy.\n",
      "\n",
      "Question: Who lived longer, Edward Frederick Sanderson or Forrest Towns?\n",
      "A: First, Edward Frederick Sanderson died at age 81. Second, Forrest Towns died at age 77. The answer is Edward Frederick Sanderson.\n",
      "\n",
      "Question: Which country the director of film Battle Circus (Film) is from?\n",
      "A: First, the director of film Battle Circus (Film) is Richard Brooks. Second, Richard Brooks was American. The answer is American.\n",
      "\n",
      "Question: Where was the performer of song Get A Life – Get Alive born?\n",
      "A:\n"
     ]
    }
   ],
   "source": [
    "print(\"Running prediction\")\n",
    "train_set = read_wikiqa_data(f\"data/train_subset.json\", manual_annotation_style=args.style)\n",
    "train_set = train_set[args.train_slice:(args.train_slice + args.num_shot)]\n",
    "print('len(train_set): ', len(train_set))\n",
    "dev_set = read_wikiqa_data(f\"data/dev_sampled.json\")\n",
    "dev_set = dev_set[args.dev_slice:(args.num_dev)]\n",
    "\n",
    "prompt, _ = args.helper.prompt_for_joint_prediction(dev_set[0], train_set)\n",
    "print('prompt: ')\n",
    "print(prompt)"
   ]
  },
  {
   "cell_type": "code",
   "execution_count": 7,
   "metadata": {},
   "outputs": [
    {
     "name": "stdout",
     "output_type": "stream",
     "text": [
      "Running prediction\n",
      "0 not found\n",
      "len(train_set):  5\n",
      "7 not found\n"
     ]
    },
    {
     "name": "stderr",
     "output_type": "stream",
     "text": [
      "Verifying: 100%|██████████| 10/10 [00:00<00:00, 32589.77it/s]"
     ]
    },
    {
     "name": "stdout",
     "output_type": "stream",
     "text": [
      "--------------0 EX False RAT False F1 0.00 CONS 0.60--------------\n",
      "question:  Where was the performer of song Get A Life – Get Alive born?\n",
      "0: First, the performer of the song Get A Life - Get Alive is Soul II Soul. Second, Soul II Soul was formed in London, England. | London, England\n",
      "1: First, the performer of the song Get A Life - Get Alive is born in Jamaica. | Jamaica\n",
      "2: First, the performer of the song Get A Life - Get Alive is Soul II Soul. Second, Soul II Soul was formed in London, England. | London, England\n",
      "3: First, the performer of the song Get A Life - Get Alive is Bryan Adams. Second, Bryan Adams was born in Kingston, Ontario, Canada. | Kingston, Ontario, Canada\n",
      "4: First, the performer of the song Get A Life - Get Alive is Soul II Soul. Second, Soul II Soul was formed in London, England. | London, England\n",
      "PR ANS: London, England\n",
      "PR RAT: First, the performer of the song Get A Life - Get Alive is Soul II Soul. Second, Soul II Soul was formed in London, England.\n",
      "GT ANS: Vöcklabruck\n",
      "{\"qas_id\": \"1ee47f380bde11eba7f7acde48001122\", \"answer\": \"London, England\"}\n",
      "--------------1 EX False RAT False F1 0.00 CONS 0.60--------------\n",
      "question:  Where did the director of film Don Juan (1922 Film) die?\n",
      "0: First, the director of film Don Juan (1922 Film) is Alan Crosland. Second, Alan Crosland died in Hollywood, California, United States. | Hollywood, California, United States\n",
      "1: First, the director of film Don Juan (1922 Film) is Alan Crosland. Second, Alan Crosland died in Hollywood, California. | Hollywood, California\n",
      "2: First, the director of film Don Juan (1922 Film) is Alan Crosland. Second, Alan Crosland died in Hollywood, California, United States. | Hollywood, California, United States\n",
      "3: First, the director of film Don Juan (1922 Film) is Alan Crosland. Second, Alan Crosland died in Hollywood, California, United States. | Hollywood, California, United States\n",
      "4: First, the director of film Don Juan (1922 Film) is Alan Crosland. Second, Alan Crosland died in Hollywood, California, USA. | Hollywood, California, USA\n",
      "PR ANS: Hollywood, California, United States\n",
      "PR RAT: First, the director of film Don Juan (1922 Film) is Alan Crosland. Second, Alan Crosland died in Hollywood, California, United States.\n",
      "GT ANS: Westerland\n",
      "{\"qas_id\": \"49eb87280bdc11eba7f7acde48001122\", \"answer\": \"Hollywood, California, United States\"}\n",
      "--------------2 EX False RAT False F1 0.00 CONS 0.60--------------\n",
      "question:  What is the place of birth of the composer of film Naayudamma?\n",
      "0: First, the composer of film Naayudamma is T. Chalapathi Rao. Second, T. Chalapathi Rao was born in Andhra Pradesh, India. | Andhra Pradesh, India\n",
      "1: First, the composer of film Naayudamma is Pendyala Nageswara Rao. Second, Pendyala Nageswara Rao was born in Repalle, Andhra Pradesh, India. | Repalle, Andhra Pradesh, India\n",
      "2: First, the composer of film Naayudamma is Chellapilla Satyam. Second, Chellapilla Satyam was born in Andhra Pradesh, India. | Andhra Pradesh, India\n",
      "3: First, the composer of film Naayudamma is T. Chalapathi Rao. Second, T. Chalapathi Rao was born in Andhra Pradesh, India. | Andhra Pradesh, India\n",
      "4: First, the composer of film Naayudamma is S. Rajeswara Rao. Second, S. Rajeswara Rao was born in Vizianagaram, Andhra Pradesh, India. | Vizianagaram, Andhra Pradesh, India\n",
      "PR ANS: Andhra Pradesh, India\n",
      "PR RAT: First, the composer of film Naayudamma is T. Chalapathi Rao. Second, T. Chalapathi Rao was born in Andhra Pradesh, India.\n",
      "GT ANS: Tamil\n",
      "{\"qas_id\": \"2e17069c0bde11eba7f7acde48001122\", \"answer\": \"Andhra Pradesh, India\"}\n",
      "--------------3 EX False RAT False F1 0.00 CONS 0.40--------------\n",
      "question:  Where did the director of film Temptation (1959 Film) die?\n",
      "0: First, the director of film Temptation (1959 Film) is Ingmar Bergman. Second, Ingmar Bergman died in Fårö, Sweden. | Fårö, Sweden\n",
      "1: First, the director of film Temptation (1959 Film) is Ingmar Bergman. Second, Ingmar Bergman died in Fårö, Sweden. | Fårö, Sweden\n",
      "2: First, the director of film Temptation (1959 Film) is Irving Rapper. Second, Irving Rapper died in Los Angeles, California, USA. | Los Angeles, California, USA\n",
      "3: First, the director of film Temptation (1959 Film) is Irving Allen. Second, Irving Allen died in Los Angeles, California, United States. | Los Angeles, California, United States\n",
      "4: First, the director of film Temptation (1959 Film) is Irving Reis. Second, Irving Reis died in Los Angeles, California, USA. | Los Angeles, California, USA\n",
      "PR ANS: Fårö, Sweden\n",
      "PR RAT: First, the director of film Temptation (1959 Film) is Ingmar Bergman. Second, Ingmar Bergman died in Fårö, Sweden.\n",
      "GT ANS: Nice\n",
      "{\"qas_id\": \"28942dc20bdd11eba7f7acde48001122\", \"answer\": \"F\\u00e5r\\u00f6, Sweden\"}\n",
      "--------------4 EX False RAT False F1 0.25 CONS 0.40--------------\n",
      "question:  Who is the uncle of John Kennedy, 2Nd Lord Kennedy?\n",
      "0: First, John Kennedy, 2nd Lord Kennedy's uncle is Alexander Kennedy of Dunure. Second, Alexander Kennedy of Dunure is the uncle of John Kennedy, 2nd Lord Kennedy. | Alexander Kennedy of Dunure\n",
      "1: First, John Kennedy, 2nd Lord Kennedy's uncle is David Kennedy, 1st Earl of Cassilis. | David Kennedy, 1st Earl of Cassilis\n",
      "2: First, John Kennedy, 2nd Lord Kennedy's uncle is David Kennedy, 1st Earl of Cassilis. Second, David Kennedy, 1st Earl of Cassilis is the uncle of John Kennedy, 2nd Lord Kennedy. | David Kennedy, 1st Earl of Cassilis\n",
      "3: First, John Kennedy, 2nd Lord Kennedy's uncle is James Kennedy, 1st Lord Kennedy. | James Kennedy, 1st Lord Kennedy\n",
      "4: First, John Kennedy, 2nd Lord Kennedy's uncle is Gilbert Kennedy, 1st Lord Kennedy. | Gilbert Kennedy, 1st Lord Kennedy\n",
      "PR ANS: David Kennedy, 1st Earl of Cassilis\n",
      "PR RAT: First, John Kennedy, 2nd Lord Kennedy's uncle is David Kennedy, 1st Earl of Cassilis.\n",
      "GT ANS: James Kennedy\n",
      "{\"qas_id\": \"6a8a71280bb011ebab90acde48001122\", \"answer\": \"David Kennedy, 1st Earl of Cassilis\"}\n",
      "--------------5 EX False RAT False F1 0.00 CONS 0.80--------------\n",
      "question:  Which film whose director was born first, Broadway Or Bust or Ballad Of Tara?\n",
      "0: First, the director of film Broadway Or Bust is Tom Donahue, who was born on June 12, 1979. Second, the director of film Ballad Of Tara is Chandra Siddhartha, who was born on August 2, 1968. | Ballad Of Tara, as Chandra Siddhartha was born earlier than Tom Donahue\n",
      "1: none | NOT ENOUGH INFO\n",
      "2: none | NOT ENOUGH INFO\n",
      "3: none | NOT ENOUGH INFO\n",
      "4: none | NOT ENOUGH INFO\n",
      "PR ANS: NOT ENOUGH INFO\n",
      "PR RAT: none\n",
      "GT ANS: Broadway Or Bust\n",
      "{\"qas_id\": \"755fdd7c08a411ebbd7cac1f6bf848b6\", \"answer\": \"NOT ENOUGH INFO\"}\n",
      "--------------6 EX False RAT False F1 0.00 CONS 0.40--------------\n",
      "question:  Are the movies The Statement (Film) and A Self Made Hero, from the same country?\n",
      "0: First, The Statement (Film) is from France. Second, A Self Made Hero is also from France. | yes, both movies are from the same country\n",
      "1: First, The Statement (Film) is a film from France. Second, A Self Made Hero is also a film from France. | yes, both movies are from the same country, France\n",
      "2: First, The Statement (Film) is a film from France. Second, A Self Made Hero is also a film from France. | yes, both movies are from the same country, France\n",
      "3: First, The Statement (Film) is a French-British-Canadian film. Second, A Self Made Hero is a French film. | no, they are not from the same country\n",
      "4: First, The Statement (Film) is a Canadian-French film. Second, A Self Made Hero is a French film. | no, they are not from the same country\n",
      "PR ANS: yes, both movies are from the same country, France\n",
      "PR RAT: First, The Statement (Film) is a film from France. Second, A Self Made Hero is also a film from France.\n",
      "GT ANS: yes\n",
      "{\"qas_id\": \"9c4a7a4f090c11ebbdadac1f6bf848b6\", \"answer\": \"yes, both movies are from the same country, France\"}\n",
      "--------------7 EX False RAT False F1 0.67 CONS 1.00--------------\n",
      "question:  What is the place of birth of the director of film The One And Only Ivan (Film)?\n",
      "0: First, the director of film The One And Only Ivan (Film) is Thea Sharrock. Second, Thea Sharrock was born in London, England. | London, England\n",
      "1: First, the director of film The One And Only Ivan (Film) is Thea Sharrock. Second, Thea Sharrock was born in London, England. | London, England\n",
      "2: First, the director of film The One And Only Ivan (Film) is Thea Sharrock. Second, Thea Sharrock was born in London, England. | London, England\n",
      "3: First, the director of film The One And Only Ivan (Film) is Thea Sharrock. Second, Thea Sharrock was born in London, England. | London, England\n",
      "4: First, the director of film The One And Only Ivan (Film) is Thea Sharrock. Second, Thea Sharrock was born in London, England. | London, England\n",
      "PR ANS: London, England\n",
      "PR RAT: First, the director of film The One And Only Ivan (Film) is Thea Sharrock. Second, Thea Sharrock was born in London, England.\n",
      "GT ANS: London\n",
      "{\"qas_id\": \"608c01f00bdd11eba7f7acde48001122\", \"answer\": \"London, England\"}\n",
      "--------------8 EX False RAT False F1 0.00 CONS 0.60--------------\n",
      "question:  Who is Charles Of Provence's paternal grandfather?\n",
      "0: none | NOT ENOUGH INFO\n",
      "1: none | NOT ENOUGH INFO\n",
      "2: First, Charles Of Provence's paternal grandfather is Louis the Pious. Second, Louis the Pious was the Emperor of the Carolingian Empire. | Louis the Pious\n",
      "3: none | NOT ENOUGH INFO\n",
      "4: First, Charles Of Provence's paternal grandfather is Louis the Pious. Second, Louis the Pious was the son of Charlemagne. | Charlemagne\n",
      "PR ANS: NOT ENOUGH INFO\n",
      "PR RAT: none\n",
      "GT ANS: Louis the Pious\n",
      "{\"qas_id\": \"9ec997120baf11ebab90acde48001122\", \"answer\": \"NOT ENOUGH INFO\"}\n",
      "--------------9 EX True RAT False F1 1.00 CONS 0.80--------------\n",
      "question:  Which film has the director who was born later, The Mate Of The Sally Ann or The Legend Of Hercules?\n",
      "0: First, the director of The Mate Of The Sally Ann is Denison Clift, who was born on 23 October 1884. Second, the director of The Legend Of Hercules is Renny Harlin, who was born on 15 March 1959. | The Legend Of Hercules\n",
      "1: First, the director of The Mate Of The Sally Ann is Denison Clift, who was born on 27 October 1884. Second, the director of The Legend Of Hercules is Renny Harlin, who was born on 15 March 1959. | The Legend Of Hercules\n",
      "2: First, the director of The Mate Of The Sally Ann is F. Martin Thornton, who was born on 5 February 1882. Second, the director of The Legend Of Hercules is Renny Harlin, who was born on 15 March 1959. | The Legend Of Hercules\n",
      "3: none | NOT ENOUGH INFO\n",
      "4: First, the director of The Mate Of The Sally Ann is George W. Lederer, who was born on October 1, 1871. Second, the director of The Legend Of Hercules is Renny Harlin, who was born on March 15, 1959. | The Legend Of Hercules\n",
      "PR ANS: The Legend Of Hercules\n",
      "PR RAT: First, the director of The Mate Of The Sally Ann is Denison Clift, who was born on 23 October 1884. Second, the director of The Legend Of Hercules is Renny Harlin, who was born on 15 March 1959.\n",
      "GT ANS: The Legend Of Hercules\n",
      "{\"qas_id\": \"a0b7ab54088511ebbd6dac1f6bf848b6\", \"answer\": \"The Legend Of Hercules\"}\n",
      "EX 0.1 RAT 0.0\n",
      "F1: 0.19 PR: 0.17 RE: 0.25\n",
      "consistencies: mean 0.6199999999999999 and std 0.18867962264113208\n",
      "consistencies for true predictions: mean 0.8 and std 0.0\n",
      "consistencies for false predictions: mean 0.6000000000000001 and std 0.18856180831641267\n"
     ]
    },
    {
     "name": "stderr",
     "output_type": "stream",
     "text": [
      "\n",
      "/Users/jiteshsingla/Documents/MS Research Final Topic/Implementation/VE_implementation/consistency.py:247: UserWarning: Dataset has 0 variance; skipping density estimate. Pass `warn_singular=False` to disable this warning.\n",
      "  sns.displot(df, x=\"consistency\", hue=\"label\", kind=\"kde\", fill=True)\n"
     ]
    },
    {
     "data": {
      "text/plain": [
       "([{'response': ' First, the performer of the song Get A Life - Get Alive is Soul II Soul. Second, Soul II Soul was formed in London, England. The answer is London, England.',\n",
       "   'id': '1ee47f380bde11eba7f7acde48001122',\n",
       "   'consistency': 0.6,\n",
       "   'rationale': 'First, the performer of the song Get A Life - Get Alive is Soul II Soul. Second, Soul II Soul was formed in London, England.',\n",
       "   'answer': 'London, England',\n",
       "   'original_answers': ['London, England',\n",
       "    'Jamaica',\n",
       "    'London, England',\n",
       "    'Kingston, Ontario, Canada',\n",
       "    'London, England'],\n",
       "   'original_rationales': ['First, the performer of the song Get A Life - Get Alive is Soul II Soul. Second, Soul II Soul was formed in London, England.',\n",
       "    'First, the performer of the song Get A Life - Get Alive is born in Jamaica.',\n",
       "    'First, the performer of the song Get A Life - Get Alive is Soul II Soul. Second, Soul II Soul was formed in London, England.',\n",
       "    'First, the performer of the song Get A Life - Get Alive is Bryan Adams. Second, Bryan Adams was born in Kingston, Ontario, Canada.',\n",
       "    'First, the performer of the song Get A Life - Get Alive is Soul II Soul. Second, Soul II Soul was formed in London, England.']},\n",
       "  {'response': 'First, the director of film Don Juan (1922 Film) is Alan Crosland. Second, Alan Crosland died in Hollywood, California, United States. The answer is Hollywood, California, United States.',\n",
       "   'id': '49eb87280bdc11eba7f7acde48001122',\n",
       "   'consistency': 0.6,\n",
       "   'rationale': 'First, the director of film Don Juan (1922 Film) is Alan Crosland. Second, Alan Crosland died in Hollywood, California, United States.',\n",
       "   'answer': 'Hollywood, California, United States',\n",
       "   'original_answers': ['Hollywood, California, United States',\n",
       "    'Hollywood, California',\n",
       "    'Hollywood, California, United States',\n",
       "    'Hollywood, California, United States',\n",
       "    'Hollywood, California, USA'],\n",
       "   'original_rationales': ['First, the director of film Don Juan (1922 Film) is Alan Crosland. Second, Alan Crosland died in Hollywood, California, United States.',\n",
       "    'First, the director of film Don Juan (1922 Film) is Alan Crosland. Second, Alan Crosland died in Hollywood, California.',\n",
       "    'First, the director of film Don Juan (1922 Film) is Alan Crosland. Second, Alan Crosland died in Hollywood, California, United States.',\n",
       "    'First, the director of film Don Juan (1922 Film) is Alan Crosland. Second, Alan Crosland died in Hollywood, California, United States.',\n",
       "    'First, the director of film Don Juan (1922 Film) is Alan Crosland. Second, Alan Crosland died in Hollywood, California, USA.']},\n",
       "  {'response': 'First, the composer of film Naayudamma is T. Chalapathi Rao. Second, T. Chalapathi Rao was born in Andhra Pradesh, India. The answer is Andhra Pradesh, India.',\n",
       "   'id': '2e17069c0bde11eba7f7acde48001122',\n",
       "   'consistency': 0.6,\n",
       "   'rationale': 'First, the composer of film Naayudamma is T. Chalapathi Rao. Second, T. Chalapathi Rao was born in Andhra Pradesh, India.',\n",
       "   'answer': 'Andhra Pradesh, India',\n",
       "   'original_answers': ['Andhra Pradesh, India',\n",
       "    'Repalle, Andhra Pradesh, India',\n",
       "    'Andhra Pradesh, India',\n",
       "    'Andhra Pradesh, India',\n",
       "    'Vizianagaram, Andhra Pradesh, India'],\n",
       "   'original_rationales': ['First, the composer of film Naayudamma is T. Chalapathi Rao. Second, T. Chalapathi Rao was born in Andhra Pradesh, India.',\n",
       "    'First, the composer of film Naayudamma is Pendyala Nageswara Rao. Second, Pendyala Nageswara Rao was born in Repalle, Andhra Pradesh, India.',\n",
       "    'First, the composer of film Naayudamma is Chellapilla Satyam. Second, Chellapilla Satyam was born in Andhra Pradesh, India.',\n",
       "    'First, the composer of film Naayudamma is T. Chalapathi Rao. Second, T. Chalapathi Rao was born in Andhra Pradesh, India.',\n",
       "    'First, the composer of film Naayudamma is S. Rajeswara Rao. Second, S. Rajeswara Rao was born in Vizianagaram, Andhra Pradesh, India.']},\n",
       "  {'response': 'First, the director of film Temptation (1959 Film) is Ingmar Bergman. Second, Ingmar Bergman died in Fårö, Sweden. The answer is Fårö, Sweden.',\n",
       "   'id': '28942dc20bdd11eba7f7acde48001122',\n",
       "   'consistency': 0.4,\n",
       "   'rationale': 'First, the director of film Temptation (1959 Film) is Ingmar Bergman. Second, Ingmar Bergman died in Fårö, Sweden.',\n",
       "   'answer': 'Fårö, Sweden',\n",
       "   'original_answers': ['Fårö, Sweden',\n",
       "    'Fårö, Sweden',\n",
       "    'Los Angeles, California, USA',\n",
       "    'Los Angeles, California, United States',\n",
       "    'Los Angeles, California, USA'],\n",
       "   'original_rationales': ['First, the director of film Temptation (1959 Film) is Ingmar Bergman. Second, Ingmar Bergman died in Fårö, Sweden.',\n",
       "    'First, the director of film Temptation (1959 Film) is Ingmar Bergman. Second, Ingmar Bergman died in Fårö, Sweden.',\n",
       "    'First, the director of film Temptation (1959 Film) is Irving Rapper. Second, Irving Rapper died in Los Angeles, California, USA.',\n",
       "    'First, the director of film Temptation (1959 Film) is Irving Allen. Second, Irving Allen died in Los Angeles, California, United States.',\n",
       "    'First, the director of film Temptation (1959 Film) is Irving Reis. Second, Irving Reis died in Los Angeles, California, USA.']},\n",
       "  {'response': \"First, John Kennedy, 2nd Lord Kennedy's uncle is David Kennedy, 1st Earl of Cassilis. The answer is David Kennedy, 1st Earl of Cassilis.\",\n",
       "   'id': '6a8a71280bb011ebab90acde48001122',\n",
       "   'consistency': 0.4,\n",
       "   'rationale': \"First, John Kennedy, 2nd Lord Kennedy's uncle is David Kennedy, 1st Earl of Cassilis.\",\n",
       "   'answer': 'David Kennedy, 1st Earl of Cassilis',\n",
       "   'original_answers': ['Alexander Kennedy of Dunure',\n",
       "    'David Kennedy, 1st Earl of Cassilis',\n",
       "    'David Kennedy, 1st Earl of Cassilis',\n",
       "    'James Kennedy, 1st Lord Kennedy',\n",
       "    'Gilbert Kennedy, 1st Lord Kennedy'],\n",
       "   'original_rationales': [\"First, John Kennedy, 2nd Lord Kennedy's uncle is Alexander Kennedy of Dunure. Second, Alexander Kennedy of Dunure is the uncle of John Kennedy, 2nd Lord Kennedy.\",\n",
       "    \"First, John Kennedy, 2nd Lord Kennedy's uncle is David Kennedy, 1st Earl of Cassilis.\",\n",
       "    \"First, John Kennedy, 2nd Lord Kennedy's uncle is David Kennedy, 1st Earl of Cassilis. Second, David Kennedy, 1st Earl of Cassilis is the uncle of John Kennedy, 2nd Lord Kennedy.\",\n",
       "    \"First, John Kennedy, 2nd Lord Kennedy's uncle is James Kennedy, 1st Lord Kennedy.\",\n",
       "    \"First, John Kennedy, 2nd Lord Kennedy's uncle is Gilbert Kennedy, 1st Lord Kennedy.\"]},\n",
       "  {'response': 'First, the director of film Broadway Or Bust is Ron Winston, who was born on October 8, 1924. Second, the director of film Ballad Of Tara is Tunc Basaran, who was born on February 17, 1945. Therefore, the director of Broadway Or Bust was born first.',\n",
       "   'id': '755fdd7c08a411ebbd7cac1f6bf848b6',\n",
       "   'consistency': 0.8,\n",
       "   'rationale': 'none',\n",
       "   'answer': 'NOT ENOUGH INFO',\n",
       "   'original_answers': ['Ballad Of Tara, as Chandra Siddhartha was born earlier than Tom Donahue',\n",
       "    'NOT ENOUGH INFO',\n",
       "    'NOT ENOUGH INFO',\n",
       "    'NOT ENOUGH INFO',\n",
       "    'NOT ENOUGH INFO'],\n",
       "   'original_rationales': ['First, the director of film Broadway Or Bust is Tom Donahue, who was born on June 12, 1979. Second, the director of film Ballad Of Tara is Chandra Siddhartha, who was born on August 2, 1968.',\n",
       "    'none',\n",
       "    'none',\n",
       "    'none',\n",
       "    'none']},\n",
       "  {'response': 'First, The Statement (Film) is a film from France. Second, A Self Made Hero is also a film from France. The answer is yes, both movies are from the same country, France.',\n",
       "   'id': '9c4a7a4f090c11ebbdadac1f6bf848b6',\n",
       "   'consistency': 0.4,\n",
       "   'rationale': 'First, The Statement (Film) is a film from France. Second, A Self Made Hero is also a film from France.',\n",
       "   'answer': 'yes, both movies are from the same country, France',\n",
       "   'original_answers': ['yes, both movies are from the same country',\n",
       "    'yes, both movies are from the same country, France',\n",
       "    'yes, both movies are from the same country, France',\n",
       "    'no, they are not from the same country',\n",
       "    'no, they are not from the same country'],\n",
       "   'original_rationales': ['First, The Statement (Film) is from France. Second, A Self Made Hero is also from France.',\n",
       "    'First, The Statement (Film) is a film from France. Second, A Self Made Hero is also a film from France.',\n",
       "    'First, The Statement (Film) is a film from France. Second, A Self Made Hero is also a film from France.',\n",
       "    'First, The Statement (Film) is a French-British-Canadian film. Second, A Self Made Hero is a French film.',\n",
       "    'First, The Statement (Film) is a Canadian-French film. Second, A Self Made Hero is a French film.']},\n",
       "  {'response': 'First, the director of film The One And Only Ivan (Film) is Thea Sharrock. Second, Thea Sharrock was born in London, England. The answer is London, England.',\n",
       "   'id': '608c01f00bdd11eba7f7acde48001122',\n",
       "   'consistency': 1.0,\n",
       "   'rationale': 'First, the director of film The One And Only Ivan (Film) is Thea Sharrock. Second, Thea Sharrock was born in London, England.',\n",
       "   'answer': 'London, England',\n",
       "   'original_answers': ['London, England',\n",
       "    'London, England',\n",
       "    'London, England',\n",
       "    'London, England',\n",
       "    'London, England'],\n",
       "   'original_rationales': ['First, the director of film The One And Only Ivan (Film) is Thea Sharrock. Second, Thea Sharrock was born in London, England.',\n",
       "    'First, the director of film The One And Only Ivan (Film) is Thea Sharrock. Second, Thea Sharrock was born in London, England.',\n",
       "    'First, the director of film The One And Only Ivan (Film) is Thea Sharrock. Second, Thea Sharrock was born in London, England.',\n",
       "    'First, the director of film The One And Only Ivan (Film) is Thea Sharrock. Second, Thea Sharrock was born in London, England.',\n",
       "    'First, the director of film The One And Only Ivan (Film) is Thea Sharrock. Second, Thea Sharrock was born in London, England.']},\n",
       "  {'response': \"First, Charles Of Provence's paternal grandfather is Louis the Pious.\",\n",
       "   'id': '9ec997120baf11ebab90acde48001122',\n",
       "   'consistency': 0.6,\n",
       "   'rationale': 'none',\n",
       "   'answer': 'NOT ENOUGH INFO',\n",
       "   'original_answers': ['NOT ENOUGH INFO',\n",
       "    'NOT ENOUGH INFO',\n",
       "    'Louis the Pious',\n",
       "    'NOT ENOUGH INFO',\n",
       "    'Charlemagne'],\n",
       "   'original_rationales': ['none',\n",
       "    'none',\n",
       "    \"First, Charles Of Provence's paternal grandfather is Louis the Pious. Second, Louis the Pious was the Emperor of the Carolingian Empire.\",\n",
       "    'none',\n",
       "    \"First, Charles Of Provence's paternal grandfather is Louis the Pious. Second, Louis the Pious was the son of Charlemagne.\"]},\n",
       "  {'response': 'First, the director of The Mate Of The Sally Ann is Denison Clift, who was born on 23 October 1884. Second, the director of The Legend Of Hercules is Renny Harlin, who was born on 15 March 1959. The answer is The Legend Of Hercules.',\n",
       "   'id': 'a0b7ab54088511ebbd6dac1f6bf848b6',\n",
       "   'consistency': 0.8,\n",
       "   'rationale': 'First, the director of The Mate Of The Sally Ann is Denison Clift, who was born on 23 October 1884. Second, the director of The Legend Of Hercules is Renny Harlin, who was born on 15 March 1959.',\n",
       "   'answer': 'The Legend Of Hercules',\n",
       "   'original_answers': ['The Legend Of Hercules',\n",
       "    'The Legend Of Hercules',\n",
       "    'The Legend Of Hercules',\n",
       "    'NOT ENOUGH INFO',\n",
       "    'The Legend Of Hercules'],\n",
       "   'original_rationales': ['First, the director of The Mate Of The Sally Ann is Denison Clift, who was born on 23 October 1884. Second, the director of The Legend Of Hercules is Renny Harlin, who was born on 15 March 1959.',\n",
       "    'First, the director of The Mate Of The Sally Ann is Denison Clift, who was born on 27 October 1884. Second, the director of The Legend Of Hercules is Renny Harlin, who was born on 15 March 1959.',\n",
       "    'First, the director of The Mate Of The Sally Ann is F. Martin Thornton, who was born on 5 February 1882. Second, the director of The Legend Of Hercules is Renny Harlin, who was born on 15 March 1959.',\n",
       "    'none',\n",
       "    'First, the director of The Mate Of The Sally Ann is George W. Lederer, who was born on October 1, 1871. Second, the director of The Legend Of Hercules is Renny Harlin, who was born on March 15, 1959.']}],\n",
       " [0.8],\n",
       " [0.6, 0.6, 0.6, 0.4, 0.4, 0.8, 0.4, 1.0, 0.6])"
      ]
     },
     "execution_count": 7,
     "metadata": {},
     "output_type": "execute_result"
    },
    {
     "data": {
      "text/plain": [
       "<Figure size 1000x500 with 0 Axes>"
      ]
     },
     "metadata": {},
     "output_type": "display_data"
    },
    {
     "data": {
      "image/png": "[encoded data removed]",
      "text/plain": [
       "<Figure size 611.375x500 with 1 Axes>"
      ]
     },
     "metadata": {},
     "output_type": "display_data"
    }
   ],
   "source": [
    "test_few_shot_manual_prediction(consistency_args)"
   ]
  },
  {
   "cell_type": "markdown",
   "metadata": {},
   "source": [
    "### Executing Verifying Questions "
   ]
  },
  {
   "cell_type": "code",
   "execution_count": 2,
   "metadata": {},
   "outputs": [],
   "source": [
    "from verifying_questions import test_few_shot_manual_prediction as vq_test_few_shot_manual_pred, _parse_args as vq_parse_args"
   ]
  },
  {
   "cell_type": "code",
   "execution_count": 3,
   "metadata": {},
   "outputs": [
    {
     "data": {
      "text/plain": [
       "Namespace(style='e-p', annotation='std', run_prediction=False, num_shot=5, train_slice=0, num_dev=10, dev_slice=0, show_result=False, model='gpt3', temperature=0.7, consistency_threshold=0.5, engine='gpt-3.5-turbo-0125', engine_name='gpt-3.5-turbo-0125', helper=<prompt_helper.JointEandPPromptHelper object at 0x321346ba0>)"
      ]
     },
     "execution_count": 3,
     "metadata": {},
     "output_type": "execute_result"
    }
   ],
   "source": [
    "vq_args = vq_parse_args()\n",
    "vq_args"
   ]
  },
  {
   "cell_type": "code",
   "execution_count": 4,
   "metadata": {},
   "outputs": [
    {
     "name": "stdout",
     "output_type": "stream",
     "text": [
      "Running prediction\n",
      "0 not found\n",
      "len(train_set):  5\n",
      "7 not found\n",
      "prompt: \n",
      "Write a question that validates the reason for an overall question.\n",
      "\n",
      "Overall Question: What is the date of death of the composer of film Baalaraajana Kathe?\n",
      "Reason: First, the composer of film Baalaraajana Kathe is S. Hanumantha Rao.\n",
      "Question: Who is the composer of film Baalaraajana Kathe?\n",
      "\n",
      "Overall Question: Who lived longer, Edward Frederick Sanderson or Forrest Towns?\n",
      "Reason: First, Edward Frederick Sanderson died at age 81.\n",
      "Question: How long did Edward Frederick Sanderson live for?\n",
      "\n",
      "Overall Question: question\n",
      "Reason: sentence\n",
      "Question:\n",
      "args.num_dev:  10\n"
     ]
    },
    {
     "name": "stderr",
     "output_type": "stream",
     "text": [
      "Verifying: 100%|██████████| 10/10 [00:00<00:00, 28906.30it/s]\n"
     ]
    },
    {
     "name": "stdout",
     "output_type": "stream",
     "text": [
      "running verifying question generation\n"
     ]
    },
    {
     "name": "stderr",
     "output_type": "stream",
     "text": [
      "Verifying:   0%|          | 0/10 [00:00<?, ?it/s]"
     ]
    },
    {
     "name": "stdout",
     "output_type": "stream",
     "text": [
      "0 0.6\n",
      "1 0.6\n",
      "2 0.6\n",
      "3 0.4\n"
     ]
    },
    {
     "name": "stderr",
     "output_type": "stream",
     "text": [
      "Verifying:  40%|████      | 4/10 [00:01<00:02,  2.39it/s]"
     ]
    },
    {
     "name": "stdout",
     "output_type": "stream",
     "text": [
      "4 0.4\n"
     ]
    },
    {
     "name": "stderr",
     "output_type": "stream",
     "text": [
      "Verifying:  50%|█████     | 5/10 [00:02<00:02,  2.10it/s]"
     ]
    },
    {
     "name": "stdout",
     "output_type": "stream",
     "text": [
      "5 0.8\n",
      "6 0.4\n"
     ]
    },
    {
     "name": "stderr",
     "output_type": "stream",
     "text": [
      "Verifying: 100%|██████████| 10/10 [00:03<00:00,  2.89it/s]"
     ]
    },
    {
     "name": "stdout",
     "output_type": "stream",
     "text": [
      "7 1.0\n",
      "8 0.6\n",
      "9 0.8\n",
      "--------------3 EX 0.4 CONS--------------\n",
      "question:  Where did the director of film Temptation (1959 Film) die?\n",
      "rationale_sentence 0: the director of film Temptation (1959 Film) is Ingmar Bergman. \n",
      "verifying_question 0: Where did Ingmar Bergman, the director of the film Temptation (1959 Film), die?\n",
      "rationale_sentence 1: Ingmar Bergman died in Fårö, Sweden.\n",
      "verifying_question 1: Where did Ingmar Bergman, the director of film Temptation (1959 Film), die?\n",
      "--------------4 EX 0.4 CONS--------------\n",
      "question:  Who is the uncle of John Kennedy, 2Nd Lord Kennedy?\n",
      "rationale_sentence 0: John Kennedy, 2nd Lord Kennedy's uncle is David Kennedy, 1st Earl of Cassilis.\n",
      "verifying_question 0: Who is David Kennedy, 1st Earl of Cassilis related to in terms of family?\n",
      "--------------6 EX 0.4 CONS--------------\n",
      "question:  Are the movies The Statement (Film) and A Self Made Hero, from the same country?\n",
      "rationale_sentence 0: The Statement (Film) is a film from France. \n",
      "verifying_question 0: What country is the film A Self Made Hero from?\n",
      "rationale_sentence 1: A Self Made Hero is also a film from France.\n",
      "verifying_question 1: What country is the film A Self Made Hero from?\n",
      "3 instances below consistency threshold\n"
     ]
    },
    {
     "name": "stderr",
     "output_type": "stream",
     "text": [
      "\n"
     ]
    }
   ],
   "source": [
    "vq_test_few_shot_manual_pred(vq_args)"
   ]
  },
  {
   "cell_type": "markdown",
   "metadata": {},
   "source": [
    "### Executing Relevant Context"
   ]
  },
  {
   "cell_type": "code",
   "execution_count": 8,
   "metadata": {},
   "outputs": [],
   "source": [
    "from relevant_context import _parse_args as relevant_parse_args, test_few_shot_manual_prediction as relevant_context_test_few_shot_manual_prediction"
   ]
  },
  {
   "cell_type": "code",
   "execution_count": 3,
   "metadata": {},
   "outputs": [
    {
     "data": {
      "text/plain": [
       "Namespace(engine='gpt-3.5-turbo-0125', style='e-p', annotation='std', run_prediction=False, num_shot=5, train_slice=0, num_dev=10, dev_slice=0, topk=3, show_result=False, model='gpt3', temperature=0.7, consistency_threshold=0.5, training_set=False, no_claim=False, plot_numbers=False, check_inclusion=False, retrieval='wikipedia', drqa_path='misc/verifying_questions-default-pipeline.preds', google_path='misc/2wiki_google.pkl', engine_name='gpt-3.5-turbo-0125', helper=<prompt_helper.JointEandPPromptHelper object at 0x337c2ad20>)"
      ]
     },
     "execution_count": 3,
     "metadata": {},
     "output_type": "execute_result"
    }
   ],
   "source": [
    "relevant_context_args = relevant_parse_args()\n",
    "relevant_context_args"
   ]
  },
  {
   "cell_type": "code",
   "execution_count": 4,
   "metadata": {},
   "outputs": [
    {
     "name": "stdout",
     "output_type": "stream",
     "text": [
      "Running prediction\n",
      "0 not found\n",
      "len(train_set):  5\n",
      "7 not found\n"
     ]
    },
    {
     "name": "stderr",
     "output_type": "stream",
     "text": [
      "Verifying: 100%|██████████| 10/10 [00:00<00:00, 43106.93it/s]\n",
      "Verifying: 100%|██████████| 10/10 [03:09<00:00, 18.92s/it]"
     ]
    },
    {
     "name": "stdout",
     "output_type": "stream",
     "text": [
      "includes_before:  0.16611294850498384\n",
      "includes_after:  0.16611294850498384\n",
      "--------------3 EX --------------\n",
      "question:  Where did the director of film Temptation (1959 Film) die?\n",
      "ground_truth_contexts: ['Temptation (also known as Temptation Island) is a 1959 French drama film co-written and directed by Edmond T. Gréville.', '20 June 1906 Nice – 26 May 1966']\n",
      "rationale_sentence 0: the director of film Temptation (1959 Film) is Ingmar Bergman. \n",
      "verifying_question 0: Where did Ingmar Bergman, the director of the film Temptation (1959 Film), die?\n",
      "relevant_contexts 0: ['Filmography\\nNarrative\\nFilm\\nTelevision\\nDocumentary\\nSee also\\nList of stage productions directed by Ingmar Bergman\\n\\nReferences\\nGeneral\\n\"Ingmar Bergman: Films\".', 'Ingmar Bergman was a Swedish screenwriter and film director.', 'Temptation is a 1946 American film noir thriller film directed by Irving Pichel and starring Merle Oberon, George Brent, Charles Korvin and Paul Lukas.']\n",
      "rationale_sentence 1: Ingmar Bergman died in Fårö, Sweden.\n",
      "verifying_question 1: Where did Ingmar Bergman, the director of film Temptation (1959 Film), die?\n",
      "relevant_contexts 1: ['Ingmar Bergman was a Swedish screenwriter and film director.', 'Erik Henrik Fredrik Bergman (22 October 1886 – 26 April 1970) was a Swedish parish minister of the Lutheran Church and the father of diplomat Dag Bergman, novelist Margareta Bergman, and film director Ingmar Bergman.', 'Ernst Ingmar Bergman (14 July 1918 – 30 July 2007) was a Swedish film and theatre director and screenwriter.']\n",
      "--------------4 EX --------------\n",
      "question:  Who is the uncle of John Kennedy, 2Nd Lord Kennedy?\n",
      "ground_truth_contexts: ['John Kennedy, PC, 2nd Lord Kennedy (12 October 1454 – 29 December 1508) was a Scottish lord, the son of Gilbert Kennedy, 1st Lord Kennedy and Catherine Maxwell.', 'Gilbert Kennedy of Dunure, 1st Lord Kennedy (22 February 1405 – 27 March 1489) was a Scottish lord, a son of Sir James Kennedy, Younger of Dunure, and Lady Mary Stewart, daughter of Robert III, King of the Scots.']\n",
      "rationale_sentence 0: John Kennedy, 2nd Lord Kennedy's uncle is David Kennedy, 1st Earl of Cassilis.\n",
      "verifying_question 0: Who is David Kennedy, 1st Earl of Cassilis related to in terms of family?\n",
      "relevant_contexts 0: [\"At least one Kennedy family member was serving in federal elective office in every year from 1947, when P. J. Kennedy's grandson John F. Kennedy became a member of Congress from Massachusetts, until 2011, when Patrick J. Kennedy II (John's nephew) retired as a member of the U.S.\", '1463–1513), Scottish peer\\nDavid Kennedy, 10th Earl of Cassilis (bef.', \"David Kennedy may refer to:\\n\\nArts and entertainment\\nDavid Kennedy (actor) (born 1964), British actor\\nDavid Kennedy (born 1988), British musician performing as Pearson Sound\\nDavid Kennedy (film producer) (1941–2015), American film producer\\nDavid Kennedy (singer) (1825–1886), Scottish minister and tenor\\nDavid J. Kennedy (painter) (1816/17–1898), Philadelphia painter\\nDavid Michael Kennedy (born 1950), American fine art photographer\\n\\nPoliticians and government\\nDavid Kennedy (Australian politician) (born 1940), politician and member of the Australian House of Representatives\\nDavid B. Kennedy (1933–2019), member of the Wyoming House of Representatives\\nDavid Kennedy (economist) (born 1969), British civil servant, formerly chief executive of the Committee on Climate Change\\nDavid J. Kennedy (politician) (1907–1995), Maine politician and pharmacist\\nDavid M. Kennedy (politician) (1905–1996), American businessman, economist and United States Secretary of the Treasury\\nDavid T. Kennedy (1934–2014), American politician, mayor of Miami\\n\\nScience and academics\\nDavid Kennedy (astronomer) (1864–1936), first New Zealand born Marist priest, noted astronomer and educator\\nDavid Kennedy (jurist) (born 1954), American legal academic, vice president of international affairs at Brown University\\nDavid L. Kennedy (born 1948), Scottish Roman archaeologist and historian at the University of Western Australia and the University of Oxford\\nDavid M. Kennedy (historian) (born 1941), Pulitzer Prize-winning historian and professor at Stanford\\nDavid M. Kennedy (criminologist) (born 1958), American criminologist, author of Don't Shoot\\n\\nSports\\nDavid Kennedy (hurler) (born 1976), Irish hurler\\nDavid Kennedy (racing driver) (born 1953), Irish racing driver\\nDave Kennedy (footballer) (born 1949), English footballer\\nDavid Kennedy (cricketer) (1890–1916), Scottish cricketer and soldier\\n\\nOther\\nDavid Kennedy (advertising) (1939–2021), American advertising executive, co-founder of the Wieden+Kennedy agency\\nDavid Kennedy, 1st Earl of Cassilis (aft.\"]\n",
      "--------------6 EX --------------\n",
      "question:  Are the movies The Statement (Film) and A Self Made Hero, from the same country?\n",
      "ground_truth_contexts: ['The plot was inspired by the true story of Paul Touvier, a Vichy French police official, who was indicted after World War II for war crimes.', 'is a 1996 French film directed by Jacques Audiard.']\n",
      "rationale_sentence 0: The Statement (Film) is a film from France. \n",
      "verifying_question 0: What country is the film A Self Made Hero from?\n",
      "relevant_contexts 0: ['A Self-Made Hero (French: Un héros très discret) is a 1996 French film directed by Jacques Audiard.', 'Synopsis\\nThe film is presented in the style of a historical documentary, with an elderly Dehousse narrating the events of his life, interspersed with interviews with other characters and historians.', 'It is a satire of the action genre and associated clichés, containing several parodies of action films in the form of films within the film.']\n",
      "rationale_sentence 1: A Self Made Hero is also a film from France.\n",
      "verifying_question 1: What country is the film A Self Made Hero from?\n",
      "relevant_contexts 1: ['A Self-Made Hero (French: Un héros très discret) is a 1996 French film directed by Jacques Audiard.', 'A hero (feminine: heroine) is a real person or fictional character who, in the face of danger, combats adversity through feats of ingenuity, courage, or strength.', 'Post-classical and modern heroes, on the other hand, perform great deeds or selfless acts for the common good instead of the classical goal of wealth, pride, and fame.']\n",
      "misc/relevant_context_tr0-5_dv0-10_wikipedia_thres0.5.json\n"
     ]
    },
    {
     "name": "stderr",
     "output_type": "stream",
     "text": [
      "\n"
     ]
    }
   ],
   "source": [
    "relevant_context_test_few_shot_manual_prediction(relevant_context_args)"
   ]
  },
  {
   "cell_type": "code",
   "execution_count": 5,
   "metadata": {},
   "outputs": [],
   "source": [
    "relevant_context = [{\"id\": \"28942dc20bdd11eba7f7acde48001122\", \"context\": [[\"Filmography\\nNarrative\\nFilm\\nTelevision\\nDocumentary\\nSee also\\nList of stage productions directed by Ingmar Bergman\\n\\nReferences\\nGeneral\\n\\\"Ingmar Bergman: Films\\\".\", \"Ingmar Bergman was a Swedish screenwriter and film director.\", \"Temptation is a 1946 American film noir thriller film directed by Irving Pichel and starring Merle Oberon, George Brent, Charles Korvin and Paul Lukas.\"], [\"Ingmar Bergman was a Swedish screenwriter and film director.\", \"Erik Henrik Fredrik Bergman (22 October 1886 \\u2013 26 April 1970) was a Swedish parish minister of the Lutheran Church and the father of diplomat Dag Bergman, novelist Margareta Bergman, and film director Ingmar Bergman.\", \"Ernst Ingmar Bergman (14 July 1918 \\u2013 30 July 2007) was a Swedish film and theatre director and screenwriter.\"]]}, {\"id\": \"6a8a71280bb011ebab90acde48001122\", \"context\": [[\"At least one Kennedy family member was serving in federal elective office in every year from 1947, when P. J. Kennedy's grandson John F. Kennedy became a member of Congress from Massachusetts, until 2011, when Patrick J. Kennedy II (John's nephew) retired as a member of the U.S.\", \"1463\\u20131513), Scottish peer\\nDavid Kennedy, 10th Earl of Cassilis (bef.\", \"David Kennedy may refer to:\\n\\nArts and entertainment\\nDavid Kennedy (actor) (born 1964), British actor\\nDavid Kennedy (born 1988), British musician performing as Pearson Sound\\nDavid Kennedy (film producer) (1941\\u20132015), American film producer\\nDavid Kennedy (singer) (1825\\u20131886), Scottish minister and tenor\\nDavid J. Kennedy (painter) (1816/17\\u20131898), Philadelphia painter\\nDavid Michael Kennedy (born 1950), American fine art photographer\\n\\nPoliticians and government\\nDavid Kennedy (Australian politician) (born 1940), politician and member of the Australian House of Representatives\\nDavid B. Kennedy (1933\\u20132019), member of the Wyoming House of Representatives\\nDavid Kennedy (economist) (born 1969), British civil servant, formerly chief executive of the Committee on Climate Change\\nDavid J. Kennedy (politician) (1907\\u20131995), Maine politician and pharmacist\\nDavid M. Kennedy (politician) (1905\\u20131996), American businessman, economist and United States Secretary of the Treasury\\nDavid T. Kennedy (1934\\u20132014), American politician, mayor of Miami\\n\\nScience and academics\\nDavid Kennedy (astronomer) (1864\\u20131936), first New Zealand born Marist priest, noted astronomer and educator\\nDavid Kennedy (jurist) (born 1954), American legal academic, vice president of international affairs at Brown University\\nDavid L. Kennedy (born 1948), Scottish Roman archaeologist and historian at the University of Western Australia and the University of Oxford\\nDavid M. Kennedy (historian) (born 1941), Pulitzer Prize-winning historian and professor at Stanford\\nDavid M. Kennedy (criminologist) (born 1958), American criminologist, author of Don't Shoot\\n\\nSports\\nDavid Kennedy (hurler) (born 1976), Irish hurler\\nDavid Kennedy (racing driver) (born 1953), Irish racing driver\\nDave Kennedy (footballer) (born 1949), English footballer\\nDavid Kennedy (cricketer) (1890\\u20131916), Scottish cricketer and soldier\\n\\nOther\\nDavid Kennedy (advertising) (1939\\u20132021), American advertising executive, co-founder of the Wieden+Kennedy agency\\nDavid Kennedy, 1st Earl of Cassilis (aft.\"]]}, {\"id\": \"9c4a7a4f090c11ebbdadac1f6bf848b6\", \"context\": [[\"A Self-Made Hero (French: Un h\\u00e9ros tr\\u00e8s discret) is a 1996 French film directed by Jacques Audiard.\", \"Synopsis\\nThe film is presented in the style of a historical documentary, with an elderly Dehousse narrating the events of his life, interspersed with interviews with other characters and historians.\", \"It is a satire of the action genre and associated clich\\u00e9s, containing several parodies of action films in the form of films within the film.\"], [\"A Self-Made Hero (French: Un h\\u00e9ros tr\\u00e8s discret) is a 1996 French film directed by Jacques Audiard.\", \"A hero (feminine: heroine) is a real person or fictional character who, in the face of danger, combats adversity through feats of ingenuity, courage, or strength.\", \"Post-classical and modern heroes, on the other hand, perform great deeds or selfless acts for the common good instead of the classical goal of wealth, pride, and fame.\"]]}]"
   ]
  },
  {
   "cell_type": "code",
   "execution_count": 6,
   "metadata": {},
   "outputs": [
    {
     "data": {
      "text/plain": [
       "3"
      ]
     },
     "execution_count": 6,
     "metadata": {},
     "output_type": "execute_result"
    }
   ],
   "source": [
    "len(relevant_context)"
   ]
  },
  {
   "cell_type": "code",
   "execution_count": 13,
   "metadata": {},
   "outputs": [
    {
     "data": {
      "text/plain": [
       "[['Filmography\\nNarrative\\nFilm\\nTelevision\\nDocumentary\\nSee also\\nList of stage productions directed by Ingmar Bergman\\n\\nReferences\\nGeneral\\n\"Ingmar Bergman: Films\".',\n",
       "  'Ingmar Bergman was a Swedish screenwriter and film director.',\n",
       "  'Temptation is a 1946 American film noir thriller film directed by Irving Pichel and starring Merle Oberon, George Brent, Charles Korvin and Paul Lukas.'],\n",
       " ['Ingmar Bergman was a Swedish screenwriter and film director.',\n",
       "  'Erik Henrik Fredrik Bergman (22 October 1886 – 26 April 1970) was a Swedish parish minister of the Lutheran Church and the father of diplomat Dag Bergman, novelist Margareta Bergman, and film director Ingmar Bergman.',\n",
       "  'Ernst Ingmar Bergman (14 July 1918 – 30 July 2007) was a Swedish film and theatre director and screenwriter.']]"
      ]
     },
     "execution_count": 13,
     "metadata": {},
     "output_type": "execute_result"
    }
   ],
   "source": [
    "relevant_context[0]['context']"
   ]
  },
  {
   "cell_type": "markdown",
   "metadata": {},
   "source": [
    "### Generating Verifying Answers"
   ]
  },
  {
   "cell_type": "code",
   "execution_count": 2,
   "metadata": {},
   "outputs": [
    {
     "name": "stderr",
     "output_type": "stream",
     "text": [
      "/Library/Frameworks/Python.framework/Versions/3.12/lib/python3.12/site-packages/tqdm/auto.py:21: TqdmWarning: IProgress not found. Please update jupyter and ipywidgets. See https://ipywidgets.readthedocs.io/en/stable/user_install.html\n",
      "  from .autonotebook import tqdm as notebook_tqdm\n"
     ]
    }
   ],
   "source": [
    "from verifying_answers import _parse_args as verifying_answers_parse_args, test_few_shot_manual_prediction as verifying_answers_few_shot_manual_predicton"
   ]
  },
  {
   "cell_type": "code",
   "execution_count": 3,
   "metadata": {},
   "outputs": [
    {
     "data": {
      "text/plain": [
       "Namespace(engine='gpt-3.5-turbo-0125', style='e-p', annotation='std', run_prediction=False, num_distractor=2, num_shot=5, train_slice=0, num_dev=10, dev_slice=0, topk=2, show_result=False, model='gpt3', temperature=0.7, consistency_threshold=0.5, retrieval='wikipedia', helper=<prompt_helper.JointEandPPromptHelper object at 0x33dd1ffe0>, engine_name='gpt-3.5-turbo-0125')"
      ]
     },
     "execution_count": 3,
     "metadata": {},
     "output_type": "execute_result"
    }
   ],
   "source": [
    "verifying_answers_args = verifying_answers_parse_args()\n",
    "verifying_answers_args"
   ]
  },
  {
   "cell_type": "code",
   "execution_count": 4,
   "metadata": {},
   "outputs": [
    {
     "name": "stdout",
     "output_type": "stream",
     "text": [
      "Running prediction\n",
      "0 not found\n",
      "len(train_set):  5\n",
      "7 not found\n",
      "prompt:\n",
      "The film was released in 1984 by Essex Films. Kistimaat is a 2014 Bangladeshi action film directed by Ashiqur Rahman and produced by Tiger Media Limited and The Abhi Pictures. I'm Taraneh, 15 is a 2002 Iranian film directed by Rasul Sadrameli. The film was released on May 4, 2001.\n",
      "Question: When was the film Kistimaat released?\n",
      "Answer: The film Kistimaat was released in 2014.\n",
      "\n",
      "Dwaram Venkataswami Naidu and also a lyricist. The film has musical score by S. Hanumantha Rao. Rao died 27 May 1980. Rao married Raja Mani with whom he had three daughters and one son.\n",
      "Question: Who is the composer of film Baalaraajana Kathe?\n",
      "Answer: The composer of film Baalaraajana Kathe is S. Hanumantha Rao.\n",
      "\n",
      "Adib Kheir was a leading Syrian nationalist of the 1920s. Filmed on location in the Purcell Mountains in British Columbia, the film was directed by Frank Marshall, written by John Patrick Shanley, and narrated by John Malkovich. Frank Wilton Marshall( born September 13, 1946) is an American film producer and director, often working in collaboration with his wife, Kathleen Kennedy. He received the Irving G. Thalberg award from the Academy of Motion Picture Arts and Sciences in 2018.\n",
      "Question: Who is the director of film Alive (1993 Film)?\n",
      "Answer: The director of film Alive is Frank Marshall.\n",
      "\n",
      "a b\n",
      "Question: verifying_question\n",
      "Answer:\n"
     ]
    },
    {
     "name": "stderr",
     "output_type": "stream",
     "text": [
      "Verifying: 100%|██████████| 10/10 [00:00<00:00, 45491.37it/s]\n"
     ]
    },
    {
     "name": "stdout",
     "output_type": "stream",
     "text": [
      "running verifying answer generation\n"
     ]
    },
    {
     "name": "stderr",
     "output_type": "stream",
     "text": [
      "Verifying: 100%|██████████| 10/10 [00:03<00:00,  2.83it/s]"
     ]
    },
    {
     "name": "stdout",
     "output_type": "stream",
     "text": [
      "saved to:  misc/verifying_answers_tr0-5_dv0-10_wikipedia_thres0.5.json\n",
      "--------------28942dc20bdd11eba7f7acde48001122 EX 0.4 CONS--------------\n",
      "question:  Where did the director of film Temptation (1959 Film) die?\n",
      "rationale_sentence 0: the director of film Temptation (1959 Film) is Ingmar Bergman. \n",
      "verifying_question 0: Where did Ingmar Bergman, the director of the film Temptation (1959 Film), die?\n",
      "contexts 0: ['Filmography\\nNarrative\\nFilm\\nTelevision\\nDocumentary\\nSee also\\nList of stage productions directed by Ingmar Bergman\\n\\nReferences\\nGeneral\\n\"Ingmar Bergman: Films\".', 'Ingmar Bergman was a Swedish screenwriter and film director.', 'Temptation is a 1946 American film noir thriller film directed by Irving Pichel and starring Merle Oberon, George Brent, Charles Korvin and Paul Lukas.']\n",
      "verifying_answers 0: Ingmar Bergman, the director of the film Temptation (1959 Film), died in Sweden.\n",
      "rationale_sentence 1: Ingmar Bergman died in Fårö, Sweden.\n",
      "verifying_question 1: Where did Ingmar Bergman, the director of film Temptation (1959 Film), die?\n",
      "contexts 1: ['Ingmar Bergman was a Swedish screenwriter and film director.', 'Erik Henrik Fredrik Bergman (22 October 1886 – 26 April 1970) was a Swedish parish minister of the Lutheran Church and the father of diplomat Dag Bergman, novelist Margareta Bergman, and film director Ingmar Bergman.', 'Ernst Ingmar Bergman (14 July 1918 – 30 July 2007) was a Swedish film and theatre director and screenwriter.']\n",
      "verifying_answers 1: Ingmar Bergman, the director of film Temptation (1959 Film), died in Sweden.\n",
      "--------------6a8a71280bb011ebab90acde48001122 EX 0.4 CONS--------------\n",
      "question:  Who is the uncle of John Kennedy, 2Nd Lord Kennedy?\n",
      "rationale_sentence 0: John Kennedy, 2nd Lord Kennedy's uncle is David Kennedy, 1st Earl of Cassilis.\n",
      "verifying_question 0: Who is David Kennedy, 1st Earl of Cassilis related to in terms of family?\n",
      "contexts 0: [\"At least one Kennedy family member was serving in federal elective office in every year from 1947, when P. J. Kennedy's grandson John F. Kennedy became a member of Congress from Massachusetts, until 2011, when Patrick J. Kennedy II (John's nephew) retired as a member of the U.S.\", '1463–1513), Scottish peer\\nDavid Kennedy, 10th Earl of Cassilis (bef.', \"David Kennedy may refer to:\\n\\nArts and entertainment\\nDavid Kennedy (actor) (born 1964), British actor\\nDavid Kennedy (born 1988), British musician performing as Pearson Sound\\nDavid Kennedy (film producer) (1941–2015), American film producer\\nDavid Kennedy (singer) (1825–1886), Scottish minister and tenor\\nDavid J. Kennedy (painter) (1816/17–1898), Philadelphia painter\\nDavid Michael Kennedy (born 1950), American fine art photographer\\n\\nPoliticians and government\\nDavid Kennedy (Australian politician) (born 1940), politician and member of the Australian House of Representatives\\nDavid B. Kennedy (1933–2019), member of the Wyoming House of Representatives\\nDavid Kennedy (economist) (born 1969), British civil servant, formerly chief executive of the Committee on Climate Change\\nDavid J. Kennedy (politician) (1907–1995), Maine politician and pharmacist\\nDavid M. Kennedy (politician) (1905–1996), American businessman, economist and United States Secretary of the Treasury\\nDavid T. Kennedy (1934–2014), American politician, mayor of Miami\\n\\nScience and academics\\nDavid Kennedy (astronomer) (1864–1936), first New Zealand born Marist priest, noted astronomer and educator\\nDavid Kennedy (jurist) (born 1954), American legal academic, vice president of international affairs at Brown University\\nDavid L. Kennedy (born 1948), Scottish Roman archaeologist and historian at the University of Western Australia and the University of Oxford\\nDavid M. Kennedy (historian) (born 1941), Pulitzer Prize-winning historian and professor at Stanford\\nDavid M. Kennedy (criminologist) (born 1958), American criminologist, author of Don't Shoot\\n\\nSports\\nDavid Kennedy (hurler) (born 1976), Irish hurler\\nDavid Kennedy (racing driver) (born 1953), Irish racing driver\\nDave Kennedy (footballer) (born 1949), English footballer\\nDavid Kennedy (cricketer) (1890–1916), Scottish cricketer and soldier\\n\\nOther\\nDavid Kennedy (advertising) (1939–2021), American advertising executive, co-founder of the Wieden+Kennedy agency\\nDavid Kennedy, 1st Earl of Cassilis (aft.\"]\n",
      "verifying_answers 0: David Kennedy, 1st Earl of Cassilis is related to the Kennedy family.\n",
      "--------------9c4a7a4f090c11ebbdadac1f6bf848b6 EX 0.4 CONS--------------\n",
      "question:  Are the movies The Statement (Film) and A Self Made Hero, from the same country?\n",
      "rationale_sentence 0: The Statement (Film) is a film from France. \n",
      "verifying_question 0: What country is the film A Self Made Hero from?\n",
      "contexts 0: ['A Self-Made Hero (French: Un héros très discret) is a 1996 French film directed by Jacques Audiard.', 'Synopsis\\nThe film is presented in the style of a historical documentary, with an elderly Dehousse narrating the events of his life, interspersed with interviews with other characters and historians.', 'It is a satire of the action genre and associated clichés, containing several parodies of action films in the form of films within the film.']\n",
      "verifying_answers 0: The film A Self-Made Hero is from France.\n",
      "rationale_sentence 1: A Self Made Hero is also a film from France.\n",
      "verifying_question 1: What country is the film A Self Made Hero from?\n",
      "contexts 1: ['A Self-Made Hero (French: Un héros très discret) is a 1996 French film directed by Jacques Audiard.', 'A hero (feminine: heroine) is a real person or fictional character who, in the face of danger, combats adversity through feats of ingenuity, courage, or strength.', 'Post-classical and modern heroes, on the other hand, perform great deeds or selfless acts for the common good instead of the classical goal of wealth, pride, and fame.']\n",
      "verifying_answers 1: The film A Self-Made Hero is from France.\n"
     ]
    },
    {
     "name": "stderr",
     "output_type": "stream",
     "text": [
      "\n"
     ]
    }
   ],
   "source": [
    "verifying_answers_few_shot_manual_predicton(verifying_answers_args)"
   ]
  },
  {
   "cell_type": "markdown",
   "metadata": {},
   "source": [
    "### Answering Again"
   ]
  },
  {
   "cell_type": "code",
   "execution_count": 2,
   "metadata": {},
   "outputs": [
    {
     "name": "stderr",
     "output_type": "stream",
     "text": [
      "/Library/Frameworks/Python.framework/Versions/3.12/lib/python3.12/site-packages/tqdm/auto.py:21: TqdmWarning: IProgress not found. Please update jupyter and ipywidgets. See https://ipywidgets.readthedocs.io/en/stable/user_install.html\n",
      "  from .autonotebook import tqdm as notebook_tqdm\n"
     ]
    }
   ],
   "source": [
    "from answer_again import _parse_args as answer_again_parse_args, test_few_shot_manual_prediction as answer_again_test_few_shot_manual_prediction"
   ]
  },
  {
   "cell_type": "code",
   "execution_count": 3,
   "metadata": {},
   "outputs": [
    {
     "data": {
      "text/plain": [
       "Namespace(engine='gpt-3.5-turbo-0125', style='e-p', annotation='std', run_prediction=False, run_length_test=False, num_shot=5, train_slice=0, num_dev=10, dev_slice=0, topk=1, show_result=False, model='gpt3', temperature=0.7, consistency_threshold=0.5, retrieval='wikipedia', engine_name='gpt-3.5-turbo-0125', helper=<prompt_helper.JointEandPPromptHelper object at 0x346024950>)"
      ]
     },
     "execution_count": 3,
     "metadata": {},
     "output_type": "execute_result"
    }
   ],
   "source": [
    "answer_again_args =answer_again_parse_args()\n",
    "answer_again_args"
   ]
  },
  {
   "cell_type": "code",
   "execution_count": 4,
   "metadata": {},
   "outputs": [
    {
     "name": "stdout",
     "output_type": "stream",
     "text": [
      "Running prediction\n",
      "0 not found\n",
      "len(train_set):  5\n",
      "7 not found\n",
      "prompt:  Question: Which film was released earlier, Kistimaat or I'M Taraneh, 15?\n",
      "A: First, film Kistimaat was released on 6 October 2014. Second, I'M Taraneh, 15 was released on 13 November 2002. The answer is I'M Taraneh, 15.\n",
      "\n",
      "Question: What is the date of death of the composer of film Baalaraajana Kathe?\n",
      "A: First, the composer of film Baalaraajana Kathe is S. Hanumantha Rao. Second, S. Hanumantha Rao died on 27 May 1980. The answer is 27 May 1980.\n",
      "\n",
      "Question: Who is the spouse of the director of film Alive (1993 Film)?\n",
      "A: First, the director of film Alive is Frank Marshall. Second, Frank Marshall's spouse is Kathleen Kennedy. The answer is Kathleen Kennedy.\n",
      "\n",
      "Question: Who lived longer, Edward Frederick Sanderson or Forrest Towns?\n",
      "A: First, Edward Frederick Sanderson died at age 81. Second, Forrest Towns died at age 77. The answer is Edward Frederick Sanderson.\n",
      "\n",
      "Question: Which country the director of film Battle Circus (Film) is from?\n",
      "A: First, the director of film Battle Circus (Film) is Richard Brooks. Second, Richard Brooks was American. The answer is American.\n",
      "\n",
      "Question: Where was the performer of song Get A Life – Get Alive born?\n",
      "A: new_rationale\n",
      "reading from  misc/answering_again_tr0-5_dv0-10_thres0.5_wikipedia.json\n",
      "--------------28942dc20bdd11eba7f7acde48001122 EX False CONS 0.40--------------\n",
      "question:  Where did the director of film Temptation (1959 Film) die?\n",
      "original_rationale:  First, the director of film Temptation (1959 Film) is Ingmar Bergman. Second, Ingmar Bergman died in Fårö, Sweden.\n",
      "original_answer:  Fårö, Sweden\n",
      "rationale_sentence 0: the director of film Temptation (1959 Film) is Ingmar Bergman. \n",
      "verifying_question 0: Where did Ingmar Bergman, the director of the film Temptation (1959 Film), die?\n",
      "contexts 0: ['Filmography\\nNarrative\\nFilm\\nTelevision\\nDocumentary\\nSee also\\nList of stage productions directed by Ingmar Bergman\\n\\nReferences\\nGeneral\\n\"Ingmar Bergman: Films\".', 'Ingmar Bergman was a Swedish screenwriter and film director.', 'Temptation is a 1946 American film noir thriller film directed by Irving Pichel and starring Merle Oberon, George Brent, Charles Korvin and Paul Lukas.']\n",
      "verifying_answers 0: Ingmar Bergman, the director of the film Temptation (1959 Film), died in Sweden.\n",
      "rationale_sentence 1: Ingmar Bergman died in Fårö, Sweden.\n",
      "verifying_question 1: Where did Ingmar Bergman, the director of film Temptation (1959 Film), die?\n",
      "contexts 1: ['Ingmar Bergman was a Swedish screenwriter and film director.', 'Erik Henrik Fredrik Bergman (22 October 1886 – 26 April 1970) was a Swedish parish minister of the Lutheran Church and the father of diplomat Dag Bergman, novelist Margareta Bergman, and film director Ingmar Bergman.', 'Ernst Ingmar Bergman (14 July 1918 – 30 July 2007) was a Swedish film and theatre director and screenwriter.']\n",
      "verifying_answers 1: Ingmar Bergman, the director of film Temptation (1959 Film), died in Sweden.\n",
      "P RAT: First, Ingmar Bergman, the director of the film Temptation (1959 Film), died in Sweden. Second, Ingmar Bergman, the director of film Temptation (1959 Film), died in Sweden.\n",
      "P: The answer is Sweden. G: Nice\n",
      "--------------6a8a71280bb011ebab90acde48001122 EX False CONS 0.40--------------\n",
      "question:  Who is the uncle of John Kennedy, 2Nd Lord Kennedy?\n",
      "original_rationale:  First, John Kennedy, 2nd Lord Kennedy's uncle is David Kennedy, 1st Earl of Cassilis.\n",
      "original_answer:  David Kennedy, 1st Earl of Cassilis\n",
      "rationale_sentence 0: John Kennedy, 2nd Lord Kennedy's uncle is David Kennedy, 1st Earl of Cassilis.\n",
      "verifying_question 0: Who is David Kennedy, 1st Earl of Cassilis related to in terms of family?\n",
      "contexts 0: [\"At least one Kennedy family member was serving in federal elective office in every year from 1947, when P. J. Kennedy's grandson John F. Kennedy became a member of Congress from Massachusetts, until 2011, when Patrick J. Kennedy II (John's nephew) retired as a member of the U.S.\", '1463–1513), Scottish peer\\nDavid Kennedy, 10th Earl of Cassilis (bef.', \"David Kennedy may refer to:\\n\\nArts and entertainment\\nDavid Kennedy (actor) (born 1964), British actor\\nDavid Kennedy (born 1988), British musician performing as Pearson Sound\\nDavid Kennedy (film producer) (1941–2015), American film producer\\nDavid Kennedy (singer) (1825–1886), Scottish minister and tenor\\nDavid J. Kennedy (painter) (1816/17–1898), Philadelphia painter\\nDavid Michael Kennedy (born 1950), American fine art photographer\\n\\nPoliticians and government\\nDavid Kennedy (Australian politician) (born 1940), politician and member of the Australian House of Representatives\\nDavid B. Kennedy (1933–2019), member of the Wyoming House of Representatives\\nDavid Kennedy (economist) (born 1969), British civil servant, formerly chief executive of the Committee on Climate Change\\nDavid J. Kennedy (politician) (1907–1995), Maine politician and pharmacist\\nDavid M. Kennedy (politician) (1905–1996), American businessman, economist and United States Secretary of the Treasury\\nDavid T. Kennedy (1934–2014), American politician, mayor of Miami\\n\\nScience and academics\\nDavid Kennedy (astronomer) (1864–1936), first New Zealand born Marist priest, noted astronomer and educator\\nDavid Kennedy (jurist) (born 1954), American legal academic, vice president of international affairs at Brown University\\nDavid L. Kennedy (born 1948), Scottish Roman archaeologist and historian at the University of Western Australia and the University of Oxford\\nDavid M. Kennedy (historian) (born 1941), Pulitzer Prize-winning historian and professor at Stanford\\nDavid M. Kennedy (criminologist) (born 1958), American criminologist, author of Don't Shoot\\n\\nSports\\nDavid Kennedy (hurler) (born 1976), Irish hurler\\nDavid Kennedy (racing driver) (born 1953), Irish racing driver\\nDave Kennedy (footballer) (born 1949), English footballer\\nDavid Kennedy (cricketer) (1890–1916), Scottish cricketer and soldier\\n\\nOther\\nDavid Kennedy (advertising) (1939–2021), American advertising executive, co-founder of the Wieden+Kennedy agency\\nDavid Kennedy, 1st Earl of Cassilis (aft.\"]\n",
      "verifying_answers 0: David Kennedy, 1st Earl of Cassilis is related to the Kennedy family.\n",
      "P RAT: First, David Kennedy, 1st Earl of Cassilis is related to the Kennedy family.\n",
      "P:  Second, David Kennedy, 1st Earl of Cassilis is the uncle of John Kennedy, 2nd Lord Kennedy. The answer is David Kennedy, 1st Earl of Cassilis. G: James Kennedy\n",
      "--------------9c4a7a4f090c11ebbdadac1f6bf848b6 EX False CONS 0.40--------------\n",
      "question:  Are the movies The Statement (Film) and A Self Made Hero, from the same country?\n",
      "original_rationale:  First, The Statement (Film) is a film from France. Second, A Self Made Hero is also a film from France.\n",
      "original_answer:  yes, both movies are from the same country, France\n",
      "rationale_sentence 0: The Statement (Film) is a film from France. \n",
      "verifying_question 0: What country is the film A Self Made Hero from?\n",
      "contexts 0: ['A Self-Made Hero (French: Un héros très discret) is a 1996 French film directed by Jacques Audiard.', 'Synopsis\\nThe film is presented in the style of a historical documentary, with an elderly Dehousse narrating the events of his life, interspersed with interviews with other characters and historians.', 'It is a satire of the action genre and associated clichés, containing several parodies of action films in the form of films within the film.']\n",
      "verifying_answers 0: The film A Self-Made Hero is from France.\n",
      "rationale_sentence 1: A Self Made Hero is also a film from France.\n",
      "verifying_question 1: What country is the film A Self Made Hero from?\n",
      "contexts 1: ['A Self-Made Hero (French: Un héros très discret) is a 1996 French film directed by Jacques Audiard.', 'A hero (feminine: heroine) is a real person or fictional character who, in the face of danger, combats adversity through feats of ingenuity, courage, or strength.', 'Post-classical and modern heroes, on the other hand, perform great deeds or selfless acts for the common good instead of the classical goal of wealth, pride, and fame.']\n",
      "verifying_answers 1: The film A Self-Made Hero is from France.\n",
      "P RAT: First, The film A Self-Made Hero is from France. Second, The film A Self-Made Hero is from France.\n",
      "P: The answer is yes, both The Statement and A Self-Made Hero are from France. G: yes\n",
      "EDITED 3 OUT OF 10\n",
      "Edited 0 correctly and 0 falsely\n",
      "EX 0.1 RAT 0.0\n",
      "F1: 0.17 PR: 0.15 RE: 0.25\n"
     ]
    }
   ],
   "source": [
    "answer_again_test_few_shot_manual_prediction(answer_again_args)"
   ]
  },
  {
   "cell_type": "code",
   "execution_count": null,
   "metadata": {},
   "outputs": [],
   "source": []
  }
 ],
 "metadata": {
  "kernelspec": {
   "display_name": "Python 3",
   "language": "python",
   "name": "python3"
  },
  "language_info": {
   "codemirror_mode": {
    "name": "ipython",
    "version": 3
   },
   "file_extension": ".py",
   "mimetype": "text/x-python",
   "name": "python",
   "nbconvert_exporter": "python",
   "pygments_lexer": "ipython3",
   "version": "3.12.7"
  }
 },
 "nbformat": 4,
 "nbformat_minor": 2
}
