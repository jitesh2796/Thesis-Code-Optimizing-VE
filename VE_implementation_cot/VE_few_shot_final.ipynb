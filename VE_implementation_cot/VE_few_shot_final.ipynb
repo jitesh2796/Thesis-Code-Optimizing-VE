{
 "cells": [
  {
   "cell_type": "markdown",
   "metadata": {},
   "source": [
    "### Module 0: Importing Libraries"
   ]
  },
  {
   "cell_type": "code",
   "execution_count": 1,
   "metadata": {},
   "outputs": [],
   "source": [
    "import pandas as pd\n",
    "import numpy as np\n",
    "import pprint\n",
    "import os \n",
    "from time import time \n",
    "from dotenv import load_dotenv\n",
    "import json\n",
    "import argparse\n",
    "from tqdm import tqdm\n",
    "import numpy as np\n",
    "import matplotlib.pyplot as plt\n",
    "import seaborn as sns\n",
    "\n",
    "from openai import OpenAI\n",
    "import certifi\n",
    "\n",
    "## Importing VE libraries\n",
    "from utils import *\n",
    "from dataset_utils import read_wikiqa_data\n",
    "from prompt_helper import get_joint_prompt_helper, normalize_prediction\n",
    "from dataset_utils import read_wikiqa_data, wiki_evaluation"
   ]
  },
  {
   "cell_type": "code",
   "execution_count": 2,
   "metadata": {},
   "outputs": [
    {
     "data": {
      "text/plain": [
       "True"
      ]
     },
     "execution_count": 2,
     "metadata": {},
     "output_type": "execute_result"
    }
   ],
   "source": [
    "# Override bad SSL_CERT_FILE if set\n",
    "os.environ[\"SSL_CERT_FILE\"] = certifi.where()\n",
    "\n",
    "load_dotenv()"
   ]
  },
  {
   "cell_type": "code",
   "execution_count": 3,
   "metadata": {},
   "outputs": [],
   "source": [
    "client = OpenAI()"
   ]
  },
  {
   "cell_type": "markdown",
   "metadata": {},
   "source": [
    "### Module 1: Answer Generation VE"
   ]
  },
  {
   "cell_type": "code",
   "execution_count": 67,
   "metadata": {},
   "outputs": [],
   "source": [
    "# Defining args parameter\n",
    "args = argparse.Namespace(\n",
    "    # style=\"standard\", # used for few shot\n",
    "    style =\"e-p\", # used for consistency\n",
    "    annotation=\"std\",\n",
    "    run_prediction=False,\n",
    "    run_length_test=False,\n",
    "    num_shot=5,\n",
    "    train_slice=0,\n",
    "    num_dev=5, # Test 10 instance, increase it later\n",
    "    dev_slice=0,\n",
    "    show_result=False,\n",
    "    model=\"gpt3.5\",\n",
    "    show_prompt=False,\n",
    "    temperature =0.7,\n",
    "    engine = \"gpt-3.5-turbo-0125\",\n",
    "\n",
    ")\n",
    "\n",
    "# print(args)\n",
    "if args.style == \"e-p\":\n",
    "    args.helper = get_joint_prompt_helper(args.style)"
   ]
  },
  {
   "cell_type": "code",
   "execution_count": 62,
   "metadata": {},
   "outputs": [],
   "source": [
    "def result_cache_name(args):\n",
    "    return \"misc/consistency_tr{}-{}_dv{}-{}_predictions_temp_{}.json\".format(\n",
    "        args.train_slice, args.train_slice + args.num_shot, args.dev_slice, args.num_dev,\n",
    "        args.temperature)"
   ]
  },
  {
   "cell_type": "code",
   "execution_count": 11,
   "metadata": {},
   "outputs": [],
   "source": [
    "# def in_context_prediction(ex, shots, engine, style=\"standard\", length_test_only=False, n=1):\n",
    "\n",
    "#     if style == \"standard\":\n",
    "#         showcase_examples = [\n",
    "#             \"Q: {}\\nA: {}\\n\".format(s[\"question\"], s[\"answer\"]) for s in shots\n",
    "#         ]\n",
    "#         input_example = \"Q: {}\\nA:\".format(ex[\"question\"])\n",
    "#         prompt = \"\\n\".join(showcase_examples + [input_example])\n",
    "#     else:\n",
    "#         raise RuntimeError(\"Unsupported prompt style\")\n",
    "    \n",
    "#     temp = 0.7 if n > 1 else 0.0\n",
    "#     pred = {}\n",
    "#     responses = []\n",
    "#     completion = client.chat.completions.create(\n",
    "#         messages=[\n",
    "#             {\n",
    "#                 \"role\": \"user\",\n",
    "#                 \"content\": prompt\n",
    "#             }\n",
    "#         ],\n",
    "#         model=engine,\n",
    "#         n= n,\n",
    "#         temperature= temp\n",
    "#     )\n",
    "#     for choice in completion.choices:\n",
    "#         responses.append(choice.message.content)\n",
    "\n",
    "#     pred[\"responses\"] = responses\n",
    "#     pred[\"id\"] = ex[\"id\"]\n",
    "#     pred[\"question\"] = ex[\"question\"]\n",
    "#     pred[\"answer\"] = ex[\"answer\"]\n",
    "#     return pred"
   ]
  },
  {
   "cell_type": "code",
   "execution_count": 38,
   "metadata": {},
   "outputs": [],
   "source": [
    "# def test_few_shot_performance(args):\n",
    "#     print(\"Running prediction\")\n",
    "#     train_set = read_wikiqa_data(f\"data/train_subset.json\")\n",
    "#     train_set = train_set[args.train_slice:(args.train_slice + args.num_shot)]\n",
    "#     dev_set = read_wikiqa_data(f\"data/dev_sampled.json\")\n",
    "#     dev_set = dev_set[args.dev_slice:(args.num_dev)]\n",
    "\n",
    "#     showcase_examples = [\n",
    "#         \"Q: {}\\nA: {}\\n\".format(s[\"question\"], s[\"answer\"]) for s in train_set\n",
    "#     ]\n",
    "#     prompt = \"\\n\".join(showcase_examples)\n",
    "\n",
    "#     predictions = []\n",
    "#     for x in tqdm(dev_set, total=len(dev_set), desc=\"Predicting\"):\n",
    "#         pred = in_context_prediction(x, train_set, engine=args.engine, \\\n",
    "#             style=\"standard\", length_test_only=args.run_length_test, n = args.num_shot)\n",
    "#         if pred == None:\n",
    "#             args.num_dev = len(predictions)\n",
    "#             break\n",
    "#         else:\n",
    "#             predictions.append(pred)\n",
    "\n",
    "#     return predictions\n",
    "    "
   ]
  },
  {
   "cell_type": "code",
   "execution_count": 39,
   "metadata": {},
   "outputs": [],
   "source": [
    "# predictions = test_few_shot_performance(args)"
   ]
  },
  {
   "cell_type": "markdown",
   "metadata": {},
   "source": [
    "### Module: COT Prediction"
   ]
  },
  {
   "cell_type": "code",
   "execution_count": 15,
   "metadata": {},
   "outputs": [],
   "source": [
    "def in_context_manual_prediction(ex, training_data, engine, prompt_helper, length_test_only=False, n= 1):\n",
    "    prompt, stop_signal = prompt_helper.prompt_for_joint_prediction(ex, training_data)\n",
    "\n",
    "    temp = 0.7 if n > 1 else 0.0\n",
    "    pred = {}\n",
    "    responses = []\n",
    "    completion = client.chat.completions.create(\n",
    "        messages=[\n",
    "            {\n",
    "                \"role\": \"user\",\n",
    "                \"content\": prompt\n",
    "            }\n",
    "        ],\n",
    "        model=engine,\n",
    "        n= n,\n",
    "        temperature= temp\n",
    "    )\n",
    "    for choice in completion.choices:\n",
    "        responses.append(choice.message.content)\n",
    "\n",
    "    pred[\"responses\"] = responses\n",
    "    pred[\"id\"] = ex[\"id\"]\n",
    "    pred[\"question\"] = ex[\"question\"]\n",
    "    pred[\"answer\"] = ex[\"answer\"]\n",
    "\n",
    "    return pred"
   ]
  },
  {
   "cell_type": "code",
   "execution_count": 40,
   "metadata": {},
   "outputs": [],
   "source": [
    "# def test_few_shot_manual_prediction(args):\n",
    "#     print(\"Running prediction\")\n",
    "#     train_set = read_wikiqa_data(f\"data/train_subset.json\", manual_annotation_style=args.style)\n",
    "#     train_set = train_set[args.train_slice:(args.train_slice + args.num_shot)]\n",
    "#     print('len(train_set): ', len(train_set))\n",
    "#     dev_set = read_wikiqa_data(f\"data/dev_sampled.json\")\n",
    "#     dev_set = dev_set[args.dev_slice:(args.num_dev)]\n",
    "\n",
    "#     prompt, _ = args.helper.prompt_for_joint_prediction(dev_set[0], train_set)\n",
    "#     # print('prompt: ')\n",
    "#     # print(prompt)\n",
    "\n",
    "#     predictions = []    \n",
    "#     for i, x in enumerate(tqdm(dev_set, total=len(dev_set), desc=\"Predicting\")):\n",
    "#         pred = in_context_manual_prediction(x, train_set, engine=args.engine, prompt_helper=args.helper, length_test_only=args.run_length_test, n = args.num_shot)\n",
    "#         if pred != None:\n",
    "#             predictions.append(pred)\n",
    "#         else:\n",
    "#             print('ENDING EARLY')\n",
    "#             args.num_dev = i + args.dev_slice\n",
    "#             # dump_json(predictions, result_cache_name(args))\n",
    "#             raise Exception('end')\n",
    "    \n",
    "#     return predictions"
   ]
  },
  {
   "cell_type": "code",
   "execution_count": 41,
   "metadata": {},
   "outputs": [],
   "source": [
    "# predictions = test_few_shot_manual_prediction(args)"
   ]
  },
  {
   "cell_type": "code",
   "execution_count": 18,
   "metadata": {},
   "outputs": [
    {
     "data": {
      "text/plain": [
       "[{'responses': ['First, the performer of the song Get A Life - Get Alive is Bryan Adams. Second, Bryan Adams was born in Kingston, Ontario, Canada. The answer is Kingston, Ontario, Canada.',\n",
       "   'First, the performer of the song Get A Life - Get Alive is Soul II Soul. Second, Soul II Soul was formed in London, England. The answer is London, England.',\n",
       "   'First, the performer of the song Get A Life - Get Alive is Sasha Lazard. Second, Sasha Lazard was born in New York City, New York, USA. The answer is New York City, New York, USA.',\n",
       "   'First, the performer of the song Get A Life - Get Alive is Ian Gillan. Second, Ian Gillan was born in Hounslow, London, England. The answer is Hounslow, London, England.',\n",
       "   ' First, the performer of the song Get A Life - Get Alive is Soul II Soul. Second, Soul II Soul was formed in London, England. The answer is London, England.'],\n",
       "  'id': '1ee47f380bde11eba7f7acde48001122',\n",
       "  'question': 'Where was the performer of song Get A Life – Get Alive born?',\n",
       "  'answer': 'Vöcklabruck'},\n",
       " {'responses': ['First, the director of film Don Juan (1922 Film) is Alan Crosland. Second, Alan Crosland died in Hollywood, California, United States. The answer is Hollywood, California, United States.',\n",
       "   'First, the director of film Don Juan (1922 Film) is Alan Crosland. Second, Alan Crosland died in Hollywood, California, United States. The answer is Hollywood, California, United States.',\n",
       "   'First, the director of film Don Juan (1922 Film) is Alan Crosland. Second, Alan Crosland died in Hollywood, California, USA. The answer is Hollywood, California, USA.',\n",
       "   'First, the director of film Don Juan (1922 Film) is Alan Crosland. Second, Alan Crosland died in Hollywood, California, United States. The answer is Hollywood, California, United States.',\n",
       "   'First, the director of film Don Juan (1922 Film) is Alan Crosland. Second, Alan Crosland died in Hollywood, California, USA. The answer is Hollywood, California, USA.'],\n",
       "  'id': '49eb87280bdc11eba7f7acde48001122',\n",
       "  'question': 'Where did the director of film Don Juan (1922 Film) die?',\n",
       "  'answer': 'Westerland'}]"
      ]
     },
     "execution_count": 18,
     "metadata": {},
     "output_type": "execute_result"
    }
   ],
   "source": [
    "predictions"
   ]
  },
  {
   "cell_type": "markdown",
   "metadata": {},
   "source": [
    "### Module 2: Evaluating Few Shot performance\n",
    "\n",
    "Note: Still in progress"
   ]
  },
  {
   "cell_type": "code",
   "execution_count": 42,
   "metadata": {},
   "outputs": [],
   "source": [
    "# def evaluate_few_shot_predictions(dev_set, predictions, do_print=False):\n",
    "#     acc_records = []    \n",
    "#     f1_records, pre_records, rec_records = [], [], []\n",
    "#     logprob_records = []\n",
    "    \n",
    "#     for idx, (ex, pred) in enumerate(zip(dev_set, predictions)):\n",
    "#         p_ans = pred['text'].lstrip()\n",
    "#         acc, (f1, pre, rec), gt_ans = wiki_evaluation(p_ans, ex[\"answer\"])\n",
    "#         acc_records.append(acc)                \n",
    "#         f1_records.append(f1), pre_records.append(pre), rec_records.append(rec)\n",
    "#         if 'answer_prob' in pred:\n",
    "#             logprob_records.append(pred['answer_prob'])\n",
    "#         if do_print and not acc:\n",
    "#             print(\"--------------{} EX {} F1 {:.2f}--------------\".format(idx, acc, f1))\n",
    "#             print(ex['question'])\n",
    "#             print('PR ANS:', p_ans)            \n",
    "#             print('GT ANS:', gt_ans)            \n",
    "#             print(json.dumps({'qas_id': ex['id'], 'answer': p_ans}))\n",
    "\n",
    "#     mean_of_array = lambda x: sum(x) / len(x)\n",
    "#     print(\"EX\", mean_of_array(acc_records))\n",
    "#     print(\"F1: {:.2f}\".format(mean_of_array(f1_records)), \n",
    "#             \"PR: {:.2f}\".format(mean_of_array(pre_records)),\n",
    "#             \"RE: {:.2f}\".format(mean_of_array(rec_records)))\n",
    "#     print(\"Acc-Cov AUC: {:.2f}\".format(f1auc_score(\n",
    "#             logprob_records, acc_records)))"
   ]
  },
  {
   "cell_type": "markdown",
   "metadata": {},
   "source": [
    "### Module 3: Calculting Consistency"
   ]
  },
  {
   "cell_type": "code",
   "execution_count": 20,
   "metadata": {},
   "outputs": [
    {
     "data": {
      "text/plain": [
       "2"
      ]
     },
     "execution_count": 20,
     "metadata": {},
     "output_type": "execute_result"
    }
   ],
   "source": [
    "len(predictions)"
   ]
  },
  {
   "cell_type": "code",
   "execution_count": 21,
   "metadata": {},
   "outputs": [
    {
     "data": {
      "text/plain": [
       "{'responses': ['First, the performer of the song Get A Life - Get Alive is Bryan Adams. Second, Bryan Adams was born in Kingston, Ontario, Canada. The answer is Kingston, Ontario, Canada.',\n",
       "  'First, the performer of the song Get A Life - Get Alive is Soul II Soul. Second, Soul II Soul was formed in London, England. The answer is London, England.',\n",
       "  'First, the performer of the song Get A Life - Get Alive is Sasha Lazard. Second, Sasha Lazard was born in New York City, New York, USA. The answer is New York City, New York, USA.',\n",
       "  'First, the performer of the song Get A Life - Get Alive is Ian Gillan. Second, Ian Gillan was born in Hounslow, London, England. The answer is Hounslow, London, England.',\n",
       "  ' First, the performer of the song Get A Life - Get Alive is Soul II Soul. Second, Soul II Soul was formed in London, England. The answer is London, England.'],\n",
       " 'id': '1ee47f380bde11eba7f7acde48001122',\n",
       " 'question': 'Where was the performer of song Get A Life – Get Alive born?',\n",
       " 'answer': 'Vöcklabruck'}"
      ]
     },
     "execution_count": 21,
     "metadata": {},
     "output_type": "execute_result"
    }
   ],
   "source": [
    "p = predictions[0]\n",
    "p"
   ]
  },
  {
   "cell_type": "code",
   "execution_count": 22,
   "metadata": {},
   "outputs": [],
   "source": [
    "answers, rationales = [], []\n",
    "for choice in p['responses']:\n",
    "    # first split the rationales\n",
    "    answer, rationale = args.helper.post_process_prediction(choice, change_rationale = False)\n",
    "    answers.append(answer)\n",
    "    rationales.append(rationale)"
   ]
  },
  {
   "cell_type": "code",
   "execution_count": 23,
   "metadata": {},
   "outputs": [
    {
     "data": {
      "text/plain": [
       "(['Kingston, Ontario, Canada',\n",
       "  'London, England',\n",
       "  'New York City, New York, USA',\n",
       "  'Hounslow, London, England',\n",
       "  'London, England'],\n",
       " ['First, the performer of the song Get A Life - Get Alive is Bryan Adams. Second, Bryan Adams was born in Kingston, Ontario, Canada.',\n",
       "  'First, the performer of the song Get A Life - Get Alive is Soul II Soul. Second, Soul II Soul was formed in London, England.',\n",
       "  'First, the performer of the song Get A Life - Get Alive is Sasha Lazard. Second, Sasha Lazard was born in New York City, New York, USA.',\n",
       "  'First, the performer of the song Get A Life - Get Alive is Ian Gillan. Second, Ian Gillan was born in Hounslow, London, England.',\n",
       "  'First, the performer of the song Get A Life - Get Alive is Soul II Soul. Second, Soul II Soul was formed in London, England.'])"
      ]
     },
     "execution_count": 23,
     "metadata": {},
     "output_type": "execute_result"
    }
   ],
   "source": [
    "answers, rationales"
   ]
  },
  {
   "cell_type": "code",
   "execution_count": 24,
   "metadata": {},
   "outputs": [],
   "source": [
    "def consistency(answers, rationales, predictions):\n",
    "    answer_probs = {}\n",
    "    # answer_prob_lists = {}\n",
    "    choices = predictions['responses']\n",
    "    for i, ans in enumerate(answers):\n",
    "        # logprobs = np.array(choices[i]['logprobs']['token_logprobs'][prompt_tokens:])\n",
    "        # prob = np.exp(np.mean(logprobs))\n",
    "        if ans in answer_probs.keys():\n",
    "            # answer_prob_lists[ans].append((i, prob))\n",
    "            answer_probs[ans] += 1\n",
    "        else:\n",
    "            # answer_prob_lists[ans] = [(i, prob)]\n",
    "            answer_probs[ans] = 1\n",
    "    consistency = max(list(answer_probs.values()))/5\n",
    "    final_aggregated_answer = sorted(answer_probs.items(), key=lambda item: item[1], reverse=True)[0][0]\n",
    "    best_i = list(answer_probs.keys()).index(final_aggregated_answer)\n",
    "    # prob_list = answer_prob_lists[final_aggregated_answer]\n",
    "    # best_i = prob_list[np.argmax([a[1] for a in prob_list])][0]\n",
    "    final_aggregated_rationale = rationales[best_i]\n",
    "    return consistency, final_aggregated_answer, final_aggregated_rationale, best_i\n",
    "    # return consistency, final_aggregated_answer"
   ]
  },
  {
   "cell_type": "code",
   "execution_count": 25,
   "metadata": {},
   "outputs": [],
   "source": [
    "con, best_answer, best_rationale, best_i= consistency(answers, rationales, p)"
   ]
  },
  {
   "cell_type": "code",
   "execution_count": 47,
   "metadata": {},
   "outputs": [],
   "source": [
    "def post_process_consistency(ex, p, args):\n",
    "    answers, rationales = [], []\n",
    "    for choice in p['responses']:\n",
    "        # first split the rationales\n",
    "        answer, rationale = args.helper.post_process_prediction(choice, change_rationale = False)\n",
    "        answers.append(answer)\n",
    "        rationales.append(rationale)\n",
    "    # prompt_tokens = p['usage']['prompt_tokens']\n",
    "    con, best_answer, best_rationale, best_i = consistency(answers, rationales, p)\n",
    "    # new_p = p['choices'][best_i]\n",
    "    new_p = {'response': p['responses'][best_i]}\n",
    "    new_p['id'] = ex['id']\n",
    "    new_p['consistency'] = con\n",
    "    new_p['rationale'] = best_rationale\n",
    "    new_p['answer'] = best_answer\n",
    "    new_p['original_answers'] = answers\n",
    "    new_p['original_rationales'] = rationales\n",
    "    return con, new_p"
   ]
  },
  {
   "cell_type": "code",
   "execution_count": 27,
   "metadata": {},
   "outputs": [
    {
     "data": {
      "text/plain": [
       "{'response': 'First, the performer of the song Get A Life - Get Alive is Soul II Soul. Second, Soul II Soul was formed in London, England. The answer is London, England.',\n",
       " 'consistency': 0.4,\n",
       " 'original_best_rationale': 'First, the performer of the song Get A Life - Get Alive is Soul II Soul. Second, Soul II Soul was formed in London, England.',\n",
       " 'original_best_answer': 'London, England',\n",
       " 'original_answers': ['Kingston, Ontario, Canada',\n",
       "  'London, England',\n",
       "  'New York City, New York, USA',\n",
       "  'Hounslow, London, England',\n",
       "  'London, England'],\n",
       " 'original_rationales': ['First, the performer of the song Get A Life - Get Alive is Bryan Adams. Second, Bryan Adams was born in Kingston, Ontario, Canada.',\n",
       "  'First, the performer of the song Get A Life - Get Alive is Soul II Soul. Second, Soul II Soul was formed in London, England.',\n",
       "  'First, the performer of the song Get A Life - Get Alive is Sasha Lazard. Second, Sasha Lazard was born in New York City, New York, USA.',\n",
       "  'First, the performer of the song Get A Life - Get Alive is Ian Gillan. Second, Ian Gillan was born in Hounslow, London, England.',\n",
       "  'First, the performer of the song Get A Life - Get Alive is Soul II Soul. Second, Soul II Soul was formed in London, England.']}"
      ]
     },
     "execution_count": 27,
     "metadata": {},
     "output_type": "execute_result"
    }
   ],
   "source": [
    "new_p"
   ]
  },
  {
   "cell_type": "code",
   "execution_count": 28,
   "metadata": {},
   "outputs": [],
   "source": [
    "p_ans = 'Nellore, Andhra Pradesh, India'\n",
    "ex_ans = 'Vöcklabruck'"
   ]
  },
  {
   "cell_type": "code",
   "execution_count": 29,
   "metadata": {},
   "outputs": [
    {
     "data": {
      "text/plain": [
       "(False, (0, 0, 0), 'Vöcklabruck')"
      ]
     },
     "execution_count": 29,
     "metadata": {},
     "output_type": "execute_result"
    }
   ],
   "source": [
    "wiki_evaluation(p_ans, ex_ans)"
   ]
  },
  {
   "cell_type": "code",
   "execution_count": 9,
   "metadata": {},
   "outputs": [],
   "source": [
    "def evaluate_manual_predictions(dev_set, predictions, style=\"p-e\", do_print=False):\n",
    "    acc_records = []\n",
    "    rat_records = []\n",
    "    f1_records, pre_records, rec_records = [], [], []\n",
    "    # logprob_records = []\n",
    "    # ansprob_records = []\n",
    "\n",
    "    true_cons = []\n",
    "    false_cons = []\n",
    "    for idx, (ex, pred) in enumerate(zip(dev_set, predictions)):\n",
    "        p_ans = pred['answer']\n",
    "        p_rat = pred['rationale']\n",
    "        acc, (f1, pre, rec), gt_ans = wiki_evaluation(p_ans, ex[\"answer\"])\n",
    "        acc_records.append(acc)\n",
    "        rat_acc = False\n",
    "        rat_records.append(rat_acc)\n",
    "        f1_records.append(f1), pre_records.append(pre), rec_records.append(rec)\n",
    "        # logprob_records.append(pred['joint_lobprob'])\n",
    "        # ansprob_records.append(pred['answer_logprob'])\n",
    "        if acc:\n",
    "            true_cons.append(pred['consistency'])\n",
    "        else:\n",
    "            false_cons.append(pred['consistency'])\n",
    "\n",
    "        if do_print:\n",
    "            print(\"--------------{} EX {} RAT {} F1 {:.2f} CONS {:.2f}--------------\".format(idx, acc, rat_acc, f1, pred['consistency']))\n",
    "            print('question: ', ex['question'])\n",
    "            for (i, answer) in enumerate(pred['original_answers']):\n",
    "                rat = pred['original_rationales'][i]\n",
    "                print(f'{i}: {rat} | {answer}')\n",
    "            print('PR ANS:', p_ans)\n",
    "            print('PR RAT:', p_rat)\n",
    "            print('GT ANS:', gt_ans)\n",
    "            print(json.dumps({'qas_id': ex['id'], 'answer': p_ans}))\n",
    "\n",
    "    mean_of_array = lambda x: sum(x) / len(x)\n",
    "    print(\"EX\", mean_of_array(acc_records), \"RAT\", mean_of_array(rat_records))\n",
    "    print(\"F1: {:.2f}\".format(mean_of_array(f1_records)), \n",
    "            \"PR: {:.2f}\".format(mean_of_array(pre_records)),\n",
    "            \"RE: {:.2f}\".format(mean_of_array(rec_records)))\n",
    "    # print(\"Acc-Cov AUC: {:.2f}\".format(f1auc_score(\n",
    "    #         ansprob_records, acc_records)))\n",
    "    \n",
    "    cons = true_cons + false_cons\n",
    "    print('consistencies: mean {} and std {}'.format(np.mean(cons), np.std(cons)))\n",
    "    \n",
    "    print('consistencies for true predictions: mean {} and std {}'.format(np.mean(true_cons), np.std(true_cons)))\n",
    "    print('consistencies for false predictions: mean {} and std {}'.format(np.mean(false_cons), np.std(false_cons)))\n",
    "    return true_cons, false_cons"
   ]
  },
  {
   "cell_type": "code",
   "execution_count": 45,
   "metadata": {},
   "outputs": [],
   "source": [
    "### Final Function to use predictions for consistency\n",
    "\n",
    "def test_few_shot_manual_prediction(args):\n",
    "    print(\"Running prediction\")\n",
    "    train_set = read_wikiqa_data(f\"data/train_subset.json\", manual_annotation_style=args.style)\n",
    "    train_set = train_set[args.train_slice:(args.train_slice + args.num_shot)]\n",
    "    print('len(train_set): ', len(train_set))\n",
    "    dev_set = read_wikiqa_data(f\"data/dev_sampled.json\")\n",
    "    dev_set = dev_set[args.dev_slice:(args.num_dev)]\n",
    "\n",
    "    prompt, _ = args.helper.prompt_for_joint_prediction(dev_set[0], train_set)\n",
    "    # print('prompt: ')\n",
    "    # print(prompt)\n",
    "\n",
    "\n",
    "    predictions = []    \n",
    "    for x in tqdm(dev_set, total=len(dev_set), desc=\"Predicting\"):\n",
    "        pred = in_context_manual_prediction(x, train_set, engine=args.engine, prompt_helper=args.helper, length_test_only=args.run_length_test, n = args.num_shot)\n",
    "        if pred != None:\n",
    "            predictions.append(pred)\n",
    "        else: #error, ending early\n",
    "            args.num_dev = len(predictions) + args.dev_slice\n",
    "            break\n",
    "            \n",
    "        # # save\n",
    "        # dump_json(predictions, result_cache_name(args))   \n",
    "    \n",
    "    new_predictions, cons = [], []\n",
    "    for i, p in enumerate(tqdm(predictions, total=len(predictions), desc=\"Verifying\")):\n",
    "        ex = dev_set[i]\n",
    "        con, new_p = post_process_consistency(ex, p, args)\n",
    "        cons.append(con)\n",
    "        new_predictions.append(new_p)\n",
    "    predictions = new_predictions \n",
    "\n",
    "    # true_cons, false_cons = evaluate_manual_predictions(dev_set, predictions, args.style, do_print=True)\n",
    "    # print(result_cache_name(args))\n",
    "    return predictions\n",
    "    # return predictions, true_cons, false_cons"
   ]
  },
  {
   "cell_type": "code",
   "execution_count": 46,
   "metadata": {},
   "outputs": [
    {
     "name": "stdout",
     "output_type": "stream",
     "text": [
      "Running prediction\n",
      "0 not found\n",
      "len(train_set):  5\n",
      "7 not found\n"
     ]
    },
    {
     "name": "stderr",
     "output_type": "stream",
     "text": [
      "Predicting: 100%|██████████| 2/2 [00:01<00:00,  1.14it/s]\n",
      "Verifying: 100%|██████████| 2/2 [00:00<00:00, 14488.10it/s]\n"
     ]
    },
    {
     "data": {
      "text/plain": [
       "[{'response': 'First, the performer of the song Get A Life - Get Alive is Soul II Soul. Second, Soul II Soul was formed in London, England. The answer is England.',\n",
       "  'id': '1ee47f380bde11eba7f7acde48001122',\n",
       "  'consistency': 0.4,\n",
       "  'original_best_rationale': 'First, the performer of the song Get A Life - Get Alive is Soul II Soul. Second, Soul II Soul was formed in London, England.',\n",
       "  'original_best_answer': 'England',\n",
       "  'original_answers': ['Mumbai, India',\n",
       "   'England',\n",
       "   'London, England',\n",
       "   'England',\n",
       "   'London, England'],\n",
       "  'original_rationales': ['First, the performer of the song Get A Life - Get Alive is Sajid Khan. Second, Sajid Khan was born in Mumbai, India.',\n",
       "   'First, the performer of the song Get A Life - Get Alive is Soul II Soul. Second, Soul II Soul was formed in London, England.',\n",
       "   'First, the performer of the song Get A Life - Get Alive is Ian Curnow. Second, Ian Curnow was born in London, England.',\n",
       "   'First, the performer of the song Get A Life - Get Alive is Soul II Soul. Second, Soul II Soul was formed in London, England.',\n",
       "   'First, the performer of the song Get A Life - Get Alive is Soul II Soul. Second, Soul II Soul was born in London, England.']},\n",
       " {'response': 'First, the director of film Don Juan (1922 Film) is Alan Crosland. Second, Alan Crosland died in Hollywood, California, United States. The answer is Hollywood, California, United States.',\n",
       "  'id': '49eb87280bdc11eba7f7acde48001122',\n",
       "  'consistency': 0.6,\n",
       "  'original_best_rationale': 'First, the director of film Don Juan (1922 Film) is Alan Crosland. Second, Alan Crosland died in Hollywood, California, United States.',\n",
       "  'original_best_answer': 'Hollywood, California, United States',\n",
       "  'original_answers': ['Hollywood, California, USA',\n",
       "   'Hollywood, California, United States',\n",
       "   'Hollywood, California, USA',\n",
       "   'Hollywood, California, United States',\n",
       "   'Hollywood, California, United States'],\n",
       "  'original_rationales': ['First, the director of film Don Juan (1922 Film) is Alan Crosland. Second, Alan Crosland died in Hollywood, California, USA.',\n",
       "   'First, the director of film Don Juan (1922 Film) is Alan Crosland. Second, Alan Crosland died in Hollywood, California, United States.',\n",
       "   'First, the director of film Don Juan (1922 Film) is Alan Crosland. Second, Alan Crosland died in Hollywood, California, USA.',\n",
       "   'First, the director of film Don Juan (1922 Film) is Alan Crosland. Second, Alan Crosland died in Hollywood, California, United States.',\n",
       "   'First, the director of film Don Juan (1922 Film) is Alan Crosland. Second, Alan Crosland died in Hollywood, California, United States.']}]"
      ]
     },
     "execution_count": 46,
     "metadata": {},
     "output_type": "execute_result"
    }
   ],
   "source": [
    "test_few_shot_manual_prediction(args)"
   ]
  },
  {
   "cell_type": "code",
   "execution_count": 64,
   "metadata": {},
   "outputs": [],
   "source": [
    "### Final Function to use predictions for consistency\n",
    "\n",
    "def test_few_shot_manual_prediction(args):\n",
    "    print(\"Running prediction\")\n",
    "    train_set = read_wikiqa_data(f\"data/train_subset.json\", manual_annotation_style=args.style)\n",
    "    train_set = train_set[args.train_slice:(args.train_slice + args.num_shot)]\n",
    "    print('len(train_set): ', len(train_set))\n",
    "    dev_set = read_wikiqa_data(f\"data/dev_sampled.json\")\n",
    "    dev_set = dev_set[args.dev_slice:(args.num_dev)]\n",
    "\n",
    "    prompt, _ = args.helper.prompt_for_joint_prediction(dev_set[0], train_set)\n",
    "    # print('prompt: ')\n",
    "    # print(prompt)\n",
    "\n",
    "\n",
    "    predictions = []    \n",
    "    for x in tqdm(dev_set, total=len(dev_set), desc=\"Predicting\"):\n",
    "        pred = in_context_manual_prediction(x, train_set, engine=args.engine, prompt_helper=args.helper, length_test_only=args.run_length_test, n = args.num_shot)\n",
    "        if pred != None:\n",
    "            predictions.append(pred)\n",
    "        else: #error, ending early\n",
    "            args.num_dev = len(predictions) + args.dev_slice\n",
    "            break\n",
    "            \n",
    "        # # save\n",
    "    dump_json(predictions, result_cache_name(args))   \n",
    "    \n",
    "    new_predictions, cons = [], []\n",
    "    for i, p in enumerate(tqdm(predictions, total=len(predictions), desc=\"Verifying\")):\n",
    "        ex = dev_set[i]\n",
    "        con, new_p = post_process_consistency(ex, p, args)\n",
    "        cons.append(con)\n",
    "        new_predictions.append(new_p)\n",
    "    predictions = new_predictions \n",
    "\n",
    "    true_cons, false_cons = evaluate_manual_predictions(dev_set, predictions, args.style, do_print=True)\n",
    "\n",
    "    cons = [p['consistency'] for p in predictions]\n",
    "    plt.figure(figsize=(10,5))\n",
    "    df = pd.DataFrame.from_dict({'label': ['correct']*len(true_cons) + ['incorrect']*len(false_cons) + ['overall']*(len(true_cons)+len(false_cons))\\\n",
    "        , 'consistency': true_cons + false_cons + cons})\n",
    "    sns.displot(df, x=\"consistency\", hue=\"label\", kind=\"kde\", fill=True)\n",
    "    plt.savefig(f\"log/consistency_2.png\")\n",
    "    \n",
    "\n",
    "    return predictions, true_cons, false_cons"
   ]
  },
  {
   "cell_type": "code",
   "execution_count": 68,
   "metadata": {},
   "outputs": [
    {
     "name": "stdout",
     "output_type": "stream",
     "text": [
      "Running prediction\n",
      "0 not found\n",
      "len(train_set):  5\n",
      "7 not found\n"
     ]
    },
    {
     "name": "stderr",
     "output_type": "stream",
     "text": [
      "Predicting: 100%|██████████| 5/5 [00:05<00:00,  1.07s/it]\n",
      "Verifying: 100%|██████████| 5/5 [00:00<00:00, 11131.38it/s]"
     ]
    },
    {
     "name": "stdout",
     "output_type": "stream",
     "text": [
      "--------------0 EX False RAT False F1 0.00 CONS 0.40--------------\n",
      "question:  Where was the performer of song Get A Life – Get Alive born?\n",
      "0: First, the performer of the song Get A Life – Get Alive is Steve Winwood. Second, Steve Winwood was born in Handsworth, Birmingham, England. | Handsworth, Birmingham, England\n",
      "1: First, the performer of the song Get A Life - Get Alive is Ian Dury. Second, Ian Dury was born in Harrow, Middlesex, England. | England\n",
      "2: First, the performer of the song Get A Life - Get Alive is Soul II Soul. Second, Soul II Soul was formed in London, England. | London, England\n",
      "3: First, the performer of the song Get A Life - Get Alive is Ian Astbury. Second, Ian Astbury was born in Heswall, England. | Heswall, England\n",
      "4: First, the performer of the song Get A Life – Get Alive is Ian Astbury. Second, Ian Astbury was born in Heswall, Cheshire, England. | England\n",
      "PR ANS: England\n",
      "PR RAT: First, the performer of the song Get A Life - Get Alive is Ian Dury. Second, Ian Dury was born in Harrow, Middlesex, England.\n",
      "GT ANS: Vöcklabruck\n",
      "{\"qas_id\": \"1ee47f380bde11eba7f7acde48001122\", \"answer\": \"England\"}\n",
      "--------------1 EX False RAT False F1 0.00 CONS 0.80--------------\n",
      "question:  Where did the director of film Don Juan (1922 Film) die?\n",
      "0: First, the director of film Don Juan (1922 Film) is Alan Crosland. Second, Alan Crosland died in Hollywood, California, USA. | Hollywood, California, USA\n",
      "1: First, the director of film Don Juan (1922 Film) is Alan Crosland. Second, Alan Crosland died in Hollywood, California, USA. | Hollywood, California, USA\n",
      "2: First, the director of film Don Juan (1922 Film) is Alan Crosland. Second, Alan Crosland died in Hollywood, California, United States. | Hollywood, California, United States\n",
      "3: First, the director of film Don Juan (1922 Film) is Alan Crosland. Second, Alan Crosland died in Hollywood, California, USA. | Hollywood, California, USA\n",
      "4: First, the director of film Don Juan (1922 Film) is Alan Crosland. Second, Alan Crosland died in Hollywood, California, USA. | Hollywood, California, USA\n",
      "PR ANS: Hollywood, California, USA\n",
      "PR RAT: First, the director of film Don Juan (1922 Film) is Alan Crosland. Second, Alan Crosland died in Hollywood, California, USA.\n",
      "GT ANS: Westerland\n",
      "{\"qas_id\": \"49eb87280bdc11eba7f7acde48001122\", \"answer\": \"Hollywood, California, USA\"}\n",
      "--------------2 EX False RAT False F1 0.00 CONS 0.80--------------\n",
      "question:  What is the place of birth of the composer of film Naayudamma?\n",
      "0: First, the composer of film Naayudamma is Pendyala Nageswara Rao. Second, Pendyala Nageswara Rao was born in Repalle, Andhra Pradesh, India. | Repalle, Andhra Pradesh, India\n",
      "1: First, the composer of film Naayudamma is T. Chalapathi Rao. Second, T. Chalapathi Rao was born in Andhra Pradesh, India. | Andhra Pradesh, India\n",
      "2: First, the composer of film Naayudamma is T. Chalapathi Rao. Second, T. Chalapathi Rao was born in Andhra Pradesh, India. | Andhra Pradesh, India\n",
      "3: First, the composer of film Naayudamma is T. Chalapathi Rao. Second, T. Chalapathi Rao was born in Andhra Pradesh, India. | Andhra Pradesh, India\n",
      "4: First, the composer of film Naayudamma is T. Chalapathi Rao. Second, T. Chalapathi Rao was born in Andhra Pradesh, India. | Andhra Pradesh, India\n",
      "PR ANS: Andhra Pradesh, India\n",
      "PR RAT: First, the composer of film Naayudamma is T. Chalapathi Rao. Second, T. Chalapathi Rao was born in Andhra Pradesh, India.\n",
      "GT ANS: Tamil\n",
      "{\"qas_id\": \"2e17069c0bde11eba7f7acde48001122\", \"answer\": \"Andhra Pradesh, India\"}\n",
      "--------------3 EX False RAT False F1 0.00 CONS 0.40--------------\n",
      "question:  Where did the director of film Temptation (1959 Film) die?\n",
      "0: First, the director of film Temptation (1959 Film) is Ingmar Bergman. Second, Ingmar Bergman died in Fårö, Sweden. | Fårö, Sweden\n",
      "1: First, the director of film Temptation (1959 Film) is Ingmar Bergman. Second, Ingmar Bergman died in Fårö, Gotland, Sweden. | Fårö, Gotland, Sweden\n",
      "2: First, the director of film Temptation (1959 Film) is Irving Rapper. Second, Irving Rapper died in Los Angeles, California, USA. | Los Angeles, California, USA\n",
      "3: First, the director of film Temptation (1959 Film) is Ingmar Bergman. Second, Ingmar Bergman died in Fårö, Sweden. | Fårö, Sweden\n",
      "4: First, the director of film Temptation (1959 Film) is Ingmar Bergman. Second, Ingmar Bergman died in Faro, Sweden. | Faro, Sweden\n",
      "PR ANS: Fårö, Sweden\n",
      "PR RAT: First, the director of film Temptation (1959 Film) is Ingmar Bergman. Second, Ingmar Bergman died in Fårö, Sweden.\n",
      "GT ANS: Nice\n",
      "{\"qas_id\": \"28942dc20bdd11eba7f7acde48001122\", \"answer\": \"F\\u00e5r\\u00f6, Sweden\"}\n",
      "--------------4 EX False RAT False F1 0.25 CONS 0.40--------------\n",
      "question:  Who is the uncle of John Kennedy, 2Nd Lord Kennedy?\n",
      "0: First, John Kennedy, 2nd Lord Kennedy's uncle is Gilbert Kennedy, 1st Earl of Cassilis. | Gilbert Kennedy, 1st Earl of Cassilis\n",
      "1: First, John Kennedy, 2nd Lord Kennedy's uncle is David Kennedy, 1st Lord Kennedy. | David Kennedy, 1st Lord Kennedy\n",
      "2: First, John Kennedy, 2nd Lord Kennedy's uncle is Gilbert Kennedy, 2nd Earl of Cassilis. Second, Gilbert Kennedy, 2nd Earl of Cassilis is the uncle of John Kennedy, 2nd Lord Kennedy. | Gilbert Kennedy, 2nd Earl of Cassilis\n",
      "3: First, John Kennedy, 2nd Lord Kennedy's uncle is Hugh Kennedy, 1st Lord Kennedy. | Hugh Kennedy, 1st Lord Kennedy\n",
      "4: First, John Kennedy, 2nd Lord Kennedy's uncle is Gilbert Kennedy, 2nd Earl of Cassilis. | Gilbert Kennedy, 2nd Earl of Cassilis\n",
      "PR ANS: Gilbert Kennedy, 2nd Earl of Cassilis\n",
      "PR RAT: First, John Kennedy, 2nd Lord Kennedy's uncle is Gilbert Kennedy, 2nd Earl of Cassilis. Second, Gilbert Kennedy, 2nd Earl of Cassilis is the uncle of John Kennedy, 2nd Lord Kennedy.\n",
      "GT ANS: James Kennedy\n",
      "{\"qas_id\": \"6a8a71280bb011ebab90acde48001122\", \"answer\": \"Gilbert Kennedy, 2nd Earl of Cassilis\"}\n",
      "EX 0.0 RAT 0.0\n",
      "F1: 0.05 PR: 0.03 RE: 0.10\n",
      "consistencies: mean 0.5599999999999999 and std 0.19595917942265426\n",
      "consistencies for true predictions: mean nan and std nan\n",
      "consistencies for false predictions: mean 0.5599999999999999 and std 0.19595917942265426\n"
     ]
    },
    {
     "name": "stderr",
     "output_type": "stream",
     "text": [
      "\n",
      "/Library/Frameworks/Python.framework/Versions/3.12/lib/python3.12/site-packages/numpy/core/fromnumeric.py:3504: RuntimeWarning: Mean of empty slice.\n",
      "  return _methods._mean(a, axis=axis, dtype=dtype,\n",
      "/Library/Frameworks/Python.framework/Versions/3.12/lib/python3.12/site-packages/numpy/core/_methods.py:129: RuntimeWarning: invalid value encountered in scalar divide\n",
      "  ret = ret.dtype.type(ret / rcount)\n",
      "/Library/Frameworks/Python.framework/Versions/3.12/lib/python3.12/site-packages/numpy/core/_methods.py:206: RuntimeWarning: Degrees of freedom <= 0 for slice\n",
      "  ret = _var(a, axis=axis, dtype=dtype, out=out, ddof=ddof,\n",
      "/Library/Frameworks/Python.framework/Versions/3.12/lib/python3.12/site-packages/numpy/core/_methods.py:163: RuntimeWarning: invalid value encountered in divide\n",
      "  arrmean = um.true_divide(arrmean, div, out=arrmean,\n",
      "/Library/Frameworks/Python.framework/Versions/3.12/lib/python3.12/site-packages/numpy/core/_methods.py:198: RuntimeWarning: invalid value encountered in scalar divide\n",
      "  ret = ret.dtype.type(ret / rcount)\n"
     ]
    },
    {
     "data": {
      "text/plain": [
       "([{'response': 'First, the performer of the song Get A Life - Get Alive is Ian Dury. Second, Ian Dury was born in Harrow, Middlesex, England. The answer is England.',\n",
       "   'id': '1ee47f380bde11eba7f7acde48001122',\n",
       "   'consistency': 0.4,\n",
       "   'rationale': 'First, the performer of the song Get A Life - Get Alive is Ian Dury. Second, Ian Dury was born in Harrow, Middlesex, England.',\n",
       "   'answer': 'England',\n",
       "   'original_answers': ['Handsworth, Birmingham, England',\n",
       "    'England',\n",
       "    'London, England',\n",
       "    'Heswall, England',\n",
       "    'England'],\n",
       "   'original_rationales': ['First, the performer of the song Get A Life – Get Alive is Steve Winwood. Second, Steve Winwood was born in Handsworth, Birmingham, England.',\n",
       "    'First, the performer of the song Get A Life - Get Alive is Ian Dury. Second, Ian Dury was born in Harrow, Middlesex, England.',\n",
       "    'First, the performer of the song Get A Life - Get Alive is Soul II Soul. Second, Soul II Soul was formed in London, England.',\n",
       "    'First, the performer of the song Get A Life - Get Alive is Ian Astbury. Second, Ian Astbury was born in Heswall, England.',\n",
       "    'First, the performer of the song Get A Life – Get Alive is Ian Astbury. Second, Ian Astbury was born in Heswall, Cheshire, England.']},\n",
       "  {'response': 'First, the director of film Don Juan (1922 Film) is Alan Crosland. Second, Alan Crosland died in Hollywood, California, USA. The answer is Hollywood, California, USA.',\n",
       "   'id': '49eb87280bdc11eba7f7acde48001122',\n",
       "   'consistency': 0.8,\n",
       "   'rationale': 'First, the director of film Don Juan (1922 Film) is Alan Crosland. Second, Alan Crosland died in Hollywood, California, USA.',\n",
       "   'answer': 'Hollywood, California, USA',\n",
       "   'original_answers': ['Hollywood, California, USA',\n",
       "    'Hollywood, California, USA',\n",
       "    'Hollywood, California, United States',\n",
       "    'Hollywood, California, USA',\n",
       "    'Hollywood, California, USA'],\n",
       "   'original_rationales': ['First, the director of film Don Juan (1922 Film) is Alan Crosland. Second, Alan Crosland died in Hollywood, California, USA.',\n",
       "    'First, the director of film Don Juan (1922 Film) is Alan Crosland. Second, Alan Crosland died in Hollywood, California, USA.',\n",
       "    'First, the director of film Don Juan (1922 Film) is Alan Crosland. Second, Alan Crosland died in Hollywood, California, United States.',\n",
       "    'First, the director of film Don Juan (1922 Film) is Alan Crosland. Second, Alan Crosland died in Hollywood, California, USA.',\n",
       "    'First, the director of film Don Juan (1922 Film) is Alan Crosland. Second, Alan Crosland died in Hollywood, California, USA.']},\n",
       "  {'response': 'First, the composer of film Naayudamma is T. Chalapathi Rao. Second, T. Chalapathi Rao was born in Andhra Pradesh, India. The answer is Andhra Pradesh, India.',\n",
       "   'id': '2e17069c0bde11eba7f7acde48001122',\n",
       "   'consistency': 0.8,\n",
       "   'rationale': 'First, the composer of film Naayudamma is T. Chalapathi Rao. Second, T. Chalapathi Rao was born in Andhra Pradesh, India.',\n",
       "   'answer': 'Andhra Pradesh, India',\n",
       "   'original_answers': ['Repalle, Andhra Pradesh, India',\n",
       "    'Andhra Pradesh, India',\n",
       "    'Andhra Pradesh, India',\n",
       "    'Andhra Pradesh, India',\n",
       "    'Andhra Pradesh, India'],\n",
       "   'original_rationales': ['First, the composer of film Naayudamma is Pendyala Nageswara Rao. Second, Pendyala Nageswara Rao was born in Repalle, Andhra Pradesh, India.',\n",
       "    'First, the composer of film Naayudamma is T. Chalapathi Rao. Second, T. Chalapathi Rao was born in Andhra Pradesh, India.',\n",
       "    'First, the composer of film Naayudamma is T. Chalapathi Rao. Second, T. Chalapathi Rao was born in Andhra Pradesh, India.',\n",
       "    'First, the composer of film Naayudamma is T. Chalapathi Rao. Second, T. Chalapathi Rao was born in Andhra Pradesh, India.',\n",
       "    'First, the composer of film Naayudamma is T. Chalapathi Rao. Second, T. Chalapathi Rao was born in Andhra Pradesh, India.']},\n",
       "  {'response': 'First, the director of film Temptation (1959 Film) is Ingmar Bergman. Second, Ingmar Bergman died in Fårö, Sweden. The answer is Fårö, Sweden.',\n",
       "   'id': '28942dc20bdd11eba7f7acde48001122',\n",
       "   'consistency': 0.4,\n",
       "   'rationale': 'First, the director of film Temptation (1959 Film) is Ingmar Bergman. Second, Ingmar Bergman died in Fårö, Sweden.',\n",
       "   'answer': 'Fårö, Sweden',\n",
       "   'original_answers': ['Fårö, Sweden',\n",
       "    'Fårö, Gotland, Sweden',\n",
       "    'Los Angeles, California, USA',\n",
       "    'Fårö, Sweden',\n",
       "    'Faro, Sweden'],\n",
       "   'original_rationales': ['First, the director of film Temptation (1959 Film) is Ingmar Bergman. Second, Ingmar Bergman died in Fårö, Sweden.',\n",
       "    'First, the director of film Temptation (1959 Film) is Ingmar Bergman. Second, Ingmar Bergman died in Fårö, Gotland, Sweden.',\n",
       "    'First, the director of film Temptation (1959 Film) is Irving Rapper. Second, Irving Rapper died in Los Angeles, California, USA.',\n",
       "    'First, the director of film Temptation (1959 Film) is Ingmar Bergman. Second, Ingmar Bergman died in Fårö, Sweden.',\n",
       "    'First, the director of film Temptation (1959 Film) is Ingmar Bergman. Second, Ingmar Bergman died in Faro, Sweden.']},\n",
       "  {'response': \"First, John Kennedy, 2nd Lord Kennedy's uncle is Gilbert Kennedy, 2nd Earl of Cassilis. Second, Gilbert Kennedy, 2nd Earl of Cassilis is the uncle of John Kennedy, 2nd Lord Kennedy. The answer is Gilbert Kennedy, 2nd Earl of Cassilis.\",\n",
       "   'id': '6a8a71280bb011ebab90acde48001122',\n",
       "   'consistency': 0.4,\n",
       "   'rationale': \"First, John Kennedy, 2nd Lord Kennedy's uncle is Gilbert Kennedy, 2nd Earl of Cassilis. Second, Gilbert Kennedy, 2nd Earl of Cassilis is the uncle of John Kennedy, 2nd Lord Kennedy.\",\n",
       "   'answer': 'Gilbert Kennedy, 2nd Earl of Cassilis',\n",
       "   'original_answers': ['Gilbert Kennedy, 1st Earl of Cassilis',\n",
       "    'David Kennedy, 1st Lord Kennedy',\n",
       "    'Gilbert Kennedy, 2nd Earl of Cassilis',\n",
       "    'Hugh Kennedy, 1st Lord Kennedy',\n",
       "    'Gilbert Kennedy, 2nd Earl of Cassilis'],\n",
       "   'original_rationales': [\"First, John Kennedy, 2nd Lord Kennedy's uncle is Gilbert Kennedy, 1st Earl of Cassilis.\",\n",
       "    \"First, John Kennedy, 2nd Lord Kennedy's uncle is David Kennedy, 1st Lord Kennedy.\",\n",
       "    \"First, John Kennedy, 2nd Lord Kennedy's uncle is Gilbert Kennedy, 2nd Earl of Cassilis. Second, Gilbert Kennedy, 2nd Earl of Cassilis is the uncle of John Kennedy, 2nd Lord Kennedy.\",\n",
       "    \"First, John Kennedy, 2nd Lord Kennedy's uncle is Hugh Kennedy, 1st Lord Kennedy.\",\n",
       "    \"First, John Kennedy, 2nd Lord Kennedy's uncle is Gilbert Kennedy, 2nd Earl of Cassilis.\"]}],\n",
       " [],\n",
       " [0.4, 0.8, 0.8, 0.4, 0.4])"
      ]
     },
     "execution_count": 68,
     "metadata": {},
     "output_type": "execute_result"
    },
    {
     "data": {
      "text/plain": [
       "<Figure size 1000x500 with 0 Axes>"
      ]
     },
     "metadata": {},
     "output_type": "display_data"
    },
    {
     "data": {
      "image/png": "[encoded data removed]",
      "text/plain": [
       "<Figure size 611.375x500 with 1 Axes>"
      ]
     },
     "metadata": {},
     "output_type": "display_data"
    }
   ],
   "source": [
    "test_few_shot_manual_prediction(args)"
   ]
  },
  {
   "cell_type": "markdown",
   "metadata": {},
   "source": [
    "### Verifying Questions Generation"
   ]
  },
  {
   "cell_type": "code",
   "execution_count": 69,
   "metadata": {},
   "outputs": [],
   "source": [
    "def test_few_shot_manual_prediction(args):\n",
    "    print(\"Running prediction\")\n",
    "    train_set = read_wikiqa_data(f\"data/train_subset.json\", manual_annotation_style=args.style)\n",
    "    train_set = train_set[args.train_slice:(args.train_slice + args.num_shot)]\n",
    "    print('len(train_set): ', len(train_set))\n",
    "    dev_set = read_wikiqa_data(f\"data/dev_sampled.json\")\n",
    "    dev_set = dev_set[args.dev_slice:(args.num_dev)]\n",
    "\n",
    "    prompt, _ = args.helper.prompt_for_question_generation('question', 'sentence')\n",
    "    print('prompt: ')\n",
    "    print(prompt)"
   ]
  },
  {
   "cell_type": "code",
   "execution_count": 70,
   "metadata": {},
   "outputs": [
    {
     "name": "stdout",
     "output_type": "stream",
     "text": [
      "Running prediction\n",
      "0 not found\n",
      "len(train_set):  5\n",
      "7 not found\n",
      "prompt: \n",
      "Write a question that validates the reason for an overall question.\n",
      "\n",
      "Overall Question: What is the date of death of the composer of film Baalaraajana Kathe?\n",
      "Reason: First, the composer of film Baalaraajana Kathe is S. Hanumantha Rao.\n",
      "Question: Who is the composer of film Baalaraajana Kathe?\n",
      "\n",
      "Overall Question: Who lived longer, Edward Frederick Sanderson or Forrest Towns?\n",
      "Reason: First, Edward Frederick Sanderson died at age 81.\n",
      "Question: How long did Edward Frederick Sanderson live for?\n",
      "\n",
      "Overall Question: question\n",
      "Reason: sentence\n",
      "Question:\n"
     ]
    }
   ],
   "source": [
    "test_few_shot_manual_prediction(args)"
   ]
  },
  {
   "cell_type": "code",
   "execution_count": 5,
   "metadata": {},
   "outputs": [],
   "source": [
    "engine = \"gpt-3.5-turbo-0125\""
   ]
  },
  {
   "cell_type": "code",
   "execution_count": 7,
   "metadata": {},
   "outputs": [],
   "source": [
    "completion = client.chat.completions.create(\n",
    "    messages=[\n",
    "        {\n",
    "            \"role\": \"user\",\n",
    "            \"content\": \"Tell me a joke\"\n",
    "        }\n",
    "    ],\n",
    "    model=engine,\n",
    "    n= 1,\n",
    "    temperature= 0\n",
    ")"
   ]
  },
  {
   "cell_type": "code",
   "execution_count": 8,
   "metadata": {},
   "outputs": [
    {
     "data": {
      "text/plain": [
       "ChatCompletion(id='chatcmpl-BUE3tsuQ0GBOSxfVd84P6Yf50XynP', choices=[Choice(finish_reason='stop', index=0, logprobs=None, message=ChatCompletionMessage(content=\"Why couldn't the bicycle stand up by itself?\\n\\nBecause it was two tired!\", refusal=None, role='assistant', annotations=[], audio=None, function_call=None, tool_calls=None))], created=1746543593, model='gpt-3.5-turbo-0125', object='chat.completion', service_tier='default', system_fingerprint=None, usage=CompletionUsage(completion_tokens=17, prompt_tokens=11, total_tokens=28, completion_tokens_details=CompletionTokensDetails(accepted_prediction_tokens=0, audio_tokens=0, reasoning_tokens=0, rejected_prediction_tokens=0), prompt_tokens_details=PromptTokensDetails(audio_tokens=0, cached_tokens=0)))"
      ]
     },
     "execution_count": 8,
     "metadata": {},
     "output_type": "execute_result"
    }
   ],
   "source": [
    "completion"
   ]
  },
  {
   "cell_type": "code",
   "execution_count": 9,
   "metadata": {},
   "outputs": [],
   "source": [
    "text = ''\n",
    "for choice in completion.choices:\n",
    "    text = choice.message.content"
   ]
  },
  {
   "cell_type": "code",
   "execution_count": 12,
   "metadata": {},
   "outputs": [
    {
     "data": {
      "text/plain": [
       "\"Why couldn't the bicycle stand up by itself?\\n\\nBecause it was two tired!\""
      ]
     },
     "execution_count": 12,
     "metadata": {},
     "output_type": "execute_result"
    }
   ],
   "source": [
    "completion.choices[0].message.content"
   ]
  },
  {
   "cell_type": "code",
   "execution_count": 10,
   "metadata": {},
   "outputs": [
    {
     "data": {
      "text/plain": [
       "\"Why couldn't the bicycle stand up by itself?\\n\\nBecause it was two tired!\""
      ]
     },
     "execution_count": 10,
     "metadata": {},
     "output_type": "execute_result"
    }
   ],
   "source": [
    "text"
   ]
  },
  {
   "cell_type": "code",
   "execution_count": null,
   "metadata": {},
   "outputs": [],
   "source": []
  }
 ],
 "metadata": {
  "kernelspec": {
   "display_name": "Python 3",
   "language": "python",
   "name": "python3"
  },
  "language_info": {
   "codemirror_mode": {
    "name": "ipython",
    "version": 3
   },
   "file_extension": ".py",
   "mimetype": "text/x-python",
   "name": "python",
   "nbconvert_exporter": "python",
   "pygments_lexer": "ipython3",
   "version": "3.12.7"
  }
 },
 "nbformat": 4,
 "nbformat_minor": 2
}
