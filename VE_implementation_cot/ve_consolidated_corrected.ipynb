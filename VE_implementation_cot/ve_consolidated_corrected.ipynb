{
 "cells": [
  {
   "cell_type": "markdown",
   "metadata": {},
   "source": [
    "### Module -1: Analyzing Improperly parsed rationales"
   ]
  },
  {
   "cell_type": "code",
   "execution_count": 1,
   "metadata": {},
   "outputs": [],
   "source": [
    "incorrect_eval = '755fdd7c08a411ebbd7cac1f6bf848b6'\n",
    "\n",
    "response1 ={\"response\": \"First, the director of Broadway Or Bust was born on 28 June 1915. Second, the director of Ballad Of Tara was born on 27 April 1936. The director of Broadway Or Bust was born first.\", \"id\": \"755fdd7c08a411ebbd7cac1f6bf848b6\", \"question\": \"Which film whose director was born first, Broadway Or Bust or Ballad Of Tara?\", \"consistency\": 0.8, \"rationale\": \"none\", \"answer\": \"NOT ENOUGH INFO\", \"original_answers\": [\"Broadway Or Bust\", \"NOT ENOUGH INFO\", \"NOT ENOUGH INFO\", \"NOT ENOUGH INFO\", \"NOT ENOUGH INFO\"], \"original_rationales\": [\"First, the director of Broadway Or Bust is William Beaudine, who was born on January 15, 1892. Second, the director of Ballad Of Tara is R. Nataraja Mudaliar, who was born on October 31, 1896.\", \"none\", \"none\", \"none\", \"none\"], \"high_consistency\": True, \"time_taken_sec\": 1.43}"
   ]
  },
  {
   "cell_type": "code",
   "execution_count": 3,
   "metadata": {},
   "outputs": [
    {
     "data": {
      "text/plain": [
       "{'response': \"First, Charles Of Provence's paternal grandfather is Charles Martel.\",\n",
       " 'id': '9ec997120baf11ebab90acde48001122',\n",
       " 'question': \"Who is Charles Of Provence's paternal grandfather?\",\n",
       " 'consistency': 0.4,\n",
       " 'rationale': 'none',\n",
       " 'answer': 'NOT ENOUGH INFO',\n",
       " 'original_answers': ['Charles III of France',\n",
       "  'Louis The Pious',\n",
       "  'NOT ENOUGH INFO',\n",
       "  'Louis the Stammerer',\n",
       "  'NOT ENOUGH INFO'],\n",
       " 'original_rationales': [\"First, Charles Of Provence's paternal grandfather is Charles III of France. Second, Charles III of France was also known as Charles the Simple.\",\n",
       "  \"First, Charles Of Provence's paternal grandfather is Louis The German. Second, Louis The German was the son of Louis The Pious.\",\n",
       "  'none',\n",
       "  \"First, Charles Of Provence's paternal grandfather is Louis the Stammerer. Second, Louis the Stammerer was the King of Western Francia.\",\n",
       "  'none'],\n",
       " 'consistency_time': 0.95,\n",
       " 'high_consistency': False,\n",
       " 'verifying_questions': [\"Who is Charles Of Provence's father?\"],\n",
       " 'time_verifying_answer': 0.64,\n",
       " 'time_context_and_verifying_answer': 10.11,\n",
       " 'context': [['Charles was only a child when his father died; and the governance of his realm was undertaken by his tutor, Count Girart de Roussillon, whose wife had been a sister-in-law of Lothar I. Girart was a vigorous regent, defending the kingdom from the Northmen, who raided up the Rhone as far as Valence.',\n",
       "   'Charles II, also known as Charles the Lame (French: Charles le Boiteux; Italian: Carlo lo Zoppo; 1254 – 5 May 1309), was King of Naples, Count of Provence and Forcalquier (1285–1309), Prince of Achaea (1285–1289), and Count of Anjou and Maine (1285–1290); he also was King of Albania (1285–1294), and claimed the Kingdom of Jerusalem from 1285.',\n",
       "   'The series, created by Sydney Newman, C. E. Webber and Donald Wilson, depicts the adventures of an extraterrestrial being called the Doctor, part of a humanoid species called Time Lords.']],\n",
       " 'verifying_answers': [\"Charles Of Provence's father was Charles II.\"],\n",
       " 'time_answer_again': 0.76,\n",
       " 'new_answer': \" Second, Charles Of Provence's paternal grandfather was Louis the Stammerer. The answer is Louis the Stammerer.\",\n",
       " 'time_taken_sec': 12.46}"
      ]
     },
     "execution_count": 3,
     "metadata": {},
     "output_type": "execute_result"
    }
   ],
   "source": [
    "\n",
    "response2 = {\"response\": \"First, Charles Of Provence's paternal grandfather is Charles Martel.\", \"id\": \"9ec997120baf11ebab90acde48001122\", \"question\": \"Who is Charles Of Provence's paternal grandfather?\", \"consistency\": 0.4, \"rationale\": \"none\", \"answer\": \"NOT ENOUGH INFO\", \"original_answers\": [\"Charles III of France\", \"Louis The Pious\", \"NOT ENOUGH INFO\", \"Louis the Stammerer\", \"NOT ENOUGH INFO\"], \"original_rationales\": [\"First, Charles Of Provence's paternal grandfather is Charles III of France. Second, Charles III of France was also known as Charles the Simple.\", \"First, Charles Of Provence's paternal grandfather is Louis The German. Second, Louis The German was the son of Louis The Pious.\", \"none\", \"First, Charles Of Provence's paternal grandfather is Louis the Stammerer. Second, Louis the Stammerer was the King of Western Francia.\", \"none\"], \"consistency_time\": 0.95, \"high_consistency\": False, \"verifying_questions\": [\"Who is Charles Of Provence's father?\"], \"time_verifying_answer\": 0.64, \"time_context_and_verifying_answer\": 10.11, \"context\": [[\"Charles was only a child when his father died; and the governance of his realm was undertaken by his tutor, Count Girart de Roussillon, whose wife had been a sister-in-law of Lothar I. Girart was a vigorous regent, defending the kingdom from the Northmen, who raided up the Rhone as far as Valence.\", \"Charles II, also known as Charles the Lame (French: Charles le Boiteux; Italian: Carlo lo Zoppo; 1254 \\u2013 5 May 1309), was King of Naples, Count of Provence and Forcalquier (1285\\u20131309), Prince of Achaea (1285\\u20131289), and Count of Anjou and Maine (1285\\u20131290); he also was King of Albania (1285\\u20131294), and claimed the Kingdom of Jerusalem from 1285.\", \"The series, created by Sydney Newman, C. E. Webber and Donald Wilson, depicts the adventures of an extraterrestrial being called the Doctor, part of a humanoid species called Time Lords.\"]], \"verifying_answers\": [\"Charles Of Provence's father was Charles II.\"], \"time_answer_again\": 0.76, \"new_answer\": \" Second, Charles Of Provence's paternal grandfather was Louis the Stammerer. The answer is Louis the Stammerer.\", \"time_taken_sec\": 12.46}\n",
    "response2"
   ]
  },
  {
   "cell_type": "markdown",
   "metadata": {},
   "source": [
    "### Module 0: Importing Libraries"
   ]
  },
  {
   "cell_type": "code",
   "execution_count": 1,
   "metadata": {},
   "outputs": [
    {
     "name": "stderr",
     "output_type": "stream",
     "text": [
      "/Library/Frameworks/Python.framework/Versions/3.12/lib/python3.12/site-packages/tqdm/auto.py:21: TqdmWarning: IProgress not found. Please update jupyter and ipywidgets. See https://ipywidgets.readthedocs.io/en/stable/user_install.html\n",
      "  from .autonotebook import tqdm as notebook_tqdm\n"
     ]
    }
   ],
   "source": [
    "import pandas as pd\n",
    "import numpy as np\n",
    "import pprint\n",
    "import os \n",
    "from time import time \n",
    "from dotenv import load_dotenv\n",
    "import json\n",
    "import argparse\n",
    "from tqdm import tqdm\n",
    "import numpy as np\n",
    "import matplotlib.pyplot as plt\n",
    "import seaborn as sns\n",
    "\n",
    "from openai import OpenAI\n",
    "import certifi\n",
    "\n",
    "# Override bad SSL_CERT_FILE if set\n",
    "os.environ[\"SSL_CERT_FILE\"] = certifi.where()\n",
    "\n",
    "from sentence_transformers import SentenceTransformer\n",
    "import torch\n",
    "import sklearn"
   ]
  },
  {
   "cell_type": "code",
   "execution_count": 2,
   "metadata": {},
   "outputs": [],
   "source": [
    "## Importing VE libraries\n",
    "from prompt_cot import cot_prompt\n",
    "from utils import *\n",
    "from dataset_utils import read_wikiqa_data\n",
    "from prompt_helper import get_joint_prompt_helper, normalize_prediction\n",
    "from dataset_utils import read_wikiqa_data, wiki_evaluation\n"
   ]
  },
  {
   "cell_type": "code",
   "execution_count": 3,
   "metadata": {},
   "outputs": [],
   "source": [
    "device = torch.device(\"cuda\" if torch.cuda.is_available() else \"cpu\")"
   ]
  },
  {
   "cell_type": "code",
   "execution_count": 4,
   "metadata": {},
   "outputs": [],
   "source": [
    "load_dotenv()\n",
    "client = OpenAI()"
   ]
  },
  {
   "cell_type": "code",
   "execution_count": 5,
   "metadata": {},
   "outputs": [],
   "source": [
    "from consistency import _parse_args as consistency_parse_args, in_context_manual_prediction  as consistency_in_context_manual_prediction, post_process_consistency, evaluate_manual_predictions as consistency_evaluate_manual_predictions\n",
    "from verifying_questions import _parse_args as verifying_questions_args, in_context_manual_prediction as vq_in_context_manual_prediction\n",
    "from relevant_context import _parse_args as relevant_context_args\n",
    "from verifying_answers import in_context_manual_prediction as verifying_answers_in_context_manual_prediction, _parse_args as verifying_answers_args\n",
    "from answer_again import rationale as answer_again_rationale, in_context_manual_prediction as answer_again_in_context_manual_prediction\n",
    "from evaluation import evaluate_model_performance_v2"
   ]
  },
  {
   "cell_type": "markdown",
   "metadata": {},
   "source": [
    "### Module 1: Building Consolidated function"
   ]
  },
  {
   "cell_type": "code",
   "execution_count": 6,
   "metadata": {},
   "outputs": [],
   "source": [
    "# model embedding function required for relevant context\n",
    "def model_embeddings(sentence, model):\n",
    "    embedding = model.encode([sentence])\n",
    "    return embedding[0] #should return an array of shape 384"
   ]
  },
  {
   "cell_type": "code",
   "execution_count": 7,
   "metadata": {},
   "outputs": [],
   "source": [
    "def run_iterative_prediction():\n",
    "\n",
    "    # Consistency Arguments\n",
    "    args = consistency_parse_args()\n",
    "\n",
    "    output_file = f\"misc/iterative_predictions_cot_final_iter_new_0_250.jsonl\"\n",
    "\n",
    "    # Load existing IDs from output file\n",
    "    existing_ids = set()\n",
    "    if os.path.exists(output_file):\n",
    "        with open(output_file, \"r\") as f:\n",
    "            for line in f:\n",
    "                try:\n",
    "                    data = json.loads(line.strip())\n",
    "                    existing_ids.add(data[\"id\"])\n",
    "                except:\n",
    "                    continue\n",
    "\n",
    "    # train_set = read_wikiqa_data(\"data/train_subset.json\", manual_annotation_style=args.style)\n",
    "    # train_set = train_set[args.train_slice:(args.train_slice + args.num_shot)]\n",
    "\n",
    "    dev_set = read_wikiqa_data(\"data/dev_sampled.json\")\n",
    "    dev_set = dev_set[args.dev_slice:(args.dev_slice + args.num_dev)]\n",
    "\n",
    "    results = []\n",
    "    total_start = time()\n",
    "\n",
    "    for idx, ex in enumerate(tqdm(dev_set, desc=\"Processing one-by-one\")):\n",
    "        if ex['id'] in existing_ids:\n",
    "            continue\n",
    "\n",
    "        start = time()\n",
    "        try:\n",
    "            # Step 1: Predict\n",
    "            raw_pred = consistency_in_context_manual_prediction(ex, cot_prompt, engine=args.engine, prompt_helper=args.helper, length_test_only=False, n=args.num_shot)\n",
    "            \n",
    "            # Step 2: Consistency post-processing\n",
    "            con_score, final_pred = post_process_consistency(ex, raw_pred, args)\n",
    "            final_pred[\"consistency\"]= con_score\n",
    "\n",
    "            # Step  3: check if the consistency is higher than the threshold\n",
    "            args =verifying_questions_args()\n",
    "\n",
    "            if con_score > args.consistency_threshold:\n",
    "                # Step 4: Storing the result if consistency is higher than the threshold \n",
    "                final_pred['high_consistency'] = True\n",
    "                final_pred[\"time_taken_sec\"] = round(time() - start, 2)\n",
    "                with open(output_file, \"a\") as fout:\n",
    "                    fout.write(json.dumps(final_pred) + \"\\n\")\n",
    "\n",
    "            else:\n",
    "                start2 = time()\n",
    "                final_pred[\"consistency_time\"] = round(start2 - start, 2)\n",
    "                final_pred['high_consistency'] = False\n",
    "                # Step 5: Generating verifying questions\n",
    "                vq = []\n",
    "                sentences = rationale_tokenize(final_pred['rationale'])\n",
    "                for q, s in enumerate(sentences):\n",
    "                    question = vq_in_context_manual_prediction(final_pred['question'], s, args.engine, args.model, args.helper)\n",
    "                    if question != None:\n",
    "                        vq.append(question['text'])\n",
    "                \n",
    "                final_pred[\"verifying_questions\"] = vq\n",
    "\n",
    "                # Step 5: Pulling Relevant Context\n",
    "                start3 = time()\n",
    "                final_pred[\"time_verifying_answer\"] = round(start3 - start2, 2)\n",
    "                args = relevant_context_args()\n",
    "\n",
    "                contexts = []\n",
    "                embedding_model = SentenceTransformer('paraphrase-MiniLM-L6-v2').to(device)\n",
    "\n",
    "                sentences = rationale_tokenize(final_pred['rationale'])\n",
    "                all_pars_text = []\n",
    "                all_pars = []\n",
    "                va = []\n",
    "                for j, s in enumerate(sentences):\n",
    "                    pars_text = get_texts_to_rationale_wikipedia(vq[j], False)\n",
    "                \n",
    "                    pars_text = list(dict.fromkeys(pars_text)) #remove potential duplicates\n",
    "                    all_pars_text += pars_text\n",
    "\n",
    "                    if pars_text != []:\n",
    "                            sen_embeds = [model_embeddings(s, embedding_model)]\n",
    "                            par_embeds = [model_embeddings(s, embedding_model) for s in pars_text]\n",
    "\n",
    "                            pars = sklearn.metrics.pairwise.pairwise_distances(sen_embeds, par_embeds)\n",
    "                            pars = pars.argsort(axis = 1)[0][:args.topk]\n",
    "\n",
    "                            pars = [pars_text[i] for i in pars]\n",
    "                            contexts.append(pars)\n",
    "                            all_pars += pars\n",
    "                    \n",
    "                    # Step 6: Creating Verified Answers\n",
    "                    answer = verifying_answers_in_context_manual_prediction(args.engine, args.helper, args.model, pars, vq[j])\n",
    "                    va.append(answer['text'].lstrip())\n",
    "                \n",
    "                start4 = time()\n",
    "                final_pred[\"time_context_and_verifying_answer\"] = round(start4- start3,2)\n",
    "                final_pred[\"context\"] = contexts\n",
    "                final_pred[\"verifying_answers\"] = va\n",
    "\n",
    "                # Step 7: Answering Again\n",
    "                new_rationale = answer_again_rationale(va)\n",
    "                new_p = answer_again_in_context_manual_prediction(ex, cot_prompt, args.engine, args.helper, args.model,\n",
    "                    new_rationale )\n",
    "\n",
    "                start5 =time()\n",
    "                final_pred[\"time_answer_again\"] = round(start5 - start4, 2)\n",
    "                final_pred[\"new_answer\"] = new_p[\"text\"]\n",
    "                \n",
    "                final_pred[\"time_taken_sec\"] = round(time() - start, 2)\n",
    "                with open(output_file, \"a\") as fout:\n",
    "                    fout.write(json.dumps(final_pred) + \"\\n\")\n",
    "            \n",
    "            results.append(final_pred)\n",
    "\n",
    "            # # Step 4: Save this prediction to file immediately\n",
    "            # with open(output_file, \"a\") as fout:\n",
    "            #     fout.write(json.dumps(final_pred) + \"\\n\")\n",
    "\n",
    "        except Exception as e: \n",
    "            print(f\"Error in record {idx} ({ex['id']}): {e}\")\n",
    "            continue\n",
    "\n",
    "    total_duration = round(time() - total_start, 2)\n",
    "    avg_time = total_duration / len(results) if results else 0\n",
    "    print(f\"\\n✅ Finished {len(results)} records in {total_duration:.2f} seconds (avg {avg_time:.2f} sec/record)\")\n",
    "    print(f\"📄 Results saved to: {output_file}\")\n",
    "\n",
    "    return None"
   ]
  },
  {
   "cell_type": "code",
   "execution_count": 9,
   "metadata": {},
   "outputs": [
    {
     "name": "stdout",
     "output_type": "stream",
     "text": [
      "7 not found\n"
     ]
    },
    {
     "name": "stderr",
     "output_type": "stream",
     "text": [
      "Processing one-by-one:  27%|██▋       | 68/250 [00:14<00:52,  3.44it/s]"
     ]
    },
    {
     "name": "stdout",
     "output_type": "stream",
     "text": [
      "Error in record 67 (3314f9f708c311ebbd8dac1f6bf848b6): ('Connection aborted.', RemoteDisconnected('Remote end closed connection without response'))\n"
     ]
    },
    {
     "name": "stderr",
     "output_type": "stream",
     "text": [
      "Processing one-by-one: 100%|██████████| 250/250 [37:14<00:00,  8.94s/it]"
     ]
    },
    {
     "name": "stdout",
     "output_type": "stream",
     "text": [
      "\n",
      "✅ Finished 184 records in 2234.99 seconds (avg 12.15 sec/record)\n",
      "📄 Results saved to: misc/iterative_predictions_cot_final_iter_new_0_250.jsonl\n"
     ]
    },
    {
     "name": "stderr",
     "output_type": "stream",
     "text": [
      "\n"
     ]
    }
   ],
   "source": [
    "run_iterative_prediction()"
   ]
  },
  {
   "cell_type": "code",
   "execution_count": 10,
   "metadata": {},
   "outputs": [],
   "source": [
    "path = 'misc/iterative_predictions_cot_final_iter_new_0_250.jsonl'"
   ]
  },
  {
   "cell_type": "code",
   "execution_count": 11,
   "metadata": {},
   "outputs": [],
   "source": [
    "df, result = evaluate_model_performance_v2(path)"
   ]
  },
  {
   "cell_type": "code",
   "execution_count": 12,
   "metadata": {},
   "outputs": [
    {
     "data": {
      "text/plain": [
       "{'exact_match_percentage': 16.87,\n",
       " 'verify_percentage': 50.6,\n",
       " 'average_time_per_record_sec': 11.81}"
      ]
     },
     "execution_count": 12,
     "metadata": {},
     "output_type": "execute_result"
    }
   ],
   "source": [
    "result"
   ]
  },
  {
   "cell_type": "code",
   "execution_count": 13,
   "metadata": {},
   "outputs": [
    {
     "data": {
      "text/plain": [
       "(249, 20)"
      ]
     },
     "execution_count": 13,
     "metadata": {},
     "output_type": "execute_result"
    }
   ],
   "source": [
    "df.shape"
   ]
  },
  {
   "cell_type": "code",
   "execution_count": 15,
   "metadata": {},
   "outputs": [],
   "source": [
    "df.to_csv('misc/ve_predictions_cot_iter_latest_0_250.csv')"
   ]
  },
  {
   "cell_type": "markdown",
   "metadata": {},
   "source": [
    "### Module 2: Analyzing Results"
   ]
  },
  {
   "cell_type": "code",
   "execution_count": 15,
   "metadata": {},
   "outputs": [
    {
     "data": {
      "text/html": [
       "<div>\n",
       "<style scoped>\n",
       "    .dataframe tbody tr th:only-of-type {\n",
       "        vertical-align: middle;\n",
       "    }\n",
       "\n",
       "    .dataframe tbody tr th {\n",
       "        vertical-align: top;\n",
       "    }\n",
       "\n",
       "    .dataframe thead th {\n",
       "        text-align: right;\n",
       "    }\n",
       "</style>\n",
       "<table border=\"1\" class=\"dataframe\">\n",
       "  <thead>\n",
       "    <tr style=\"text-align: right;\">\n",
       "      <th></th>\n",
       "      <th>response</th>\n",
       "      <th>id</th>\n",
       "      <th>question</th>\n",
       "      <th>right_answer</th>\n",
       "      <th>consistency</th>\n",
       "      <th>rationale</th>\n",
       "      <th>answer</th>\n",
       "      <th>original_answers</th>\n",
       "      <th>original_rationales</th>\n",
       "      <th>consistency_time</th>\n",
       "      <th>high_consistency</th>\n",
       "      <th>verifying_questions</th>\n",
       "      <th>time_verifying_answer</th>\n",
       "      <th>time_context_and_verifying_answer</th>\n",
       "      <th>context</th>\n",
       "      <th>verifying_answers</th>\n",
       "      <th>time_answer_again</th>\n",
       "      <th>new_answer</th>\n",
       "      <th>time_taken_sec</th>\n",
       "      <th>match_flag</th>\n",
       "    </tr>\n",
       "  </thead>\n",
       "  <tbody>\n",
       "    <tr>\n",
       "      <th>0</th>\n",
       "      <td>First, the performer of the song \"Get A Life -...</td>\n",
       "      <td>1ee47f380bde11eba7f7acde48001122</td>\n",
       "      <td>Where was the performer of song Get A Life – G...</td>\n",
       "      <td>Vöcklabruck</td>\n",
       "      <td>0.2</td>\n",
       "      <td>First, the performer of the song Get A Life - ...</td>\n",
       "      <td>New York, United States</td>\n",
       "      <td>[New York, United States, Detroit, Michigan, U...</td>\n",
       "      <td>[First, the performer of the song \"Get A Life ...</td>\n",
       "      <td>1.30</td>\n",
       "      <td>False</td>\n",
       "      <td>[What city was the performer of the song Get A...</td>\n",
       "      <td>1.22</td>\n",
       "      <td>17.84</td>\n",
       "      <td>[[Get a life or Get a Life may refer to:\\n\\nGe...</td>\n",
       "      <td>[The performer of the song \"Get A Life - Get A...</td>\n",
       "      <td>1.78</td>\n",
       "      <td>The answer is Austria.</td>\n",
       "      <td>22.15</td>\n",
       "      <td>0</td>\n",
       "    </tr>\n",
       "    <tr>\n",
       "      <th>1</th>\n",
       "      <td>First, the director of the film Don Juan (1922...</td>\n",
       "      <td>49eb87280bdc11eba7f7acde48001122</td>\n",
       "      <td>Where did the director of film Don Juan (1922 ...</td>\n",
       "      <td>Westerland</td>\n",
       "      <td>0.6</td>\n",
       "      <td>First, the director of the film Don Juan (1922...</td>\n",
       "      <td>Hollywood, California</td>\n",
       "      <td>[Hollywood, California, United States, Hollywo...</td>\n",
       "      <td>[First, the director of the film Don Juan (192...</td>\n",
       "      <td>NaN</td>\n",
       "      <td>True</td>\n",
       "      <td>NaN</td>\n",
       "      <td>NaN</td>\n",
       "      <td>NaN</td>\n",
       "      <td>NaN</td>\n",
       "      <td>NaN</td>\n",
       "      <td>NaN</td>\n",
       "      <td>NaN</td>\n",
       "      <td>1.43</td>\n",
       "      <td>0</td>\n",
       "    </tr>\n",
       "    <tr>\n",
       "      <th>2</th>\n",
       "      <td>First, the composer of the film Naayudamma is ...</td>\n",
       "      <td>2e17069c0bde11eba7f7acde48001122</td>\n",
       "      <td>What is the place of birth of the composer of ...</td>\n",
       "      <td>Tamil</td>\n",
       "      <td>0.6</td>\n",
       "      <td>First, Naayudamma is a Telugu film released in...</td>\n",
       "      <td>Pannaipuram, Tamil Nadu, India</td>\n",
       "      <td>[Pannaipuram, Tamil Nadu, India, Pannaipuram, ...</td>\n",
       "      <td>[First, the composer of the film Naayudamma is...</td>\n",
       "      <td>NaN</td>\n",
       "      <td>True</td>\n",
       "      <td>NaN</td>\n",
       "      <td>NaN</td>\n",
       "      <td>NaN</td>\n",
       "      <td>NaN</td>\n",
       "      <td>NaN</td>\n",
       "      <td>NaN</td>\n",
       "      <td>NaN</td>\n",
       "      <td>1.12</td>\n",
       "      <td>0</td>\n",
       "    </tr>\n",
       "    <tr>\n",
       "      <th>3</th>\n",
       "      <td>First, the director of the film Temptation (19...</td>\n",
       "      <td>28942dc20bdd11eba7f7acde48001122</td>\n",
       "      <td>Where did the director of film Temptation (195...</td>\n",
       "      <td>Nice</td>\n",
       "      <td>0.4</td>\n",
       "      <td>First, the director of the film \"Temptation\" (...</td>\n",
       "      <td>Fårö, Sweden</td>\n",
       "      <td>[Fårö, Sweden, Hollywood, California, United S...</td>\n",
       "      <td>[First, the director of the film Temptation (1...</td>\n",
       "      <td>1.58</td>\n",
       "      <td>False</td>\n",
       "      <td>[Where did Irving Pichel, the director of the ...</td>\n",
       "      <td>1.19</td>\n",
       "      <td>19.75</td>\n",
       "      <td>[[Irving Pichel (June 24, 1891 – July 13, 1954...</td>\n",
       "      <td>[Irving Pichel, the director of the film \"Temp...</td>\n",
       "      <td>1.29</td>\n",
       "      <td>The answer is Hollywood, California.</td>\n",
       "      <td>23.81</td>\n",
       "      <td>0</td>\n",
       "    </tr>\n",
       "    <tr>\n",
       "      <th>4</th>\n",
       "      <td>First, John Kennedy, 2nd Lord Kennedy, has an ...</td>\n",
       "      <td>6a8a71280bb011ebab90acde48001122</td>\n",
       "      <td>Who is the uncle of John Kennedy, 2Nd Lord Ken...</td>\n",
       "      <td>James Kennedy</td>\n",
       "      <td>0.2</td>\n",
       "      <td>First, John Kennedy, 2nd Lord Kennedy, has an ...</td>\n",
       "      <td>Robert Kennedy, 1st Lord Kennedy</td>\n",
       "      <td>[Robert Kennedy, 1st Lord Kennedy, King James ...</td>\n",
       "      <td>[First, John Kennedy, 2nd Lord Kennedy, has an...</td>\n",
       "      <td>1.30</td>\n",
       "      <td>False</td>\n",
       "      <td>[Who is the uncle of John Kennedy, 2nd Lord Ke...</td>\n",
       "      <td>1.47</td>\n",
       "      <td>22.03</td>\n",
       "      <td>[[Kennedy may refer to:\\n\\nPeople\\nKennedy (su...</td>\n",
       "      <td>[The uncle of John Kennedy, 2nd Lord Kennedy i...</td>\n",
       "      <td>0.60</td>\n",
       "      <td>The answer is Robert F. Kennedy.</td>\n",
       "      <td>25.41</td>\n",
       "      <td>0</td>\n",
       "    </tr>\n",
       "  </tbody>\n",
       "</table>\n",
       "</div>"
      ],
      "text/plain": [
       "                                            response  \\\n",
       "0  First, the performer of the song \"Get A Life -...   \n",
       "1  First, the director of the film Don Juan (1922...   \n",
       "2  First, the composer of the film Naayudamma is ...   \n",
       "3  First, the director of the film Temptation (19...   \n",
       "4  First, John Kennedy, 2nd Lord Kennedy, has an ...   \n",
       "\n",
       "                                 id  \\\n",
       "0  1ee47f380bde11eba7f7acde48001122   \n",
       "1  49eb87280bdc11eba7f7acde48001122   \n",
       "2  2e17069c0bde11eba7f7acde48001122   \n",
       "3  28942dc20bdd11eba7f7acde48001122   \n",
       "4  6a8a71280bb011ebab90acde48001122   \n",
       "\n",
       "                                            question   right_answer  \\\n",
       "0  Where was the performer of song Get A Life – G...    Vöcklabruck   \n",
       "1  Where did the director of film Don Juan (1922 ...     Westerland   \n",
       "2  What is the place of birth of the composer of ...          Tamil   \n",
       "3  Where did the director of film Temptation (195...           Nice   \n",
       "4  Who is the uncle of John Kennedy, 2Nd Lord Ken...  James Kennedy   \n",
       "\n",
       "   consistency                                          rationale  \\\n",
       "0          0.2  First, the performer of the song Get A Life - ...   \n",
       "1          0.6  First, the director of the film Don Juan (1922...   \n",
       "2          0.6  First, Naayudamma is a Telugu film released in...   \n",
       "3          0.4  First, the director of the film \"Temptation\" (...   \n",
       "4          0.2  First, John Kennedy, 2nd Lord Kennedy, has an ...   \n",
       "\n",
       "                             answer  \\\n",
       "0           New York, United States   \n",
       "1             Hollywood, California   \n",
       "2    Pannaipuram, Tamil Nadu, India   \n",
       "3                      Fårö, Sweden   \n",
       "4  Robert Kennedy, 1st Lord Kennedy   \n",
       "\n",
       "                                    original_answers  \\\n",
       "0  [New York, United States, Detroit, Michigan, U...   \n",
       "1  [Hollywood, California, United States, Hollywo...   \n",
       "2  [Pannaipuram, Tamil Nadu, India, Pannaipuram, ...   \n",
       "3  [Fårö, Sweden, Hollywood, California, United S...   \n",
       "4  [Robert Kennedy, 1st Lord Kennedy, King James ...   \n",
       "\n",
       "                                 original_rationales  consistency_time  \\\n",
       "0  [First, the performer of the song \"Get A Life ...              1.30   \n",
       "1  [First, the director of the film Don Juan (192...               NaN   \n",
       "2  [First, the composer of the film Naayudamma is...               NaN   \n",
       "3  [First, the director of the film Temptation (1...              1.58   \n",
       "4  [First, John Kennedy, 2nd Lord Kennedy, has an...              1.30   \n",
       "\n",
       "   high_consistency                                verifying_questions  \\\n",
       "0             False  [What city was the performer of the song Get A...   \n",
       "1              True                                                NaN   \n",
       "2              True                                                NaN   \n",
       "3             False  [Where did Irving Pichel, the director of the ...   \n",
       "4             False  [Who is the uncle of John Kennedy, 2nd Lord Ke...   \n",
       "\n",
       "   time_verifying_answer  time_context_and_verifying_answer  \\\n",
       "0                   1.22                              17.84   \n",
       "1                    NaN                                NaN   \n",
       "2                    NaN                                NaN   \n",
       "3                   1.19                              19.75   \n",
       "4                   1.47                              22.03   \n",
       "\n",
       "                                             context  \\\n",
       "0  [[Get a life or Get a Life may refer to:\\n\\nGe...   \n",
       "1                                                NaN   \n",
       "2                                                NaN   \n",
       "3  [[Irving Pichel (June 24, 1891 – July 13, 1954...   \n",
       "4  [[Kennedy may refer to:\\n\\nPeople\\nKennedy (su...   \n",
       "\n",
       "                                   verifying_answers  time_answer_again  \\\n",
       "0  [The performer of the song \"Get A Life - Get A...               1.78   \n",
       "1                                                NaN                NaN   \n",
       "2                                                NaN                NaN   \n",
       "3  [Irving Pichel, the director of the film \"Temp...               1.29   \n",
       "4  [The uncle of John Kennedy, 2nd Lord Kennedy i...               0.60   \n",
       "\n",
       "                             new_answer  time_taken_sec  match_flag  \n",
       "0                The answer is Austria.           22.15           0  \n",
       "1                                   NaN            1.43           0  \n",
       "2                                   NaN            1.12           0  \n",
       "3  The answer is Hollywood, California.           23.81           0  \n",
       "4      The answer is Robert F. Kennedy.           25.41           0  "
      ]
     },
     "execution_count": 15,
     "metadata": {},
     "output_type": "execute_result"
    }
   ],
   "source": [
    "df.head()"
   ]
  },
  {
   "cell_type": "code",
   "execution_count": 17,
   "metadata": {},
   "outputs": [
    {
     "data": {
      "text/plain": [
       "high_consistency\n",
       "False    0.64\n",
       "True     0.36\n",
       "Name: proportion, dtype: float64"
      ]
     },
     "execution_count": 17,
     "metadata": {},
     "output_type": "execute_result"
    }
   ],
   "source": [
    "df['high_consistency'].value_counts(normalize=True)"
   ]
  },
  {
   "cell_type": "code",
   "execution_count": 20,
   "metadata": {},
   "outputs": [],
   "source": [
    "pd.set_option('display.max_colwidth',None)"
   ]
  },
  {
   "cell_type": "code",
   "execution_count": 23,
   "metadata": {},
   "outputs": [
    {
     "data": {
      "text/html": [
       "<div>\n",
       "<style scoped>\n",
       "    .dataframe tbody tr th:only-of-type {\n",
       "        vertical-align: middle;\n",
       "    }\n",
       "\n",
       "    .dataframe tbody tr th {\n",
       "        vertical-align: top;\n",
       "    }\n",
       "\n",
       "    .dataframe thead th {\n",
       "        text-align: right;\n",
       "    }\n",
       "</style>\n",
       "<table border=\"1\" class=\"dataframe\">\n",
       "  <thead>\n",
       "    <tr style=\"text-align: right;\">\n",
       "      <th></th>\n",
       "      <th>response</th>\n",
       "    </tr>\n",
       "  </thead>\n",
       "  <tbody>\n",
       "    <tr>\n",
       "      <th>0</th>\n",
       "      <td>First, the performer of the song \"Get A Life - Get Alive\" is born in New York City. Second, New York City is located in the state of New York, United States. The answer is New York, United States.</td>\n",
       "    </tr>\n",
       "    <tr>\n",
       "      <th>3</th>\n",
       "      <td>First, the director of the film Temptation (1959 Film) was Ingmar Bergman. Second, Ingmar Bergman died in Fårö, Sweden. The answer is Fårö, Sweden.</td>\n",
       "    </tr>\n",
       "    <tr>\n",
       "      <th>4</th>\n",
       "      <td>First, John Kennedy, 2nd Lord Kennedy, has an uncle named Robert Kennedy, 1st Lord Kennedy. Second, Robert Kennedy, 1st Lord Kennedy, is the uncle of John Kennedy, 2nd Lord Kennedy. The answer is Robert Kennedy, 1st Lord Kennedy.</td>\n",
       "    </tr>\n",
       "    <tr>\n",
       "      <th>5</th>\n",
       "      <td>First, the director of Broadway Or Bust is Tom Donahue, who was born on September 26, 1974. Second, the director of Ballad Of Tara is Peter Blystone, who was born on November 2, 1981. The answer is Tom Donahue, born on September 26, 1974.</td>\n",
       "    </tr>\n",
       "    <tr>\n",
       "      <th>8</th>\n",
       "      <td>First, Charles Of Provence's father is Louis II of Italy. Second, Louis II of Italy's father is Lothair I. The answer is Lothair I.</td>\n",
       "    </tr>\n",
       "    <tr>\n",
       "      <th>9</th>\n",
       "      <td>First, The Mate Of The Sally Ann was directed by Maurice Elvey, who was born on 11 November 1887. Second, The Legend Of Hercules was directed by Renny Harlin, who was born on 15 March 1959. The answer is Renny Harlin, who directed The Legend Of Hercules.</td>\n",
       "    </tr>\n",
       "    <tr>\n",
       "      <th>10</th>\n",
       "      <td>First, Archduchess Maria Antonia Of Austria (1899–1977) was the daughter of Archduke Karl Ferdinand of Austria. Second, Archduke Karl Ferdinand of Austria's father was Archduke Karl Ludwig of Austria. The answer is Archduke Karl Ludwig of Austria.</td>\n",
       "    </tr>\n",
       "    <tr>\n",
       "      <th>11</th>\n",
       "      <td>First, the director of \"Curry And Pepper\" is Gordon Chan, born on 23 December 1960. Second, the director of \"End Of Watch\" is David Ayer, born on January 18, 1968. The answer is Gordon Chan, born on 23 December 1960.</td>\n",
       "    </tr>\n",
       "    <tr>\n",
       "      <th>14</th>\n",
       "      <td>First, the director of the film \"The Trap\" (1959 film) is Sidney Hayers. Second, Sidney Hayers passed away due to natural causes. The answer is natural causes.</td>\n",
       "    </tr>\n",
       "    <tr>\n",
       "      <th>16</th>\n",
       "      <td>First, the director of the film Autumn Moon is Clara Law. Second, Clara Law is from Hong Kong. The answer is Hong Kong.</td>\n",
       "    </tr>\n",
       "    <tr>\n",
       "      <th>17</th>\n",
       "      <td>First, John A. Thayer's father was born in Philadelphia. Second, Philadelphia is a city in the state of Pennsylvania in the United States. The answer is Philadelphia, Pennsylvania.</td>\n",
       "    </tr>\n",
       "    <tr>\n",
       "      <th>18</th>\n",
       "      <td>First, Cheriyo Captain was directed by Augustine Prakash, who was born in 1966. Second, Searching For Debra Winger was directed by Rosanna Arquette, who was born in 1959. The answer is Augustine Prakash, born in 1966.</td>\n",
       "    </tr>\n",
       "    <tr>\n",
       "      <th>20</th>\n",
       "      <td>First, the director of \"Spring Storms\" is born on 20 March 1940. Second, the director of \"Fun In The Barracks\" is born on 15 June 1939. The answer is Fun In The Barracks.</td>\n",
       "    </tr>\n",
       "    <tr>\n",
       "      <th>21</th>\n",
       "      <td>First, Matilda Of Hesse's paternal grandfather is Prince Andrew of Greece and Denmark. Second, Prince Andrew of Greece and Denmark is the paternal grandfather of Matilda Of Hesse. The answer is Prince Andrew of Greece and Denmark.</td>\n",
       "    </tr>\n",
       "    <tr>\n",
       "      <th>23</th>\n",
       "      <td>First, Je Suis Né D'Une Cigogne was directed by Tony Gatlif, who was born on 10 September 1948. Second, The Legend Of Bagger Vance was directed by Robert Redford, who was born on 18 August 1936. The answer is Tony Gatlif, the director of Je Suis Né D'Une Cigogne, who was born later.</td>\n",
       "    </tr>\n",
       "    <tr>\n",
       "      <th>24</th>\n",
       "      <td>First, Yazid III's father was Walid I. Second, Walid I died in Damascus. The answer is Damascus.</td>\n",
       "    </tr>\n",
       "  </tbody>\n",
       "</table>\n",
       "</div>"
      ],
      "text/plain": [
       "                                                                                                                                                                                                                                                                                       response\n",
       "0                                                                                          First, the performer of the song \"Get A Life - Get Alive\" is born in New York City. Second, New York City is located in the state of New York, United States. The answer is New York, United States.\n",
       "3                                                                                                                                           First, the director of the film Temptation (1959 Film) was Ingmar Bergman. Second, Ingmar Bergman died in Fårö, Sweden. The answer is Fårö, Sweden.\n",
       "4                                                         First, John Kennedy, 2nd Lord Kennedy, has an uncle named Robert Kennedy, 1st Lord Kennedy. Second, Robert Kennedy, 1st Lord Kennedy, is the uncle of John Kennedy, 2nd Lord Kennedy. The answer is Robert Kennedy, 1st Lord Kennedy.\n",
       "5                                                First, the director of Broadway Or Bust is Tom Donahue, who was born on September 26, 1974. Second, the director of Ballad Of Tara is Peter Blystone, who was born on November 2, 1981. The answer is Tom Donahue, born on September 26, 1974.\n",
       "8                                                                                                                                                           First, Charles Of Provence's father is Louis II of Italy. Second, Louis II of Italy's father is Lothair I. The answer is Lothair I.\n",
       "9                                First, The Mate Of The Sally Ann was directed by Maurice Elvey, who was born on 11 November 1887. Second, The Legend Of Hercules was directed by Renny Harlin, who was born on 15 March 1959. The answer is Renny Harlin, who directed The Legend Of Hercules.\n",
       "10                                      First, Archduchess Maria Antonia Of Austria (1899–1977) was the daughter of Archduke Karl Ferdinand of Austria. Second, Archduke Karl Ferdinand of Austria's father was Archduke Karl Ludwig of Austria. The answer is Archduke Karl Ludwig of Austria.\n",
       "11                                                                     First, the director of \"Curry And Pepper\" is Gordon Chan, born on 23 December 1960. Second, the director of \"End Of Watch\" is David Ayer, born on January 18, 1968. The answer is Gordon Chan, born on 23 December 1960.\n",
       "14                                                                                                                              First, the director of the film \"The Trap\" (1959 film) is Sidney Hayers. Second, Sidney Hayers passed away due to natural causes. The answer is natural causes.\n",
       "16                                                                                                                                                                      First, the director of the film Autumn Moon is Clara Law. Second, Clara Law is from Hong Kong. The answer is Hong Kong.\n",
       "17                                                                                                         First, John A. Thayer's father was born in Philadelphia. Second, Philadelphia is a city in the state of Pennsylvania in the United States. The answer is Philadelphia, Pennsylvania.\n",
       "18                                                                    First, Cheriyo Captain was directed by Augustine Prakash, who was born in 1966. Second, Searching For Debra Winger was directed by Rosanna Arquette, who was born in 1959. The answer is Augustine Prakash, born in 1966.\n",
       "20                                                                                                                   First, the director of \"Spring Storms\" is born on 20 March 1940. Second, the director of \"Fun In The Barracks\" is born on 15 June 1939. The answer is Fun In The Barracks.\n",
       "21                                                       First, Matilda Of Hesse's paternal grandfather is Prince Andrew of Greece and Denmark. Second, Prince Andrew of Greece and Denmark is the paternal grandfather of Matilda Of Hesse. The answer is Prince Andrew of Greece and Denmark.\n",
       "23  First, Je Suis Né D'Une Cigogne was directed by Tony Gatlif, who was born on 10 September 1948. Second, The Legend Of Bagger Vance was directed by Robert Redford, who was born on 18 August 1936. The answer is Tony Gatlif, the director of Je Suis Né D'Une Cigogne, who was born later.\n",
       "24                                                                                                                                                                                             First, Yazid III's father was Walid I. Second, Walid I died in Damascus. The answer is Damascus."
      ]
     },
     "execution_count": 23,
     "metadata": {},
     "output_type": "execute_result"
    }
   ],
   "source": [
    "df.loc[df.high_consistency ==False][['response']]"
   ]
  },
  {
   "cell_type": "markdown",
   "metadata": {},
   "source": [
    "### Test Updated CoT"
   ]
  },
  {
   "cell_type": "code",
   "execution_count": 7,
   "metadata": {},
   "outputs": [],
   "source": [
    "\n",
    "# Consistency Arguments\n",
    "args = consistency_parse_args()\n"
   ]
  },
  {
   "cell_type": "code",
   "execution_count": 8,
   "metadata": {},
   "outputs": [
    {
     "name": "stdout",
     "output_type": "stream",
     "text": [
      "7 not found\n"
     ]
    }
   ],
   "source": [
    "dev_set = read_wikiqa_data(\"data/dev_sampled.json\")\n",
    "# dev_set = dev_set[args.dev_slice:(args.dev_slice + args.num_dev)]"
   ]
  },
  {
   "cell_type": "code",
   "execution_count": 16,
   "metadata": {},
   "outputs": [],
   "source": [
    "id='755fdd7c08a411ebbd7cac1f6bf848b6'"
   ]
  },
  {
   "cell_type": "code",
   "execution_count": 17,
   "metadata": {},
   "outputs": [],
   "source": [
    "test_dev =[i for i in dev_set if i[\"id\"] == id][0]"
   ]
  },
  {
   "cell_type": "code",
   "execution_count": 18,
   "metadata": {},
   "outputs": [
    {
     "data": {
      "text/plain": [
       "{'id': '755fdd7c08a411ebbd7cac1f6bf848b6',\n",
       " 'question': 'Which film whose director was born first, Broadway Or Bust or Ballad Of Tara?',\n",
       " 'answer': 'Broadway Or Bust',\n",
       " 'all_pars': ['Bahrām Beyzāie (also spelt Beizai, Beyza\\'i, , born 26 December 1938) is a critically and popularly acclaimed filmmaker, playwright, theatre director, screenwriter, film editor, and \"ostādmaster\") of Persian letters, arts and Iranian studies.',\n",
       "  'Bahram Beyzaie is the son of the poet Ne\\'matallah Beyzai (best known by his literary pseudonym \"Zokā\\'i\").',\n",
       "  \"The celebrated poet Adib Beyzai, known as one of the most profound poets of 20th-century Iran, is Bahram's paternal uncle.\",\n",
       "  'Bahram Beyzaie\\'s paternal grandfather, Mirzā Mohammad-Rezā Ārāni (\"Ebn Ruh\"), and paternal great-grandfather, the mulla Mohammad-Faqih Ārāni (\"Ruh\\'ol-Amin\"), were also notable poets.',\n",
       "  'In spite of his somewhat belated start in cinema, Beyzai is often considered a pioneer of a generation of filmmakers whose works are sometimes described as the Iranian New Wave.',\n",
       "  'His \"Bashu, the Little Stranger\" (1986) was voted \"Best Iranian Film of all time\" in November 1999 by a Persian movie magazine \"Picture World\" poll of 150 Iranian critics and professionals.',\n",
       "  'Still, even before the outset of his cinematic career in 1970, he was a leading playwright (as well as theater historian), so much so that he is often considered the greatest playwright of the Persian language, and holds a reputation as \"the Shakespeare of Persia.\"',\n",
       "  'Since 2010, Beyzai has lived and taught at Stanford University, United States.',\n",
       "  'Broadway or Bust is a lost 1924 silent film western romantic comedy directed by Edward Sedgwick and starring Hoot Gibson.',\n",
       "  'It was produced and distributed by Universal Pictures.',\n",
       "  'Edward Sedgwick( November 7, 1889 – March 7, 1953) was an American film director, writer, actor and producer.',\n",
       "  'Derek Charles Moore- Brabazon, 2nd Baron Brabazon of Tara( 24 December 1910 – 11 December 1974) succeeded the title Baron Brabazon of Tara in 1964 on the death of his father, John Cuthbert Moore- Brabazon, 1st Baron Brabazon of Tara, carrying it for just ten years until his death in 1974.',\n",
       "  'Ballad of Tara( translit. Tcherike- ye Tara) is a 1979 Iranian film directed by Bahram Bayzai.',\n",
       "  'It competed in the Un Certain Regard section at the 1980 Cannes Film Festival.',\n",
       "  'Henry Walter Moore( 1849 – 20 August 1916) was an English- born first- class cricketer who spent most of his life in New Zealand.',\n",
       "  \"Wale Adebanwi( born 1969) is a Nigerian- born first Black Rhodes Professor at St Antony's College, Oxford.\",\n",
       "  'Hartley W Lobban (9 May 1926 – 15 October 2004) was a Jamaican-born first-class cricketer who played 17 matches for Worcestershire in the early 1950s.',\n",
       "  'Dáire Drechlethan\" Dáire of the Broad Face\" is a King of Tara listed in the Old Irish\" Baile Chuinn Chétchathaig\".',\n",
       "  'His identity with any king of Tara from Irish legend remains uncertain because his epithet is unique in the surviving corpus.',\n",
       "  'However, three candidates have recently been proposed, the most likely being Dáire Doimthech, a well known king of Tara from Irish legend.',\n",
       "  'His kindred, the Dáirine or Corcu Loígde, believed to be related to the Érainn, provided a number of powerful kings of Tara in the early period, and this could not be ignored by the Uí Néill compilers of the list.',\n",
       "  'A descendant( or ancestor) of Dáire Doimthech, Mac Con moccu Lugaid Loígde, is also listed in\" BCC\".',\n",
       "  'Dáire Doimthech is also called Dáire Sírchréchtach or Sírdréchtach often in the tales and genealogies, where he is prominent as an ancestral figure.',\n",
       "  \"On the other hand, he is regarded as an ancestor deity of the Érainn by scholars following the theories of T. F. O'Rahilly.\",\n",
       "  'The alternative candidates are first Dáire mac Cormaic, a son of the famous Cormac mac Airt, an early ancestor of the Uí Néill.',\n",
       "  'Nowhere mentioned in legend as a king of Tara, he is only proposed on the basis of\" BCC\" apparently exhibiting bias in favour of Dál Cuinn candidates.',\n",
       "  'The second is Dáire Barrach son of Cathair Mór, eponymous ancestor of the Uí Bairrche, a Laigin dynasty.',\n",
       "  'Although also nowhere described as a king of Tara, it is also recognized that overlordship of the region in which it lays was won from the Laigin by the Uí Néill, and that a number of Laigin kings of Tara are probably missing from\" BCC\".',\n",
       "  'At the same time this anti-Laiginian bias may make Dáire Barrach the least likely candidate.',\n",
       "  'On the other hand, his son Muiredach Sníthe and grandson Móenach are listed as kings of Tara in the Leinster regnal poem\" Nidu dír dermait\".',\n",
       "  'But see also Laidcenn mac Bairchid.',\n",
       "  'John William Joseph McMahon( 28 December 1917 – 8 May 2001) was an Australian- born first- class cricketer who played for Surrey and Somerset in England from 1947 to 1957.'],\n",
       " 'supp_pars': ['Broadway or Bust is a lost 1924 silent film western romantic comedy directed by Edward Sedgwick and starring Hoot Gibson.',\n",
       "  'Ballad of Tara( translit. Tcherike- ye Tara) is a 1979 Iranian film directed by Bahram Bayzai.',\n",
       "  'Edward Sedgwick( November 7, 1889 – March 7, 1953) was an American film director, writer, actor and producer.',\n",
       "  'Bahrām Beyzāie (also spelt Beizai, Beyza\\'i, , born 26 December 1938) is a critically and popularly acclaimed filmmaker, playwright, theatre director, screenwriter, film editor, and \"ostādmaster\") of Persian letters, arts and Iranian studies.']}"
      ]
     },
     "execution_count": 18,
     "metadata": {},
     "output_type": "execute_result"
    }
   ],
   "source": [
    "test_dev"
   ]
  },
  {
   "cell_type": "code",
   "execution_count": 13,
   "metadata": {},
   "outputs": [
    {
     "data": {
      "text/plain": [
       "'Are the movies The Statement (Film) and A Self Made Hero, from the same country?'"
      ]
     },
     "execution_count": 13,
     "metadata": {},
     "output_type": "execute_result"
    }
   ],
   "source": [
    "test_dev[\"question\"]"
   ]
  },
  {
   "cell_type": "code",
   "execution_count": 19,
   "metadata": {},
   "outputs": [],
   "source": [
    "raw_pred = consistency_in_context_manual_prediction(test_dev, cot_prompt, engine=args.engine, prompt_helper=args.helper, length_test_only=False, n=args.num_shot)"
   ]
  },
  {
   "cell_type": "code",
   "execution_count": 15,
   "metadata": {},
   "outputs": [
    {
     "data": {
      "text/plain": [
       "{'responses': ['First, The Statement (Film) is a 2003 film from France. Second, A Self Made Hero is a 1996 French film. The answer is France.',\n",
       "  'First, The Statement (Film) is a movie from Canada. Second, A Self Made Hero is a movie from France. The answer is no.',\n",
       "  'First, The Statement (Film) is a movie from France. Second, A Self Made Hero is also a movie from France. The answer is France.',\n",
       "  'First, The Statement (Film) is a film from France. Second, A Self Made Hero is also a French film. The answer is France.',\n",
       "  'First, The Statement (Film) is a movie from France. Second, A Self Made Hero is also a movie from France. The answer is France.'],\n",
       " 'id': '9c4a7a4f090c11ebbdadac1f6bf848b6',\n",
       " 'question': 'Are the movies The Statement (Film) and A Self Made Hero, from the same country?',\n",
       " 'right_answer': 'yes'}"
      ]
     },
     "execution_count": 15,
     "metadata": {},
     "output_type": "execute_result"
    }
   ],
   "source": [
    "raw_pred"
   ]
  },
  {
   "cell_type": "code",
   "execution_count": 20,
   "metadata": {},
   "outputs": [
    {
     "data": {
      "text/plain": [
       "{'responses': ['First, the director of Broadway Or Bust was born in 1931. Second, the director of Ballad Of Tara was born in 1943. The answer is 1931.',\n",
       "  'First, the director of Broadway Or Bust, Rick McKay, was born on January 20, 1962. Second, the director of Ballad Of Tara, Henry Jaglom, was born on January 26, 1938. The answer is 1938.',\n",
       "  'First, the director of \"Broadway Or Bust\" was born in 1968. Second, the director of \"Ballad Of Tara\" was born in 1966. The answer is 1966.',\n",
       "  'First, the director of \"Broadway Or Bust\" is Greg Vander Veer. Second, Greg Vander Veer was born on February 20, 1950. \\nFirst, the director of \"Ballad Of Tara\" is Jorge Ameer. Second, Jorge Ameer was born on March 15, 1962. \\nThe answer is 1950.',\n",
       "  'First, \"Broadway Or Bust\" was directed by Robert N. Zagone. Second, Robert N. Zagone was born on November 17, 1960. \\n\\nFirst, \"Ballad Of Tara\" was directed by Chandra Siddhartha. Second, Chandra Siddhartha was born on October 9, 1968. \\n\\nThe answer is 1960.'],\n",
       " 'id': '755fdd7c08a411ebbd7cac1f6bf848b6',\n",
       " 'question': 'Which film whose director was born first, Broadway Or Bust or Ballad Of Tara?',\n",
       " 'right_answer': 'Broadway Or Bust'}"
      ]
     },
     "execution_count": 20,
     "metadata": {},
     "output_type": "execute_result"
    }
   ],
   "source": [
    "raw_pred"
   ]
  },
  {
   "cell_type": "code",
   "execution_count": 22,
   "metadata": {},
   "outputs": [
    {
     "name": "stdout",
     "output_type": "stream",
     "text": [
      "\n",
      "Instructions:\n",
      "1. You must always answer using the following chain-of-thought format.\n",
      "2. Explicitly state the final answer in the form: \"The answer is <final_answer>.\"\n",
      "3. Ensure the final answer is a single word or entity (not a complete sentence).\n",
      "4. Refer to the examples below to guide your responses.\n",
      "\n",
      "Examples:\n",
      "\n",
      "Q: This British racing driver came in third at the 2014 Bahrain GP2 Series round and was born in what year \n",
      "A: First, at the 2014 Bahrain GP2 Series round, DAMS driver Jolyon Palmer came in third. Second, Jolyon Palmer (born 20 January 1991) is a British racing driver. The answer is 1991. \n",
      "\n",
      "Q: What band did Antony King work with that formed in 1985 in Manchester? \n",
      "A: First, Antony King worked as house engineer for Simply Red. Second, Simply Red formed in 1985 in Manchester. The answer is Simply Red.  \n",
      "\n",
      "Q: How many inhabitants were in the city close to where Alberta Ferretti’s studios was located? \n",
      "A: First, Alberta Ferretti’s studio is near Rimini. Second, Rimini is a city of 146,606 inhabitants. The answer is 146,606. \n",
      "\n",
      "Q: TLC: Tables, Ladders & Chairs was a wrestling event featuring which American wrestler and rap- per in the main event? \n",
      "A: First, TLC: Tables, Ladders & Chairs was a wrestling event featuring John Cena in the main event. Second, John Cena is an American wrestler and rapper. The answer is John Felix Anthony Cena. \n",
      "\n",
      "Q: The person who received the Order of the Ele- phant on 31 January 1998 was born on what date?\n",
      "A: First, on 31 January 1998, King Willem- Alexander received the Order of the Elephant. Sec- ond, Willem-Alexander was born on 27 April 1967. The answer is 27 April 1967. \n",
      "\n",
      "Q: III - Odyssey of the Mind is the sixth album by a German band formed in what city? \n",
      "A: First, III - Odyssey of the Mind is the sixth album by the German band Die Krupps. Second, Die Krupps is formed in Düsseldorf. The answer is Düsseldorf. \t\n",
      "\n"
     ]
    }
   ],
   "source": [
    "print(cot_prompt)"
   ]
  },
  {
   "cell_type": "markdown",
   "metadata": {},
   "source": [
    "#### Mapping Data with Anomalies in the Original Run with the new run values"
   ]
  },
  {
   "cell_type": "code",
   "execution_count": 23,
   "metadata": {},
   "outputs": [
    {
     "data": {
      "text/plain": [
       "(100, 20)"
      ]
     },
     "execution_count": 23,
     "metadata": {},
     "output_type": "execute_result"
    }
   ],
   "source": [
    "df1 = pd.read_csv('ve_predictions_cot_iter_0_100.csv')\n",
    "df1.shape"
   ]
  },
  {
   "cell_type": "code",
   "execution_count": 24,
   "metadata": {},
   "outputs": [
    {
     "data": {
      "text/plain": [
       "(149, 20)"
      ]
     },
     "execution_count": 24,
     "metadata": {},
     "output_type": "execute_result"
    }
   ],
   "source": [
    "df2 = pd.read_csv('misc/ve_predictions_cot_iter_100_250.csv')\n",
    "df2.shape"
   ]
  },
  {
   "cell_type": "code",
   "execution_count": 25,
   "metadata": {},
   "outputs": [
    {
     "data": {
      "text/plain": [
       "(85, 20)"
      ]
     },
     "execution_count": 25,
     "metadata": {},
     "output_type": "execute_result"
    }
   ],
   "source": [
    "df1_normal = df1.loc[df1.answer != 'NOT ENOUGH INFO']\n",
    "df1_normal.shape"
   ]
  },
  {
   "cell_type": "code",
   "execution_count": 26,
   "metadata": {},
   "outputs": [
    {
     "data": {
      "text/plain": [
       "(117, 20)"
      ]
     },
     "execution_count": 26,
     "metadata": {},
     "output_type": "execute_result"
    }
   ],
   "source": [
    "df2_normal = df2.loc[df2.answer !='NOT ENOUGH INFO']\n",
    "df2_normal.shape"
   ]
  },
  {
   "cell_type": "code",
   "execution_count": 27,
   "metadata": {},
   "outputs": [
    {
     "data": {
      "text/plain": [
       "(202, 20)"
      ]
     },
     "execution_count": 27,
     "metadata": {},
     "output_type": "execute_result"
    }
   ],
   "source": [
    "df_normal_all = pd.concat([df1_normal, df2_normal], axis =0)\n",
    "df_normal_all.shape"
   ]
  },
  {
   "cell_type": "code",
   "execution_count": 36,
   "metadata": {},
   "outputs": [
    {
     "data": {
      "text/plain": [
       "15"
      ]
     },
     "execution_count": 36,
     "metadata": {},
     "output_type": "execute_result"
    }
   ],
   "source": [
    "df1_abnormal_ids= list(df1.loc[df1.answer =='NOT ENOUGH INFO']['id'])\n",
    "\n",
    "len(df1_abnormal_ids)"
   ]
  },
  {
   "cell_type": "code",
   "execution_count": 38,
   "metadata": {},
   "outputs": [
    {
     "data": {
      "text/plain": [
       "32"
      ]
     },
     "execution_count": 38,
     "metadata": {},
     "output_type": "execute_result"
    }
   ],
   "source": [
    "df2_abnormal_ids =list(df2.loc[df2.answer =='NOT ENOUGH INFO']['id'])\n",
    "len(df2_abnormal_ids)"
   ]
  },
  {
   "cell_type": "code",
   "execution_count": 39,
   "metadata": {},
   "outputs": [
    {
     "data": {
      "text/plain": [
       "47"
      ]
     },
     "execution_count": 39,
     "metadata": {},
     "output_type": "execute_result"
    }
   ],
   "source": [
    "ids_abnormal = df1_abnormal_ids + df2_abnormal_ids\n",
    "len(ids_abnormal)"
   ]
  },
  {
   "cell_type": "markdown",
   "metadata": {},
   "source": [
    "### Mapping data from new run"
   ]
  },
  {
   "cell_type": "code",
   "execution_count": 41,
   "metadata": {},
   "outputs": [
    {
     "data": {
      "text/plain": [
       "(249, 21)"
      ]
     },
     "execution_count": 41,
     "metadata": {},
     "output_type": "execute_result"
    }
   ],
   "source": [
    "df_new = pd.read_csv('misc/ve_predictions_cot_iter_latest_0_250.csv')\n",
    "df_new.shape"
   ]
  },
  {
   "cell_type": "code",
   "execution_count": 42,
   "metadata": {},
   "outputs": [
    {
     "data": {
      "text/plain": [
       "(47, 21)"
      ]
     },
     "execution_count": 42,
     "metadata": {},
     "output_type": "execute_result"
    }
   ],
   "source": [
    "df_new_abnormal = df_new[df_new.id.isin(ids_abnormal)]\n",
    "df_new_abnormal.shape"
   ]
  },
  {
   "cell_type": "code",
   "execution_count": 44,
   "metadata": {},
   "outputs": [
    {
     "data": {
      "text/plain": [
       "['Unnamed: 0',\n",
       " 'response',\n",
       " 'id',\n",
       " 'question',\n",
       " 'right_answer',\n",
       " 'consistency',\n",
       " 'rationale',\n",
       " 'answer',\n",
       " 'original_answers',\n",
       " 'original_rationales',\n",
       " 'consistency_time',\n",
       " 'high_consistency',\n",
       " 'verifying_questions',\n",
       " 'time_verifying_answer',\n",
       " 'time_context_and_verifying_answer',\n",
       " 'context',\n",
       " 'verifying_answers',\n",
       " 'time_answer_again',\n",
       " 'new_answer',\n",
       " 'time_taken_sec',\n",
       " 'match_flag']"
      ]
     },
     "execution_count": 44,
     "metadata": {},
     "output_type": "execute_result"
    }
   ],
   "source": [
    "list(df_new_abnormal.columns)"
   ]
  },
  {
   "cell_type": "code",
   "execution_count": 45,
   "metadata": {},
   "outputs": [
    {
     "name": "stderr",
     "output_type": "stream",
     "text": [
      "/var/folders/v5/0xf6m2_x0wx0j8k4xktnvxbr0000gn/T/ipykernel_8714/1846138354.py:1: SettingWithCopyWarning: \n",
      "A value is trying to be set on a copy of a slice from a DataFrame\n",
      "\n",
      "See the caveats in the documentation: https://pandas.pydata.org/pandas-docs/stable/user_guide/indexing.html#returning-a-view-versus-a-copy\n",
      "  df_new_abnormal.drop(columns='Unnamed: 0', inplace= True)\n"
     ]
    }
   ],
   "source": [
    "df_new_abnormal.drop(columns='Unnamed: 0', inplace= True)"
   ]
  },
  {
   "cell_type": "code",
   "execution_count": 46,
   "metadata": {},
   "outputs": [
    {
     "data": {
      "text/plain": [
       "(47, 20)"
      ]
     },
     "execution_count": 46,
     "metadata": {},
     "output_type": "execute_result"
    }
   ],
   "source": [
    "df_new_abnormal.shape"
   ]
  },
  {
   "cell_type": "code",
   "execution_count": 47,
   "metadata": {},
   "outputs": [
    {
     "data": {
      "text/plain": [
       "(249, 20)"
      ]
     },
     "execution_count": 47,
     "metadata": {},
     "output_type": "execute_result"
    }
   ],
   "source": [
    "df_final = pd.concat([df_normal_all, df_new_abnormal], axis =0)\n",
    "df_final.shape"
   ]
  },
  {
   "cell_type": "code",
   "execution_count": 48,
   "metadata": {},
   "outputs": [],
   "source": [
    "df_final.to_csv('misc/ve_predictions_cot_iter_final_0_250.csv')"
   ]
  },
  {
   "cell_type": "code",
   "execution_count": null,
   "metadata": {},
   "outputs": [],
   "source": []
  }
 ],
 "metadata": {
  "kernelspec": {
   "display_name": "Python 3",
   "language": "python",
   "name": "python3"
  },
  "language_info": {
   "codemirror_mode": {
    "name": "ipython",
    "version": 3
   },
   "file_extension": ".py",
   "mimetype": "text/x-python",
   "name": "python",
   "nbconvert_exporter": "python",
   "pygments_lexer": "ipython3",
   "version": "3.12.7"
  }
 },
 "nbformat": 4,
 "nbformat_minor": 2
}
